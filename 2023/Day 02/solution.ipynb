{
 "cells": [
  {
   "cell_type": "code",
   "execution_count": 1,
   "id": "9e03644b-4e6b-4999-ab7a-e6d53db00b0e",
   "metadata": {},
   "outputs": [],
   "source": [
    "import re"
   ]
  },
  {
   "cell_type": "code",
   "execution_count": 2,
   "id": "c4da728f-562a-4802-a9f8-8dbfc57240cc",
   "metadata": {},
   "outputs": [],
   "source": [
    "with open(\"./input.txt\",\"r\") as file: \n",
    "    data = file.read().strip().split(\"\\n\")"
   ]
  },
  {
   "cell_type": "code",
   "execution_count": 3,
   "id": "e2274c0c-213c-42df-8239-c3aa109e3c74",
   "metadata": {},
   "outputs": [],
   "source": [
    "class Draw: \n",
    "    def __init__(self, count, color): \n",
    "        self.count = int(count)\n",
    "        self.color = color\n",
    "\n",
    "    @classmethod\n",
    "    def parse(cls, string): \n",
    "        return cls(*string.strip().split(\" \"))\n",
    "\n",
    "    def __repr__(self): \n",
    "        return f\"{self.count} {self.color}\"\n",
    "\n",
    "class Sample: \n",
    "    def __init__(self, draws): \n",
    "        self.draws = draws\n",
    "\n",
    "    @classmethod\n",
    "    def parse(cls, string): \n",
    "        return cls([Draw.parse(token) for token in string.split(\",\")])\n",
    "\n",
    "    def __repr__(self): \n",
    "        return \", \".join(repr(d) for d in self.draws)\n",
    "\n",
    "    def __getitem__(self, color):\n",
    "        try:\n",
    "            return [d for d in self.draws if d.color == color][0].count\n",
    "        except IndexError:\n",
    "            return 0\n",
    "\n",
    "class Game: \n",
    "    def __init__(self, name, samples): \n",
    "        self.name = name\n",
    "        self.samples = samples\n",
    "\n",
    "    @classmethod\n",
    "    def parse(cls, string): \n",
    "        return cls(\n",
    "            name=string.split(\":\")[0],\n",
    "            samples=[Sample.parse(substring) for substring in string.split(\":\")[1].split(\";\")]\n",
    "        )\n",
    "\n",
    "    @property\n",
    "    def id(self):\n",
    "        return int(self.name.split(\" \")[-1])\n",
    "\n",
    "    def __repr__(self):\n",
    "        return f\"{self.name}: {'; '.join(repr(s) for s in self.samples)}\"\n",
    "\n",
    "    def maxcounts(self): \n",
    "        return {\n",
    "            color:max(\n",
    "                sample[color] \n",
    "                for sample in self.samples\n",
    "            ) \n",
    "            for color \n",
    "            in [\"red\",\"blue\",\"green\"]\n",
    "        }\n",
    "\n",
    "    def power(self):\n",
    "        output = 1\n",
    "        for color, count in self.maxcounts().items(): \n",
    "            output *= max(count, 1)\n",
    "        return output"
   ]
  },
  {
   "cell_type": "code",
   "execution_count": 4,
   "id": "5764da10-bb26-4663-851e-5be941089e43",
   "metadata": {},
   "outputs": [
    {
     "data": {
      "text/plain": [
       "2265"
      ]
     },
     "execution_count": 4,
     "metadata": {},
     "output_type": "execute_result"
    }
   ],
   "source": [
    "def part1(data): \n",
    "    conditions = {\n",
    "        \"red\":12, \n",
    "        \"green\":13, \n",
    "        \"blue\":14\n",
    "    }\n",
    "    \n",
    "    output = []\n",
    "    for row in data:\n",
    "        game = Game.parse(row)\n",
    "        for color, count in conditions.items(): \n",
    "            if game.maxcounts()[color] > conditions[color]: \n",
    "                break\n",
    "        else: \n",
    "            output.append(game)\n",
    "    return sum(game.id for game in output)\n",
    "    \n",
    "        \n",
    "part1(data)    "
   ]
  },
  {
   "cell_type": "code",
   "execution_count": 5,
   "id": "3ca3a77e-81d6-4b73-8d4f-2629d0f89634",
   "metadata": {},
   "outputs": [
    {
     "data": {
      "text/plain": [
       "64097"
      ]
     },
     "execution_count": 5,
     "metadata": {},
     "output_type": "execute_result"
    }
   ],
   "source": [
    "def part2(data): \n",
    "    return sum([Game.parse(row).power() for row in data])\n",
    "\n",
    "part2(data)"
   ]
  }
 ],
 "metadata": {
  "kernelspec": {
   "display_name": "Python 3 (ipykernel)",
   "language": "python",
   "name": "python3"
  },
  "language_info": {
   "codemirror_mode": {
    "name": "ipython",
    "version": 3
   },
   "file_extension": ".py",
   "mimetype": "text/x-python",
   "name": "python",
   "nbconvert_exporter": "python",
   "pygments_lexer": "ipython3",
   "version": "3.10.9"
  }
 },
 "nbformat": 4,
 "nbformat_minor": 5
}
