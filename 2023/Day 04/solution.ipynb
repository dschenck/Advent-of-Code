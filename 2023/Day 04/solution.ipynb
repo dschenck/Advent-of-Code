{
 "cells": [
  {
   "cell_type": "code",
   "execution_count": 1,
   "id": "b497e695-b800-4904-92df-1bf4f1a5b03c",
   "metadata": {},
   "outputs": [],
   "source": [
    "import re"
   ]
  },
  {
   "cell_type": "code",
   "execution_count": 2,
   "id": "0ab31781-cc29-47aa-b80b-5ae25f8eb9a6",
   "metadata": {},
   "outputs": [],
   "source": [
    "with open(\"./input.txt\", \"r\") as file:\n",
    "    data = file.read().strip().split(\"\\n\")"
   ]
  },
  {
   "cell_type": "code",
   "execution_count": 3,
   "id": "65a9d7e4-e380-48ee-8a31-c0ffcdc425b3",
   "metadata": {},
   "outputs": [],
   "source": [
    "class Card:\n",
    "    def __init__(self, name, winners, numbers):\n",
    "        self.name    = name\n",
    "        self.winners = winners\n",
    "        self.numbers = numbers\n",
    "\n",
    "    @classmethod\n",
    "    def parse(cls, string) -> \"Card\":\n",
    "        \"\"\"\n",
    "        Parse an input string\n",
    "        \"\"\"\n",
    "        name, rest = string.split(\":\")\n",
    "        winners, numbers = rest.split(\"|\")\n",
    "\n",
    "        return cls(\n",
    "            name, \n",
    "            [int(match.group()) for match in re.finditer(\"\\d+\", winners)],\n",
    "            [int(match.group()) for match in re.finditer(\"\\d+\", numbers)],\n",
    "        )\n",
    "\n",
    "    @property\n",
    "    def wins(self) -> int: \n",
    "        \"\"\"\n",
    "        Returns the number of winning numbers\n",
    "        \"\"\"\n",
    "        return sum(1 for n in self.numbers if n in self.winners)\n",
    "    \n",
    "    @property\n",
    "    def points(self) -> int:\n",
    "        \"\"\"\n",
    "        Returns the number of points of the card\n",
    "        \"\"\"\n",
    "        if self.wins == 0: \n",
    "            return 0\n",
    "            \n",
    "        return 2**(self.wins - 1)"
   ]
  },
  {
   "cell_type": "markdown",
   "id": "752313ec-4463-4ec2-83e7-b7242d872253",
   "metadata": {},
   "source": [
    "# Part 1"
   ]
  },
  {
   "cell_type": "code",
   "execution_count": 4,
   "id": "c1dce1ef-eb2d-4634-96f1-46f2fc1b6936",
   "metadata": {},
   "outputs": [
    {
     "data": {
      "text/plain": [
       "23847"
      ]
     },
     "execution_count": 4,
     "metadata": {},
     "output_type": "execute_result"
    }
   ],
   "source": [
    "def solve(data):\n",
    "    cards = []\n",
    "    for row in data: \n",
    "        cards.append(Card.parse(row))\n",
    "    return sum([card.points for card in cards])\n",
    "\n",
    "solve(data)"
   ]
  },
  {
   "cell_type": "markdown",
   "id": "128ff1b1-89b4-458e-bfc1-66d15ab800c5",
   "metadata": {},
   "source": [
    "# Part 2"
   ]
  },
  {
   "cell_type": "code",
   "execution_count": 5,
   "id": "c861e432-0429-44a8-bd71-07ee88995c96",
   "metadata": {},
   "outputs": [],
   "source": [
    "class Node: \n",
    "    def __init__(self, value, children): \n",
    "        self.value    = value\n",
    "        self.children = [c for c in children]\n",
    "\n",
    "    @property\n",
    "    def size(self):\n",
    "        \"\"\"\n",
    "        Returns the size of the branch (including self)\n",
    "        \"\"\"\n",
    "        if len(self.children) == 0: \n",
    "            return 1\n",
    "            \n",
    "        return 1 + sum(child.size for child in self.children)"
   ]
  },
  {
   "cell_type": "code",
   "execution_count": 6,
   "id": "516322a8-b617-4109-b6b1-6ee68c3444a3",
   "metadata": {},
   "outputs": [
    {
     "data": {
      "text/plain": [
       "8570000"
      ]
     },
     "execution_count": 6,
     "metadata": {},
     "output_type": "execute_result"
    }
   ],
   "source": [
    "def solve(data):\n",
    "    nodes = {}\n",
    "    for i, row in enumerate(data[::-1]): \n",
    "        card = Card.parse(row)\n",
    "        nodes[i] = Node(card, [c for c in [nodes.get(i - j) for j in range(1, card.wins + 1)] if c is not None])\n",
    "    return sum(node.size for node in nodes.values())\n",
    "\n",
    "solve(data)"
   ]
  }
 ],
 "metadata": {
  "kernelspec": {
   "display_name": "Python 3 (ipykernel)",
   "language": "python",
   "name": "python3"
  },
  "language_info": {
   "codemirror_mode": {
    "name": "ipython",
    "version": 3
   },
   "file_extension": ".py",
   "mimetype": "text/x-python",
   "name": "python",
   "nbconvert_exporter": "python",
   "pygments_lexer": "ipython3",
   "version": "3.10.9"
  }
 },
 "nbformat": 4,
 "nbformat_minor": 5
}
