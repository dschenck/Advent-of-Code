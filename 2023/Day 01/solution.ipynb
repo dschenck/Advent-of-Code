{
 "cells": [
  {
   "cell_type": "code",
   "execution_count": 1,
   "id": "4b5a5dcc",
   "metadata": {},
   "outputs": [],
   "source": [
    "with open(\"./input.txt\", \"r\") as file: \n",
    "    data = file.read().strip().split(\"\\n\")\n"
   ]
  },
  {
   "cell_type": "markdown",
   "id": "4be52f2b",
   "metadata": {},
   "source": [
    "# Part 1"
   ]
  },
  {
   "cell_type": "code",
   "execution_count": 2,
   "id": "157404ae",
   "metadata": {},
   "outputs": [
    {
     "data": {
      "text/plain": [
       "54601"
      ]
     },
     "execution_count": 2,
     "metadata": {},
     "output_type": "execute_result"
    }
   ],
   "source": [
    "def parse(row:str) -> tuple: \n",
    "    \"\"\"\n",
    "    Parses the row\n",
    "    \"\"\"\n",
    "    parsed = [char for char in row if char in \"0123456789\"]\n",
    "    return int(parsed[0] + parsed[-1])\n",
    "\n",
    "def solve(data:list[str]) -> int:\n",
    "    return sum(parse(row) for row in data)\n",
    "\n",
    "solve(data)"
   ]
  },
  {
   "cell_type": "markdown",
   "id": "831dcb12",
   "metadata": {},
   "source": [
    "# Part 2"
   ]
  },
  {
   "cell_type": "code",
   "execution_count": 3,
   "id": "8b8c29e9",
   "metadata": {},
   "outputs": [
    {
     "data": {
      "text/plain": [
       "54078"
      ]
     },
     "execution_count": 3,
     "metadata": {},
     "output_type": "execute_result"
    }
   ],
   "source": [
    "mapping = {\n",
    "    k:i \n",
    "    for i, k in enumerate(\n",
    "        \"zero,one,two,three,four,five,six,seven,eight,nine\".split(\",\")\n",
    "    )\n",
    "}\n",
    "\n",
    "def parse(row): \n",
    "    parsed = []\n",
    "    for i, char in enumerate(row): \n",
    "        if char in \"123456789\": \n",
    "            parsed.append(char)\n",
    "            continue\n",
    "        for w, word in enumerate(mapping): \n",
    "            if row[i:].startswith(word): \n",
    "                parsed.append(str(w))\n",
    "                break\n",
    "                \n",
    "    return int(parsed[0] + parsed[-1])\n",
    "\n",
    "def solve(data): \n",
    "    return sum(parse(row) for row in data)\n",
    "\n",
    "solve(data)"
   ]
  }
 ],
 "metadata": {
  "kernelspec": {
   "display_name": "Python 3 (ipykernel)",
   "language": "python",
   "name": "python3"
  },
  "language_info": {
   "codemirror_mode": {
    "name": "ipython",
    "version": 3
   },
   "file_extension": ".py",
   "mimetype": "text/x-python",
   "name": "python",
   "nbconvert_exporter": "python",
   "pygments_lexer": "ipython3",
   "version": "3.9.1"
  }
 },
 "nbformat": 4,
 "nbformat_minor": 5
}
