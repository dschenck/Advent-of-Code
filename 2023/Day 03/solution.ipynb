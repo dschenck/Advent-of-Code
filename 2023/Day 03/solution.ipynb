{
 "cells": [
  {
   "cell_type": "code",
   "execution_count": 1,
   "id": "e696d518-1099-4e85-9a35-a8fc838a62c8",
   "metadata": {},
   "outputs": [],
   "source": [
    "import re"
   ]
  },
  {
   "cell_type": "code",
   "execution_count": 2,
   "id": "995ab1aa-f5b3-4731-96ef-b9598fedd19c",
   "metadata": {},
   "outputs": [],
   "source": [
    "with open(\"./input.txt\", \"r\") as file: \n",
    "    data = file.read().strip().split(\"\\n\")"
   ]
  },
  {
   "cell_type": "code",
   "execution_count": 3,
   "id": "486cfdaa-4cf0-4d9a-b3c2-0b9b810fcbee",
   "metadata": {},
   "outputs": [],
   "source": [
    "class Point: \n",
    "    def __init__(self, x, y): \n",
    "        self.x = x\n",
    "        self.y = y\n",
    "\n",
    "    def __repr__(self): \n",
    "        return f\"Point({self.x},{self.y})\"\n",
    "\n",
    "    def distance(self, other:\"Point\"): \n",
    "        \"\"\"\n",
    "        Returns the squared euclidian distance from self to another point\n",
    "        \"\"\"\n",
    "        return ((other.x - self.x)**2 + abs(other.y - self.y)**2)**0.5"
   ]
  },
  {
   "cell_type": "code",
   "execution_count": 4,
   "id": "af6353c7-6b68-4dae-934a-2d9355fa2196",
   "metadata": {},
   "outputs": [],
   "source": [
    "class Span: \n",
    "    def __init__(self, start:Point, stop:Point):\n",
    "        self.start = start\n",
    "        self.stop  = stop\n",
    "        \n",
    "    def __repr__(self): \n",
    "        return f\"Span({self.start}, {self.stop})\"\n",
    "\n",
    "    def __contains__(self, point:Point): \n",
    "        \"\"\"\n",
    "        Returns True if a point is contained in self\n",
    "        \"\"\"\n",
    "        if self.start.x <= point.x <= self.stop.x: \n",
    "            return point.y == self.start.y\n",
    "        return False\n",
    "        \n",
    "    def __iter__(self): \n",
    "        \"\"\"\n",
    "        Returns all the points contained in the span\n",
    "        \"\"\"\n",
    "        for x in range(self.start.x, self.stop.x + 1): \n",
    "            yield Point(x, self.start.y)\n",
    "\n",
    "    def distance(self, point: Point): \n",
    "        \"\"\"\n",
    "        Returns the minimum distance to a point\n",
    "        \"\"\"\n",
    "        return min(p.distance(point) for p in self)"
   ]
  },
  {
   "cell_type": "code",
   "execution_count": 5,
   "id": "2eb3f385-1de8-4207-b709-a1a7f27e6507",
   "metadata": {},
   "outputs": [],
   "source": [
    "class Number: \n",
    "    def __init__(self, value, location): \n",
    "        self.value = value\n",
    "        self.location = location\n",
    "\n",
    "    def __repr__(self):\n",
    "        return f\"Number({self.value} at {self.location})\""
   ]
  },
  {
   "cell_type": "code",
   "execution_count": 6,
   "id": "7498873a-0173-41c7-9e2e-12e0e48c7152",
   "metadata": {},
   "outputs": [],
   "source": [
    "class Symbol: \n",
    "    def __init__(self, value, location): \n",
    "        self.value = value\n",
    "        self.location = location\n",
    "\n",
    "    def __repr__(self):\n",
    "        return f\"Symbol({self.value} at {self.location})\""
   ]
  },
  {
   "cell_type": "code",
   "execution_count": 7,
   "id": "63f2c1a8-d7ed-4da1-a61c-4224ae62700d",
   "metadata": {},
   "outputs": [],
   "source": [
    "def parse(data): \n",
    "    \"\"\"\n",
    "    Parse the data and return a tuple of all numbers and all symbols. \n",
    "\n",
    "    Returns\n",
    "    -------\n",
    "    tuple[list, list]\n",
    "        list of numbers and list of symbols\n",
    "    \"\"\"\n",
    "    numbers = []\n",
    "    for y, row in enumerate(data): \n",
    "        for match in re.finditer(\"\\d+\", row): \n",
    "            numbers.append(\n",
    "                Number(\n",
    "                    int(match.group()), \n",
    "                    Span(Point(match.span()[0], y), Point(match.span()[1] - 1, y))\n",
    "                )\n",
    "            )\n",
    "    \n",
    "    symbols = []\n",
    "    for y, row in enumerate(data): \n",
    "        for x, char in enumerate(row): \n",
    "            if char != \".\" and not re.match(\"\\d\", char): \n",
    "                symbols.append(\n",
    "                    Symbol(char, Point(x, y))\n",
    "                )\n",
    "\n",
    "    return numbers, symbols"
   ]
  },
  {
   "cell_type": "markdown",
   "id": "abe0e45f-e1ee-46f0-bb35-e1f5fdbe977b",
   "metadata": {},
   "source": [
    "# Part 1"
   ]
  },
  {
   "cell_type": "code",
   "execution_count": 8,
   "id": "8e243c65-6b7f-4379-8a82-9e91cd3c88a7",
   "metadata": {},
   "outputs": [
    {
     "data": {
      "text/plain": [
       "521601"
      ]
     },
     "execution_count": 8,
     "metadata": {},
     "output_type": "execute_result"
    }
   ],
   "source": [
    "def solve(data):\n",
    "    \"\"\"\n",
    "    Return the sum of all numbers adjacents to a symbol\n",
    "    \"\"\"\n",
    "    numbers, symbols = parse(data)\n",
    "    \n",
    "    parts = []\n",
    "    for number in numbers: \n",
    "        for symbol in symbols: \n",
    "            if number.location.distance(symbol.location) <= 2**0.5: \n",
    "                parts.append(number)\n",
    "    \n",
    "    return sum(part.value for part in set(parts))\n",
    "\n",
    "solve(data)"
   ]
  },
  {
   "cell_type": "markdown",
   "id": "45e05df7-8329-454b-b8c6-35956400a57f",
   "metadata": {},
   "source": [
    "# Part 2"
   ]
  },
  {
   "cell_type": "code",
   "execution_count": 9,
   "id": "fa49ebcf-641a-4308-9174-8f2181d8ac17",
   "metadata": {},
   "outputs": [
    {
     "data": {
      "text/plain": [
       "80694070"
      ]
     },
     "execution_count": 9,
     "metadata": {},
     "output_type": "execute_result"
    }
   ],
   "source": [
    "def solve(data):\n",
    "    \"\"\"\n",
    "    Return the sum of all gear products, where the gear product is the product\n",
    "    of the two numbers adjacents to a gear. \n",
    "\n",
    "    A gear is a '*' symbol adjacent to exactly two numbers\n",
    "    \"\"\"\n",
    "    numbers, symbols = parse(data)\n",
    "    \n",
    "    gears = []\n",
    "    for symbol in symbols: \n",
    "        # a gearbox is represented by a * symbol\n",
    "        if symbol.value != \"*\":\n",
    "            continue\n",
    "\n",
    "        # find all the numbers adjacent to the symbol\n",
    "        adjacents = []\n",
    "        for number in numbers: \n",
    "            if number.location.distance(symbol.location) <= 2**0.5: \n",
    "                adjacents.append(number)\n",
    "\n",
    "        # there must be exactly 2 adjacents for such symbol to count as a gear\n",
    "        if len(adjacents) == 2: \n",
    "            gears.append(adjacents[0].value * adjacents[1].value)\n",
    "    \n",
    "    return sum(gears)\n",
    "\n",
    "solve(data)"
   ]
  }
 ],
 "metadata": {
  "kernelspec": {
   "display_name": "Python 3 (ipykernel)",
   "language": "python",
   "name": "python3"
  },
  "language_info": {
   "codemirror_mode": {
    "name": "ipython",
    "version": 3
   },
   "file_extension": ".py",
   "mimetype": "text/x-python",
   "name": "python",
   "nbconvert_exporter": "python",
   "pygments_lexer": "ipython3",
   "version": "3.10.9"
  }
 },
 "nbformat": 4,
 "nbformat_minor": 5
}
