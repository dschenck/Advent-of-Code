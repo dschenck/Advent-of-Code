{
 "cells": [
  {
   "cell_type": "code",
   "execution_count": 1,
   "metadata": {},
   "outputs": [],
   "source": [
    "with open(\"input.txt\", \"r\") as file: \n",
    "    data = file.read().strip()"
   ]
  },
  {
   "cell_type": "markdown",
   "metadata": {},
   "source": [
    "## Part 1"
   ]
  },
  {
   "cell_type": "code",
   "execution_count": 2,
   "metadata": {},
   "outputs": [
    {
     "data": {
      "text/plain": [
       "6530"
      ]
     },
     "execution_count": 2,
     "metadata": {},
     "output_type": "execute_result"
    }
   ],
   "source": [
    "import re\n",
    "\n",
    "def split(data):\n",
    "    \"\"\"\n",
    "    Splits the data into groups of person answers\n",
    "    \"\"\"\n",
    "    groups = []\n",
    "    for group in re.split(\"\\n{2,}\", data): \n",
    "        groups.append(group.split(\"\\n\"))\n",
    "    return groups\n",
    "\n",
    "assert isinstance(split(data), list)\n",
    "\n",
    "def union(answers): \n",
    "    \"\"\"\n",
    "    Create the union of all individual answers\n",
    "    \"\"\"\n",
    "    return set().union(*answers)\n",
    "\n",
    "assert union([\"ABC\",\"BCD\",\"DAF\"]) == set(\"ABCDF\")\n",
    "\n",
    "def run(data):\n",
    "    return sum(len(union(group)) for group in split(data))\n",
    "\n",
    "run(data)"
   ]
  },
  {
   "cell_type": "markdown",
   "metadata": {},
   "source": [
    "## Part 2"
   ]
  },
  {
   "cell_type": "code",
   "execution_count": 3,
   "metadata": {},
   "outputs": [
    {
     "data": {
      "text/plain": [
       "3323"
      ]
     },
     "execution_count": 3,
     "metadata": {},
     "output_type": "execute_result"
    }
   ],
   "source": [
    "def intersection(answers):\n",
    "    \"\"\"\n",
    "    Creates the intersection of all answers\n",
    "    \"\"\"\n",
    "    return set(answers[0]).intersection(*answers[1:])\n",
    "\n",
    "assert intersection([\"ABC\",\"BCD\",\"CEF\"]) == set(\"C\")\n",
    "\n",
    "def run(data):\n",
    "    return sum(len(intersection(group)) for group in split(data))\n",
    "\n",
    "run(data)"
   ]
  }
 ],
 "metadata": {
  "kernelspec": {
   "display_name": "Python 3",
   "language": "python",
   "name": "python3"
  },
  "language_info": {
   "codemirror_mode": {
    "name": "ipython",
    "version": 3
   },
   "file_extension": ".py",
   "mimetype": "text/x-python",
   "name": "python",
   "nbconvert_exporter": "python",
   "pygments_lexer": "ipython3",
   "version": "3.6.10"
  }
 },
 "nbformat": 4,
 "nbformat_minor": 4
}
