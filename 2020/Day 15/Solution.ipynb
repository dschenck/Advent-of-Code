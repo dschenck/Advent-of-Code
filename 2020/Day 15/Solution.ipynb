{
 "cells": [
  {
   "cell_type": "code",
   "execution_count": 2,
   "metadata": {},
   "outputs": [
    {
     "data": {
      "text/plain": [
       "201"
      ]
     },
     "execution_count": 2,
     "metadata": {},
     "output_type": "execute_result"
    }
   ],
   "source": [
    "def play(numbers, turns):\n",
    "    memory  = {number:[i] for i, number in enumerate(numbers)}\n",
    "    clock   = len(numbers)\n",
    "    \n",
    "    for number in numbers: \n",
    "        yield number\n",
    "    \n",
    "    last = numbers[-1]\n",
    "    \n",
    "    while clock < turns:     \n",
    "        #If that was the first time the number has been spoken, \n",
    "        #the current player says 0\n",
    "        if len(memory[last]) == 1:\n",
    "            following = 0\n",
    "        \n",
    "        #the current player announces how many turns apart \n",
    "        #the number is from when it was previously spoken\n",
    "        else:\n",
    "            following = memory[last][-1] - memory[last][-2]\n",
    "            \n",
    "        if following in memory: \n",
    "            memory[following] = [memory[following][-1], clock]\n",
    "        else: \n",
    "            memory[following] = [clock]\n",
    "        \n",
    "        #increase the clock \n",
    "        last, clock = following, clock + 1\n",
    "        \n",
    "        yield following\n",
    "    \n",
    "    return\n",
    "        \n",
    "list(play([19,0,5,1,10,13], 30000000))[-1]"
   ]
  }
 ],
 "metadata": {
  "kernelspec": {
   "display_name": "Python 3",
   "language": "python",
   "name": "python3"
  },
  "language_info": {
   "codemirror_mode": {
    "name": "ipython",
    "version": 3
   },
   "file_extension": ".py",
   "mimetype": "text/x-python",
   "name": "python",
   "nbconvert_exporter": "python",
   "pygments_lexer": "ipython3",
   "version": "3.6.10"
  }
 },
 "nbformat": 4,
 "nbformat_minor": 4
}
