{
 "cells": [
  {
   "cell_type": "code",
   "execution_count": 1,
   "metadata": {
    "collapsed": true
   },
   "outputs": [],
   "source": [
    "with open(\"input.txt\", \"r\") as file: \n",
    "    data = file.read().strip().split(\"\\n\")"
   ]
  },
  {
   "cell_type": "markdown",
   "metadata": {},
   "source": [
    "## Part 1"
   ]
  },
  {
   "cell_type": "code",
   "execution_count": 2,
   "metadata": {
    "collapsed": false
   },
   "outputs": [],
   "source": [
    "def search(path, bounds):\n",
    "    assert sum(bounds) % 2 != 0\n",
    "\n",
    "    if len(path) == 1: \n",
    "        assert bounds[1] - bounds[0] == 1\n",
    "        return bounds[0] if path in [\"F\",\"L\"] else bounds [1]\n",
    "    \n",
    "    #halfway will be a floating number ending in 0.5\n",
    "    #round up or down depending on the section you want\n",
    "    #to search next\n",
    "    halfway = (bounds[0] + bounds[1]) / 2\n",
    "        \n",
    "    if path[0] in [\"F\",\"L\"]:\n",
    "        return search(path[1:], (bounds[0], int(halfway)))\n",
    "    return search(path[1:], (int(halfway)+1, bounds[1]))\n",
    "\n",
    "assert search(\"F\", (0, 1)) == 0\n",
    "assert search(\"BF\", (0, 3)) == 2\n",
    "assert search(\"FF\", (0, 3)) == 0\n",
    "assert search(\"FBFBBFF\", (0, 127)) == 44"
   ]
  },
  {
   "cell_type": "code",
   "execution_count": 3,
   "metadata": {
    "collapsed": false
   },
   "outputs": [],
   "source": [
    "def get_seat(path):\n",
    "    row, col = search(path[:-3], (0, 127)), search(path[-3:], (0, 7))\n",
    "    return row, col, 8 * row + col\n",
    "\n",
    "assert get_seat(\"FBFBBFFRLR\") == (44, 5, 357)"
   ]
  },
  {
   "cell_type": "code",
   "execution_count": 4,
   "metadata": {
    "collapsed": false
   },
   "outputs": [
    {
     "data": {
      "text/plain": [
       "904"
      ]
     },
     "execution_count": 4,
     "metadata": {},
     "output_type": "execute_result"
    }
   ],
   "source": [
    "def run(data):\n",
    "    return max(get_seat(path)[-1] for path in data)\n",
    "\n",
    "run(data)"
   ]
  },
  {
   "cell_type": "markdown",
   "metadata": {},
   "source": [
    "## Part 2"
   ]
  },
  {
   "cell_type": "code",
   "execution_count": 5,
   "metadata": {
    "collapsed": false
   },
   "outputs": [
    {
     "data": {
      "text/plain": [
       "669"
      ]
     },
     "execution_count": 5,
     "metadata": {},
     "output_type": "execute_result"
    }
   ],
   "source": [
    "def run(data):\n",
    "    seats = sorted([get_seat(path) for path in data], key=lambda seat: seat[2])\n",
    "    for i, (row, col, sid) in enumerate(seats):\n",
    "        if i == 0 or i == len(seats) - 1: \n",
    "            continue\n",
    "            \n",
    "        if seats[i-1][-1] == sid - 1: \n",
    "            continue\n",
    "            \n",
    "        return seats[i-1][-1] + 1\n",
    "    \n",
    "run(data)"
   ]
  },
  {
   "cell_type": "code",
   "execution_count": 6,
   "metadata": {
    "collapsed": false
   },
   "outputs": [
    {
     "data": {
      "text/html": [
       "<iframe style=\"border:0;outline:none\" srcdoc=\"&lt;!DOCTYPE html&gt;\n",
       "&lt;html lang=&quot;en&quot;&gt;\n",
       "    &lt;head&gt;\n",
       "        &lt;meta charset=&quot;utf-8&quot; /&gt;\n",
       "        &lt;link href=&quot;https://www.highcharts.com/highslide/highslide.css&quot; rel=&quot;stylesheet&quot; /&gt;\n",
       "        \n",
       "            &lt;link href=&quot;https://www.highcharts.com/highslide/highslide.css&quot; rel=&quot;stylesheet&quot; /&gt;    \n",
       "        \n",
       "            &lt;link href=&quot;https://fonts.googleapis.com/css?family=Roboto&quot; rel=&quot;stylesheet&quot; /&gt;    \n",
       "        \n",
       "            &lt;link href=&quot;https://fonts.googleapis.com/css?family=Roboto+Condensed&quot; rel=&quot;stylesheet&quot; /&gt;    \n",
       "        \n",
       "            &lt;link href=&quot;https://fonts.googleapis.com/css?family=Unica+One&quot; rel=&quot;stylesheet&quot; /&gt;    \n",
       "        \n",
       "            &lt;link href=&quot;https://fonts.googleapis.com/css?family=Droid+Sans&quot; rel=&quot;stylesheet&quot; /&gt;    \n",
       "        \n",
       "            &lt;link href=&quot;https://fonts.googleapis.com/css?family=Open+Sans&quot; rel=&quot;stylesheet&quot; /&gt;    \n",
       "        \n",
       "        \n",
       "            &lt;script type=&quot;text/javascript&quot; src=&quot;https://code.highcharts.com/8/highcharts.js&quot;&gt;&lt;/script&gt;    \n",
       "        \n",
       "            &lt;script type=&quot;text/javascript&quot; src=&quot;https://code.highcharts.com/8/highcharts-more.js&quot;&gt;&lt;/script&gt;    \n",
       "        \n",
       "            &lt;script type=&quot;text/javascript&quot; src=&quot;https://code.highcharts.com/8/modules/heatmap.js&quot;&gt;&lt;/script&gt;    \n",
       "        \n",
       "            &lt;script type=&quot;text/javascript&quot; src=&quot;https://code.highcharts.com/8/modules/exporting.js&quot;&gt;&lt;/script&gt;    \n",
       "        \n",
       "            &lt;script type=&quot;text/javascript&quot; src=&quot;https://code.highcharts.com/8/modules/offline-exporting.js&quot;&gt;&lt;/script&gt;    \n",
       "        \n",
       "            &lt;script type=&quot;text/javascript&quot; src=&quot;https://code.highcharts.com/8/modules/export-data.js&quot;&gt;&lt;/script&gt;    \n",
       "        \n",
       "            &lt;script type=&quot;text/javascript&quot; src=&quot;https://code.highcharts.com/modules/annotations.js&quot;&gt;&lt;/script&gt;    \n",
       "        \n",
       "            &lt;script type=&quot;text/javascript&quot; src=&quot;https://cdn.jsdelivr.net/gh/dschenck/highcharts-axis-crossing@0.1.1/highcharts-axis-crossing.js&quot;&gt;&lt;/script&gt;    \n",
       "        \n",
       "    &lt;/head&gt;\n",
       "    &lt;body style=&quot;margin:0;padding:0&quot;&gt;\n",
       "        &lt;div id=&quot;root&quot; style=&quot;display:flex;flex-wrap:wrap;width:100%&quot;&gt;\n",
       "        &lt;/div&gt;\n",
       "        &lt;script&gt;\n",
       "            document.addEventListener(&#x27;DOMContentLoaded&#x27;, function (){\n",
       "                Highcharts.setOptions({&quot;colors&quot;: [&quot;#2364AA&quot;, &quot;#3DA5D9&quot;, &quot;#73BFB8&quot;, &quot;#FEC601&quot;, &quot;#EA7317&quot;, &quot;#ff0066&quot;, &quot;#eeaaee&quot;, &quot;#55BF3B&quot;, &quot;#DF5353&quot;, &quot;#7798BF&quot;, &quot;#aaeeee&quot;], &quot;title&quot;: {&quot;style&quot;: {&quot;color&quot;: &quot;#000000&quot;, &quot;font&quot;: &quot;bold 14px \\&quot;Arial\\&quot;, sans-serif&quot;}, &quot;align&quot;: &quot;left&quot;, &quot;text&quot;: null}, &quot;subtitle&quot;: {&quot;style&quot;: {&quot;color&quot;: &quot;#000000&quot;, &quot;font&quot;: &quot;12px Arial, sans-serif&quot;}, &quot;align&quot;: &quot;left&quot;, &quot;text&quot;: null}, &quot;legend&quot;: {&quot;layout&quot;: &quot;horizontal&quot;, &quot;align&quot;: &quot;center&quot;, &quot;verticalAlign&quot;: &quot;bottom&quot;, &quot;itemStyle&quot;: {&quot;font&quot;: &quot;9pt Arial, sans-serif&quot;, &quot;color&quot;: &quot;#000000&quot;}}, &quot;tooltip&quot;: {&quot;backgroundColor&quot;: &quot;rgba(0, 0, 0, 0.75)&quot;, &quot;style&quot;: {&quot;color&quot;: &quot;#F0F0F0&quot;, &quot;font&quot;: &quot;Arial&quot;}, &quot;shared&quot;: true, &quot;valueDecimals&quot;: 2}, &quot;xAxis&quot;: {&quot;gridLineColor&quot;: &quot;#eeeeee&quot;, &quot;gridLineWidth&quot;: 1, &quot;gridLineDashStyle&quot;: &quot;dash&quot;, &quot;lineColor&quot;: &quot;#000000&quot;, &quot;lineWidth&quot;: 1, &quot;labels&quot;: {&quot;style&quot;: {&quot;color&quot;: &quot;#000000&quot;, &quot;font&quot;: &quot;Arial&quot;}}, &quot;title&quot;: {&quot;text&quot;: null, &quot;style&quot;: {&quot;color&quot;: &quot;#F0F0F0&quot;, &quot;font&quot;: &quot;Arial&quot;}}, &quot;tickColor&quot;: &quot;#000000&quot;, &quot;tickPosition&quot;: &quot;outside&quot;, &quot;tickLength&quot;: 5}, &quot;yAxis&quot;: {&quot;gridLineColor&quot;: &quot;#eeeeee&quot;, &quot;gridLineWidth&quot;: 1, &quot;gridLineDashStyle&quot;: &quot;dash&quot;, &quot;lineColor&quot;: &quot;#000000&quot;, &quot;lineWidth&quot;: 1, &quot;labels&quot;: {&quot;style&quot;: {&quot;color&quot;: &quot;#000000&quot;, &quot;font&quot;: &quot;Arial&quot;}}, &quot;tickColor&quot;: &quot;#000000&quot;, &quot;tickPosition&quot;: &quot;outside&quot;, &quot;tickLength&quot;: 5, &quot;tickWidth&quot;: 1, &quot;title&quot;: {&quot;text&quot;: null, &quot;style&quot;: {&quot;color&quot;: &quot;#000000&quot;, &quot;font&quot;: &quot;Arial&quot;}}}, &quot;credits&quot;: {&quot;style&quot;: {&quot;color&quot;: &quot;#666&quot;}, &quot;position&quot;: {&quot;align&quot;: &quot;left&quot;, &quot;x&quot;: 50}, &quot;text&quot;: &quot;&quot;, &quot;href&quot;: null}, &quot;plotOptions&quot;: {&quot;chart&quot;: {&quot;animation&quot;: false}, &quot;line&quot;: {&quot;animation&quot;: false}, &quot;pie&quot;: {&quot;showInLegend&quot;: true, &quot;dataLabels&quot;: {&quot;enabled&quot;: false}}, &quot;column&quot;: {&quot;pointPadding&quot;: 0.1, &quot;borderWidth&quot;: 0, &quot;groupPadding&quot;: 0.1}, &quot;scatter&quot;: {&quot;marker&quot;: {&quot;radius&quot;: 3, &quot;enabled&quot;: true, &quot;symbol&quot;: &quot;circle&quot;}}}});\n",
       "                \n",
       "                [{&quot;chart&quot;: {&quot;series&quot;: [{&quot;data&quot;: [[21, 6], [37, 3], [13, 5], [50, 7], [56, 3], [57, 6], [61, 6], [89, 0], [96, 7], [82, 3], [35, 7], [85, 3], [11, 6], [82, 6], [35, 5], [25, 3], [23, 1], [37, 1], [112, 3], [31, 5], [61, 0], [10, 3], [16, 4], [48, 7], [70, 5], [88, 3], [61, 7], [37, 0], [104, 6], [59, 7], [97, 0], [9, 3], [19, 4], [112, 4], [95, 3], [27, 2], [84, 0], [44, 4], [13, 1], [62, 6], [87, 5], [58, 0], [48, 2], [93, 6], [24, 7], [84, 4], [47, 1], [46, 4], [78, 3], [70, 1], [87, 3], [81, 7], [112, 2], [44, 2], [51, 1], [53, 4], [38, 5], [87, 0], [54, 0], [87, 4], [96, 4], [88, 0], [64, 5], [36, 3], [14, 5], [78, 6], [91, 6], [79, 5], [104, 7], [9, 5], [86, 2], [97, 2], [102, 4], [58, 3], [78, 0], [85, 7], [34, 6], [56, 4], [76, 6], [69, 1], [52, 1], [85, 0], [112, 5], [16, 3], [86, 7], [52, 5], [66, 0], [16, 6], [45, 6], [45, 3], [85, 4], [20, 7], [68, 7], [40, 6], [12, 3], [50, 6], [68, 5], [111, 4], [87, 1], [70, 3], [8, 2], [104, 1], [28, 7], [54, 3], [48, 3], [53, 6], [15, 2], [97, 4], [41, 4], [64, 0], [94, 4], [57, 7], [71, 5], [63, 6], [37, 4], [53, 1], [97, 6], [110, 1], [44, 5], [110, 5], [17, 0], [35, 3], [100, 4], [40, 4], [65, 5], [47, 4], [105, 0], [18, 4], [62, 7], [86, 5], [19, 3], [35, 4], [53, 2], [55, 1], [103, 2], [9, 4], [92, 4], [72, 2], [65, 1], [23, 7], [19, 2], [110, 4], [78, 7], [90, 1], [16, 7], [56, 1], [11, 3], [61, 5], [7, 4], [91, 4], [15, 5], [32, 7], [63, 5], [20, 4], [104, 0], [98, 0], [84, 5], [77, 0], [65, 3], [25, 7], [11, 4], [23, 2], [73, 2], [107, 6], [73, 6], [77, 5], [62, 0], [109, 7], [24, 5], [8, 5], [93, 1], [106, 4], [105, 7], [61, 4], [67, 3], [40, 7], [85, 1], [89, 3], [21, 3], [21, 1], [28, 3], [47, 7], [39, 2], [108, 0], [68, 2], [82, 7], [75, 7], [62, 3], [80, 3], [24, 6], [48, 0], [59, 1], [98, 7], [80, 4], [97, 1], [62, 5], [39, 7], [95, 1], [71, 2], [73, 1], [72, 0], [17, 5], [50, 4], [38, 6], [13, 0], [8, 4], [66, 1], [32, 4], [31, 0], [35, 2], [51, 4], [94, 7], [94, 1], [110, 0], [75, 5], [63, 3], [80, 1], [84, 3], [53, 3], [87, 6], [113, 0], [29, 6], [29, 5], [93, 5], [89, 2], [36, 2], [91, 5], [18, 2], [78, 4], [42, 0], [92, 3], [47, 6], [75, 4], [108, 3], [36, 0], [29, 1], [96, 0], [43, 4], [18, 5], [90, 4], [8, 0], [58, 1], [35, 0], [68, 4], [48, 6], [10, 7], [32, 0], [82, 0], [77, 6], [79, 4], [32, 1], [109, 5], [107, 4], [112, 6], [13, 7], [61, 2], [28, 4], [90, 6], [60, 7], [47, 2], [106, 6], [101, 1], [7, 5], [26, 7], [106, 0], [99, 0], [60, 2], [102, 3], [64, 4], [101, 2], [30, 4], [83, 4], [57, 0], [73, 0], [7, 7], [12, 1], [81, 2], [46, 3], [53, 7], [65, 7], [102, 7], [66, 4], [22, 0], [38, 1], [77, 7], [100, 5], [63, 1], [85, 5], [109, 3], [11, 0], [40, 5], [83, 6], [27, 3], [105, 1], [75, 2], [37, 6], [25, 0], [80, 5], [34, 4], [59, 4], [14, 0], [55, 3], [19, 6], [11, 5], [39, 6], [106, 7], [74, 1], [34, 5], [111, 2], [12, 6], [42, 1], [30, 7], [69, 2], [93, 3], [77, 2], [26, 6], [30, 1], [73, 3], [51, 0], [62, 4], [43, 0], [60, 5], [97, 3], [79, 2], [74, 5], [30, 5], [56, 0], [112, 7], [106, 1], [55, 0], [100, 6], [69, 4], [10, 0], [62, 1], [30, 6], [70, 4], [17, 1], [21, 5], [18, 3], [52, 6], [34, 2], [92, 2], [70, 7], [97, 5], [39, 3], [103, 6], [43, 7], [29, 7], [96, 1], [54, 4], [64, 7], [104, 4], [44, 6], [9, 1], [88, 1], [51, 5], [74, 2], [12, 2], [80, 7], [72, 7], [52, 4], [102, 5], [95, 2], [24, 2], [73, 7], [57, 1], [104, 2], [38, 0], [12, 7], [10, 5], [26, 5], [80, 0], [44, 3], [70, 6], [54, 5], [10, 4], [69, 5], [98, 4], [59, 6], [108, 7], [8, 6], [108, 1], [102, 6], [25, 1], [101, 4], [59, 3], [73, 5], [79, 1], [12, 0], [68, 0], [101, 5], [42, 2], [60, 6], [99, 3], [11, 7], [90, 5], [90, 0], [11, 1], [88, 4], [48, 4], [69, 3], [19, 7], [12, 4], [66, 6], [109, 6], [83, 7], [36, 5], [74, 4], [87, 2], [12, 5], [65, 0], [8, 3], [50, 3], [44, 0], [75, 3], [64, 2], [9, 2], [79, 0], [65, 4], [100, 3], [77, 3], [68, 1], [101, 3], [95, 6], [40, 3], [44, 7], [38, 2], [33, 6], [31, 3], [66, 3], [110, 7], [29, 4], [48, 1], [94, 3], [17, 6], [91, 2], [27, 7], [58, 4], [46, 0], [67, 2], [107, 3], [10, 6], [49, 4], [64, 6], [34, 0], [95, 5], [110, 3], [57, 3], [103, 3], [10, 1], [58, 6], [70, 2], [15, 3], [94, 5], [107, 1], [86, 1], [63, 2], [83, 0], [68, 6], [76, 7], [99, 4], [60, 0], [64, 3], [110, 6], [90, 7], [85, 6], [81, 3], [55, 5], [45, 4], [41, 7], [90, 3], [91, 7], [88, 2], [32, 5], [103, 0], [89, 4], [56, 5], [27, 4], [47, 5], [100, 0], [103, 4], [33, 4], [27, 0], [16, 2], [109, 1], [43, 3], [24, 0], [107, 0], [80, 6], [20, 2], [72, 6], [32, 6], [106, 5], [29, 2], [89, 7], [95, 7], [100, 1], [51, 6], [81, 5], [14, 4], [15, 4], [31, 7], [111, 3], [47, 3], [50, 5], [66, 2], [91, 0], [55, 4], [26, 3], [87, 7], [20, 6], [66, 7], [44, 1], [108, 2], [39, 4], [27, 6], [21, 2], [101, 6], [14, 1], [36, 6], [20, 3], [76, 5], [20, 5], [107, 7], [46, 2], [38, 7], [84, 2], [57, 4], [82, 5], [107, 5], [40, 0], [35, 1], [36, 7], [13, 3], [20, 0], [77, 4], [81, 1], [78, 1], [53, 5], [58, 2], [39, 5], [28, 2], [14, 2], [78, 2], [24, 3], [30, 0], [72, 5], [29, 3], [28, 5], [76, 2], [56, 2], [71, 3], [7, 3], [97, 7], [49, 1], [82, 2], [89, 5], [94, 6], [83, 2], [60, 4], [67, 0], [56, 6], [27, 1], [92, 1], [43, 1], [18, 6], [108, 6], [95, 0], [45, 0], [105, 3], [50, 2], [75, 1], [22, 3], [103, 5], [14, 6], [78, 5], [59, 0], [16, 1], [49, 6], [102, 1], [91, 3], [9, 6], [23, 5], [49, 5], [84, 7], [99, 5], [61, 1], [95, 4], [43, 6], [51, 7], [98, 2], [60, 3], [52, 0], [57, 2], [92, 5], [89, 6], [23, 3], [74, 0], [67, 5], [74, 7], [71, 6], [46, 5], [59, 5], [32, 3], [66, 5], [82, 4], [108, 4], [58, 5], [111, 6], [93, 4], [96, 3], [33, 5], [84, 6], [39, 1], [99, 7], [84, 1], [102, 2], [89, 1], [13, 6], [79, 6], [94, 0], [71, 0], [109, 0], [109, 4], [16, 5], [22, 2], [79, 7], [37, 7], [69, 6], [17, 3], [93, 2], [108, 5], [43, 2], [51, 2], [65, 2], [71, 1], [55, 7], [80, 2], [94, 2], [93, 0], [46, 7], [41, 6], [64, 1], [63, 4], [26, 2], [18, 1], [16, 0], [18, 0], [86, 3], [35, 6], [34, 7], [58, 7], [24, 1], [54, 2], [92, 7], [41, 3], [111, 1], [103, 7], [98, 1], [88, 5], [34, 1], [23, 6], [14, 7], [88, 6], [54, 7], [22, 6], [7, 6], [99, 2], [86, 6], [62, 2], [60, 1], [34, 3], [37, 2], [21, 4], [88, 7], [69, 7], [17, 4], [59, 2], [65, 6], [77, 1], [79, 3], [72, 1], [37, 5], [75, 0], [39, 0], [111, 5], [98, 3], [45, 7], [105, 2], [11, 2], [14, 3], [83, 3], [86, 4], [52, 7], [19, 1], [17, 7], [43, 5], [91, 1], [38, 3], [98, 5], [22, 7], [99, 1], [98, 6], [15, 1], [49, 0], [17, 2], [112, 0], [28, 6], [40, 2], [63, 0], [22, 1], [67, 7], [51, 3], [105, 6], [13, 2], [103, 1], [8, 7], [13, 4], [76, 3], [111, 0], [81, 6], [100, 7], [49, 3], [63, 7], [9, 7], [42, 7], [102, 0], [107, 2], [26, 4], [106, 2], [85, 2], [33, 7], [15, 0], [25, 5], [96, 2], [75, 6], [50, 0], [101, 7], [30, 2], [26, 0], [70, 0], [30, 3], [38, 4], [111, 7], [40, 1], [32, 2], [86, 0], [83, 1], [31, 2], [22, 5], [33, 1], [36, 4], [54, 6], [18, 7], [61, 3], [52, 2], [54, 1], [45, 5], [101, 0], [104, 3], [42, 3], [105, 4], [105, 5], [92, 0], [74, 6], [67, 4], [76, 1], [74, 3], [106, 3], [69, 0], [10, 2], [23, 0], [109, 2], [25, 4], [110, 2], [57, 5], [81, 4], [23, 4], [82, 1], [31, 4], [21, 7], [41, 2], [24, 4], [25, 2], [76, 0], [71, 4], [19, 5], [68, 3], [71, 7], [19, 0], [52, 3], [46, 6], [33, 2], [55, 6], [76, 4], [99, 6], [26, 1], [22, 4], [20, 1], [28, 0], [53, 0], [41, 5], [27, 5], [81, 0], [31, 6], [15, 7], [31, 1], [42, 4], [42, 6], [100, 2], [47, 0], [41, 0], [49, 2], [8, 1], [96, 5], [67, 1], [46, 1], [72, 4], [112, 1], [45, 2], [25, 6], [42, 5], [93, 7], [67, 6], [15, 6], [9, 0], [33, 3], [104, 5], [28, 1], [49, 7], [90, 2], [96, 6], [45, 1], [41, 1], [55, 2], [92, 6], [56, 7], [29, 0], [36, 1], [73, 4], [33, 0], [21, 0], [48, 5], [72, 3], [50, 1]], &quot;name&quot;: &quot;airplane&quot;}], &quot;chart&quot;: {&quot;type&quot;: &quot;scatter&quot;, &quot;zoomType&quot;: &quot;x&quot;}, &quot;title&quot;: {&quot;text&quot;: &quot;Airplane seating plan&quot;}, &quot;yAxis&quot;: {&quot;title&quot;: {&quot;text&quot;: &quot;Column&quot;}}, &quot;xAxis&quot;: {&quot;title&quot;: {&quot;text&quot;: &quot;Row&quot;}}, &quot;tooltip&quot;: {&quot;format&quot;: &quot;row {point.x} column {point.y}&quot;}, &quot;_ipython_canary_method_should_not_exist_&quot;: null}, &quot;width&quot;: &quot;100%&quot;, &quot;height&quot;: &quot;400px&quot;}].forEach(function(plot, i){\n",
       "                    var container = document.createElement(&quot;div&quot;)\n",
       "                        container.setAttribute(&quot;id&quot;, &quot;container-&quot;+i)\n",
       "                        container.style.width  = plot.width\n",
       "                        container.style.height = plot.height\n",
       "                    document.getElementById(&quot;root&quot;).appendChild(container)\n",
       "                    Highcharts.chart(&quot;container-&quot;+i, plot.chart)\n",
       "                })\n",
       "            });\n",
       "        &lt;/script&gt;\n",
       "    &lt;/body&gt;\n",
       "&lt;/html&gt;\" height=\"400px\" width=\"100%\"></iframe>"
      ],
      "text/plain": [
       "<Tree type=dict>"
      ]
     },
     "execution_count": 6,
     "metadata": {},
     "output_type": "execute_result"
    }
   ],
   "source": [
    "import easychart\n",
    "\n",
    "chart = easychart.new(\"scatter\")\n",
    "chart.title = \"Airplane seating plan\"\n",
    "chart.yAxis.title.text = \"Column\"\n",
    "chart.xAxis.title.text = \"Row\"\n",
    "chart.tooltip.format = \"row {point.x} column {point.y}\"\n",
    "chart.plot([(x, y) for (x, y, sid) in [get_seat(path) for path in data]], name=\"airplane\")\n",
    "chart\n"
   ]
  }
 ],
 "metadata": {
  "kernelspec": {
   "display_name": "Python 3",
   "language": "python",
   "name": "python3"
  },
  "language_info": {
   "codemirror_mode": {
    "name": "ipython",
    "version": 3
   },
   "file_extension": ".py",
   "mimetype": "text/x-python",
   "name": "python",
   "nbconvert_exporter": "python",
   "pygments_lexer": "ipython3",
   "version": "3.6.1"
  }
 },
 "nbformat": 4,
 "nbformat_minor": 2
}
