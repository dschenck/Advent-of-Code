{
 "cells": [
  {
   "cell_type": "code",
   "execution_count": 1,
   "metadata": {
    "collapsed": true
   },
   "outputs": [],
   "source": [
    "with open(\"input.txt\", \"r\") as file: \n",
    "    data = file.read().strip().split(\"\\n\")"
   ]
  },
  {
   "cell_type": "markdown",
   "metadata": {},
   "source": [
    "## Part 1"
   ]
  },
  {
   "cell_type": "code",
   "execution_count": 2,
   "metadata": {
    "collapsed": false
   },
   "outputs": [
    {
     "data": {
      "text/plain": [
       "242"
      ]
     },
     "execution_count": 2,
     "metadata": {},
     "output_type": "execute_result"
    }
   ],
   "source": [
    "def run(forest, move):\n",
    "    \"\"\"\n",
    "    forest : list\n",
    "        uniform list of lists wih either . or # values\n",
    "    move : tuple\n",
    "        offset coordinates (right, down) to apply at each move\n",
    "    \"\"\"\n",
    "    assert all(len(forest[0]) == len(row) for row in forest)\n",
    "    \n",
    "    #size of the forest\n",
    "    w, h = len(forest[0]), len(forest)\n",
    "    \n",
    "    path = [(0, 0)]\n",
    "    x, y =  (0, 0)\n",
    "    \n",
    "    while (y + move[1]) <= h:\n",
    "        path.append((x, y, forest[y][x%w]))\n",
    "        x, y = x + move[0], y + move[1]\n",
    "        \n",
    "    return sum([z == \"#\" for (x, y, z) in path[1:]])\n",
    "    \n",
    "run(data, (3, 1))"
   ]
  },
  {
   "cell_type": "markdown",
   "metadata": {},
   "source": [
    "## Part 2"
   ]
  },
  {
   "cell_type": "code",
   "execution_count": 3,
   "metadata": {
    "collapsed": false
   },
   "outputs": [
    {
     "data": {
      "text/plain": [
       "2265549792"
      ]
     },
     "execution_count": 3,
     "metadata": {},
     "output_type": "execute_result"
    }
   ],
   "source": [
    "import functools\n",
    "\n",
    "slopes = [(1, 1),(3, 1),(5, 1),(7, 1),(1, 2)]\n",
    "\n",
    "functools.reduce(lambda cum, x: cum * x, [run(data, slope) for slope in slopes])"
   ]
  }
 ],
 "metadata": {
  "kernelspec": {
   "display_name": "Python 3",
   "language": "python",
   "name": "python3"
  },
  "language_info": {
   "codemirror_mode": {
    "name": "ipython",
    "version": 3
   },
   "file_extension": ".py",
   "mimetype": "text/x-python",
   "name": "python",
   "nbconvert_exporter": "python",
   "pygments_lexer": "ipython3",
   "version": "3.6.1"
  }
 },
 "nbformat": 4,
 "nbformat_minor": 2
}
