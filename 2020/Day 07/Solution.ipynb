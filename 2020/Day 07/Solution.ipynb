{
 "cells": [
  {
   "cell_type": "code",
   "execution_count": 1,
   "metadata": {},
   "outputs": [],
   "source": [
    "with open(\"input.txt\", \"r\") as file: \n",
    "    data = file.read().strip().split(\"\\n\")"
   ]
  },
  {
   "cell_type": "markdown",
   "metadata": {},
   "source": [
    "## Part 1"
   ]
  },
  {
   "cell_type": "code",
   "execution_count": 2,
   "metadata": {},
   "outputs": [
    {
     "data": {
      "text/plain": [
       "139"
      ]
     },
     "execution_count": 2,
     "metadata": {},
     "output_type": "execute_result"
    }
   ],
   "source": [
    "import re\n",
    "\n",
    "def parse(rule):\n",
    "    \"\"\"\n",
    "    Parses a rule into (parent, children) tuple\n",
    "    where each child is a tuple of (quantity, color)\n",
    "    \n",
    "    Examples\n",
    "    ------------\n",
    "    \"\"\"\n",
    "    parent = re.match(\"^(\\w+ \\w+) bags\", rule).groups()[0]\n",
    "    children = re.findall(\"(\\d+) (\\w+ \\w+) bags?\", rule)\n",
    "    return (parent, tuple(children))\n",
    "\n",
    "assert parse(\"posh beige bags contain 3 dotted blue bags, 4 faded indigo bags.\") == (\"posh beige\", ((\"3\", \"dotted blue\"), (\"4\", \"faded indigo\")))\n",
    "assert parse(\"drab tan bags contain 4 dim lavender bags.\") == (\"drab tan\", ((\"4\", \"dim lavender\"),))\n",
    "assert parse(\"dark blue bags contain no other bags.\") == (\"dark blue\", tuple())\n",
    "\n",
    "def load(data):\n",
    "    \"\"\"\n",
    "    Loads the rules into a dictionary\n",
    "    where the key is the color of the parent and the value\n",
    "    is a list of children\n",
    "    \"\"\"\n",
    "    rules = dict()\n",
    "    \n",
    "    for rule in data: \n",
    "        parent, children = parse(rule)\n",
    "        assert parent not in rules\n",
    "        rules[parent] = children\n",
    "    return rules\n",
    "\n",
    "def contains(this, that, mapping):\n",
    "    \"\"\"\n",
    "    Returns True if the parent contains a color \n",
    "    (directly or indirectly) using the mapping created \n",
    "    by the load function\n",
    "    \"\"\"\n",
    "    if this not in mapping: \n",
    "        return False\n",
    "    for quantity, child in mapping[this]: \n",
    "        if child == that:\n",
    "            return True\n",
    "    for quantity, child in mapping[this]: \n",
    "        if contains(child, that, mapping):\n",
    "            return True\n",
    "    return False\n",
    "\n",
    "assert contains(\"black\", \"gold\", {\"black\":[(2, \"blue\")], \"blue\":[(1, \"gold\")]}) == True\n",
    "assert contains(\"black\", \"gold\", {\"black\":[(2, \"blue\")], \"blue\":[(1, \"red\")]}) == False\n",
    "\n",
    "def run(data):\n",
    "    mapping = load(data)\n",
    "    return sum(contains(c, \"shiny gold\", mapping) for c in mapping)\n",
    "\n",
    "run(data)"
   ]
  },
  {
   "cell_type": "markdown",
   "metadata": {},
   "source": [
    "## Part 2"
   ]
  },
  {
   "cell_type": "code",
   "execution_count": 3,
   "metadata": {},
   "outputs": [
    {
     "data": {
      "text/plain": [
       "58175"
      ]
     },
     "execution_count": 3,
     "metadata": {},
     "output_type": "execute_result"
    }
   ],
   "source": [
    "def size(color, mapping): \n",
    "    \"\"\"\n",
    "    Computes the size of the tree for a given color\n",
    "    \"\"\"\n",
    "    if color not in mapping: \n",
    "        return 1\n",
    "    return 1 + sum(int(q) * size(child, mapping) for q, child in mapping[color])\n",
    "\n",
    "def run(data):\n",
    "    mapping = load(data)\n",
    "    return size(\"shiny gold\", mapping) - 1\n",
    "\n",
    "run(data)"
   ]
  }
 ],
 "metadata": {
  "kernelspec": {
   "display_name": "Python 3",
   "language": "python",
   "name": "python3"
  },
  "language_info": {
   "codemirror_mode": {
    "name": "ipython",
    "version": 3
   },
   "file_extension": ".py",
   "mimetype": "text/x-python",
   "name": "python",
   "nbconvert_exporter": "python",
   "pygments_lexer": "ipython3",
   "version": "3.6.10"
  }
 },
 "nbformat": 4,
 "nbformat_minor": 4
}
