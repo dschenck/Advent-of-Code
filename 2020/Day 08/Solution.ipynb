{
 "cells": [
  {
   "cell_type": "code",
   "execution_count": 1,
   "metadata": {},
   "outputs": [],
   "source": [
    "with open(\"input.txt\", \"r\") as file: \n",
    "    data = file.read().strip().split(\"\\n\")"
   ]
  },
  {
   "cell_type": "markdown",
   "metadata": {},
   "source": [
    "## Part 1"
   ]
  },
  {
   "cell_type": "code",
   "execution_count": 2,
   "metadata": {},
   "outputs": [
    {
     "data": {
      "text/plain": [
       "(1671, 151, 217)"
      ]
     },
     "execution_count": 2,
     "metadata": {},
     "output_type": "execute_result"
    }
   ],
   "source": [
    "import re\n",
    "\n",
    "def run(instructions): \n",
    "    acc, current, executed = 0, 0, set()\n",
    "    \n",
    "    while True: \n",
    "        #if the current line has already been executed, break\n",
    "        if current in executed: \n",
    "            return acc, current, len(executed)\n",
    "        \n",
    "        #record the current line\n",
    "        executed.add(current)\n",
    "        \n",
    "        #get the next instruction\n",
    "        instruction = re.match(\"^(\\w{3}) ([+-]\\d{1,})$\", instructions[current])\n",
    "        \n",
    "        if instruction.groups()[0] == \"nop\":\n",
    "            current += 1\n",
    "        elif instruction.groups()[0] == \"acc\":\n",
    "            acc += int(instruction.groups()[1])\n",
    "            current += 1\n",
    "        elif instruction.groups()[0] == \"jmp\":\n",
    "            current += int(instruction.groups()[1])\n",
    "        else:\n",
    "            raise RuntimeError(\"Unidentified instruction\")\n",
    "    \n",
    "run(data)"
   ]
  },
  {
   "cell_type": "markdown",
   "metadata": {},
   "source": [
    "## Part 2"
   ]
  },
  {
   "cell_type": "code",
   "execution_count": 3,
   "metadata": {},
   "outputs": [
    {
     "data": {
      "text/plain": [
       "(218, 'jmp +409', 892)"
      ]
     },
     "execution_count": 3,
     "metadata": {},
     "output_type": "execute_result"
    }
   ],
   "source": [
    "def run(instructions): \n",
    "    \"\"\"\n",
    "    Runs the programme\n",
    "    Raises a RuntimeError if there is an infinite loop\n",
    "    Returns the accumulator value if the programme finishes\n",
    "    \"\"\"\n",
    "    acc, current, executed = 0, 0, set()\n",
    "    \n",
    "    while True: \n",
    "        #if the current line has already been executed, break\n",
    "        if current in executed: \n",
    "            raise RuntimeError(\"You are stuck in an infinite loop\")\n",
    "        \n",
    "        #the programme ran to he end\n",
    "        if current == len(instructions): \n",
    "            return acc\n",
    "        \n",
    "        #record the current line\n",
    "        executed.add(current)\n",
    "        \n",
    "        #get the next instruction\n",
    "        instruction = re.match(\"^(\\w{3}) ([+-]\\d{1,})$\", instructions[current])\n",
    "        \n",
    "        if instruction.groups()[0] == \"nop\":\n",
    "            current += 1\n",
    "        elif instruction.groups()[0] == \"acc\":\n",
    "            acc += int(instruction.groups()[1])\n",
    "            current += 1\n",
    "        elif instruction.groups()[0] == \"jmp\":\n",
    "            current += int(instruction.groups()[1])\n",
    "        else:\n",
    "            raise ValueError(\"Unidentified instruction\")\n",
    "            \n",
    "def repair(instructions):\n",
    "    \"\"\"\n",
    "    For each line that starts with a jmp or nop instruction, \n",
    "    try to run the programme\n",
    "    \"\"\"\n",
    "    for i, line in enumerate(instructions):\n",
    "        if line[0:3] == \"acc\":\n",
    "            continue\n",
    "        if line[0:3] == \"jmp\":\n",
    "            modified = instructions[:i] + [line.replace(\"jmp\",\"nop\")] + instructions[i+1:]\n",
    "        if line[0:3] == \"nop\":\n",
    "            modified = instructions[:i] + [line.replace(\"nop\",\"jmp\")] + instructions[i+1:]\n",
    "        try: \n",
    "            return i, line, run(modified)\n",
    "        except RuntimeError: \n",
    "            continue\n",
    "    raise RunimeError(\"Unable to repair\")\n",
    "    \n",
    "repair(data)"
   ]
  }
 ],
 "metadata": {
  "kernelspec": {
   "display_name": "Python 3",
   "language": "python",
   "name": "python3"
  },
  "language_info": {
   "codemirror_mode": {
    "name": "ipython",
    "version": 3
   },
   "file_extension": ".py",
   "mimetype": "text/x-python",
   "name": "python",
   "nbconvert_exporter": "python",
   "pygments_lexer": "ipython3",
   "version": "3.6.10"
  }
 },
 "nbformat": 4,
 "nbformat_minor": 4
}
