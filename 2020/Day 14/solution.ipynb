{
 "cells": [
  {
   "cell_type": "code",
   "execution_count": 1,
   "metadata": {},
   "outputs": [],
   "source": [
    "import re\n",
    "\n",
    "with open(\"input.txt\", \"r\") as file: \n",
    "    data = file.read().strip().split(\"\\n\")"
   ]
  },
  {
   "cell_type": "code",
   "execution_count": 2,
   "metadata": {},
   "outputs": [
    {
     "data": {
      "text/plain": [
       "4886706177792"
      ]
     },
     "execution_count": 2,
     "metadata": {},
     "output_type": "execute_result"
    }
   ],
   "source": [
    "def combine(value, mask):\n",
    "    binary = bin(value)[2:].rjust(36, \"0\")\n",
    "    assert len(binary) == len(mask), (binary, mask)\n",
    "    return int(\"\".join(x if y == \"X\" else y for (x, y) in zip(binary, mask)), 2)\n",
    "\n",
    "assert combine(11, \"XXXXXXXXXXXXXXXXXXXXXXXXXXXXX1XXXX0X\") == 73\n",
    "assert combine(0, \"XXXXXXXXXXXXXXXXXXXXXXXXXXXXX1XXXX0X\") == 64\n",
    "\n",
    "def run(instructions):\n",
    "    memory = dict()\n",
    "    \n",
    "    for i, line in enumerate(instructions):\n",
    "        if line.startswith(\"mask = \"):\n",
    "            mask = line[7:]\n",
    "        else: \n",
    "            match = re.match(\"mem\\[(\\d+)\\] = (\\d+)\", line).groups()\n",
    "            slot, value = match[0], match[1]\n",
    "            memory[slot] = combine(int(value), mask)\n",
    "    return sum(memory.values())\n",
    "\n",
    "run(data)"
   ]
  },
  {
   "cell_type": "code",
   "execution_count": 3,
   "metadata": {},
   "outputs": [
    {
     "data": {
      "text/plain": [
       "3348493585827"
      ]
     },
     "execution_count": 3,
     "metadata": {},
     "output_type": "execute_result"
    }
   ],
   "source": [
    "def permutations(address):\n",
    "    if \"X\" not in address: \n",
    "        return [address]\n",
    "    return permutations(address.replace(\"X\", \"0\", 1)) + permutations(address.replace(\"X\", \"1\", 1))\n",
    "\n",
    "assert permutations(\"100\") == [\"100\"]\n",
    "assert permutations(\"10X\") == [\"100\",\"101\"]\n",
    "\n",
    "def combine(address, mask):\n",
    "    binary = bin(address)[2:].rjust(36, \"0\")\n",
    "    assert len(binary) == len(mask), (binary, mask)\n",
    "    return (\"\".join(x if y == \"0\" else y for (x, y) in zip(binary, mask)))\n",
    "\n",
    "assert combine(42, \"000000000000000000000000000000X1001X\") == \"000000000000000000000000000000X1101X\"\n",
    "\n",
    "def run(instructions):\n",
    "    memory = dict()\n",
    "    \n",
    "    for i, line in enumerate(instructions):\n",
    "        if line.startswith(\"mask = \"):\n",
    "            mask = line[7:]\n",
    "        else: \n",
    "            match = re.match(\"mem\\[(\\d+)\\] = (\\d+)\", line).groups()\n",
    "            slot, value = int(match[0]), int(match[1])\n",
    "            \n",
    "            for address in permutations(combine(slot, mask)):\n",
    "                memory[int(address,2)] = value\n",
    "    return sum(memory.values())\n",
    "\n",
    "run(data)"
   ]
  }
 ],
 "metadata": {
  "kernelspec": {
   "display_name": "Python 3",
   "language": "python",
   "name": "python3"
  },
  "language_info": {
   "codemirror_mode": {
    "name": "ipython",
    "version": 3
   },
   "file_extension": ".py",
   "mimetype": "text/x-python",
   "name": "python",
   "nbconvert_exporter": "python",
   "pygments_lexer": "ipython3",
   "version": "3.6.10"
  }
 },
 "nbformat": 4,
 "nbformat_minor": 4
}
