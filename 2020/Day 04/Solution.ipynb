{
 "cells": [
  {
   "cell_type": "code",
   "execution_count": 1,
   "metadata": {
    "collapsed": true,
    "deletable": true,
    "editable": true
   },
   "outputs": [],
   "source": [
    "with open(\"input.txt\", \"r\") as file: \n",
    "    data = file.read()"
   ]
  },
  {
   "cell_type": "markdown",
   "metadata": {
    "deletable": true,
    "editable": true
   },
   "source": [
    "## Part 1"
   ]
  },
  {
   "cell_type": "code",
   "execution_count": 2,
   "metadata": {
    "collapsed": true,
    "deletable": true,
    "editable": true
   },
   "outputs": [],
   "source": [
    "import re"
   ]
  },
  {
   "cell_type": "code",
   "execution_count": 3,
   "metadata": {
    "collapsed": false,
    "deletable": true,
    "editable": true
   },
   "outputs": [
    {
     "data": {
      "text/plain": [
       "260"
      ]
     },
     "execution_count": 3,
     "metadata": {},
     "output_type": "execute_result"
    }
   ],
   "source": [
    "def split(data): \n",
    "    \"\"\"\n",
    "    Split the batch file by passport, where passport is a key:value \n",
    "    dictionary\n",
    "    \"\"\"\n",
    "    passports = []\n",
    "    \n",
    "    for passport in re.split(\"\\n{2,}\", data): \n",
    "        fields = {}\n",
    "        for field in re.split(\"\\s+\", passport.strip()):\n",
    "            name, value = field.split(\":\")\n",
    "            assert name not in fields\n",
    "            fields[name] = value\n",
    "        passports.append(fields)\n",
    "    return passports\n",
    "\n",
    "assert isinstance(split(data)[0], dict)\n",
    "\n",
    "def validate(passport):\n",
    "    \"\"\"\n",
    "    A passport is valid if and only if it has all the required \n",
    "    fields\n",
    "    \"\"\"\n",
    "    required = [\"byr\",\"iyr\",\"eyr\",\"hgt\",\"hcl\",\"ecl\",\"pid\"]\n",
    "    return all(field in passport for field in required)\n",
    "\n",
    "assert validate({}) == False\n",
    "assert validate({key:None for key in [\"byr\",\"iyr\",\"eyr\",\"hgt\",\"hcl\",\"ecl\",\"pid\"]}) == True\n",
    "\n",
    "def run(data): \n",
    "    return sum(validate(passport) for passport in split(data))\n",
    "\n",
    "run(data)"
   ]
  },
  {
   "cell_type": "markdown",
   "metadata": {
    "deletable": true,
    "editable": true
   },
   "source": [
    "## Part 2"
   ]
  },
  {
   "cell_type": "code",
   "execution_count": 4,
   "metadata": {
    "collapsed": false,
    "deletable": true,
    "editable": true
   },
   "outputs": [],
   "source": [
    "class Validator: \n",
    "    def validate(self, value):\n",
    "        raise NotImplementedError\n",
    "\n",
    "class Integer(Validator):\n",
    "    def validate(self, value):\n",
    "        return re.match(\"^\\d+$\", value) is not None\n",
    "    \n",
    "assert Integer().validate(\"2014\") == True\n",
    "assert Integer().validate(\"2.95\") == False\n",
    "    \n",
    "class Min(Validator):\n",
    "    def __init__(self, minimum, strict=False): \n",
    "        self.minimum = minimum\n",
    "        self.strict  = strict\n",
    "        \n",
    "    def validate(self, value): \n",
    "        if self.strict: \n",
    "            return self.minimum < float(value)\n",
    "        return self.minimum <= float(value)\n",
    "    \n",
    "assert Min(1).validate(\"9\") == True\n",
    "assert Min(1).validate(\"0\") == False\n",
    "\n",
    "class Max(Validator):\n",
    "    def __init__(self, maximum, strict=False): \n",
    "        self.maximum = maximum\n",
    "        self.strict  = strict\n",
    "        \n",
    "    def validate(self, value): \n",
    "        if self.strict: \n",
    "            return self.maximum > float(value)\n",
    "        return self.maximum >= float(value)\n",
    "\n",
    "assert Max(1).validate(\"9\") == False\n",
    "assert Max(1).validate(\"0\") == True\n",
    "\n",
    "class Pattern(Validator): \n",
    "    def __init__(self, pattern):\n",
    "        self.pattern = pattern\n",
    "        \n",
    "    def validate(self, value):\n",
    "        return re.match(self.pattern, value) is not None\n",
    "    \n",
    "class Any(Validator):\n",
    "    def __init__(self, children):\n",
    "        self.children = children\n",
    "        \n",
    "    def validate(self, value):\n",
    "        for child in self.children: \n",
    "            if child.validate(value):\n",
    "                return True\n",
    "        return False\n",
    "    \n",
    "class All(Validator):\n",
    "    def __init__(self, children):\n",
    "        self.children = children\n",
    "        \n",
    "    def validate(self, value):\n",
    "        for child in self.children: \n",
    "            if not child.validate(value):\n",
    "                return False\n",
    "        return True\n",
    "    \n",
    "class Sanitizer(Validator):\n",
    "    def __init__(self, callback, child): \n",
    "        self.callback = callback\n",
    "        self.child = child\n",
    "        \n",
    "    def validate(self, value):\n",
    "        return self.child.validate(self.callback(value))\n",
    "    \n",
    "def validate(obj, schema):\n",
    "    for field in schema: \n",
    "        #if the field is required, check it exists\n",
    "        if field.get(\"required\", False) and field[\"name\"] not in obj:\n",
    "            return False\n",
    "        \n",
    "        #run all the validators for this field\n",
    "        for validator in field.get(\"validators\", []): \n",
    "            if not validator.validate(obj[field[\"name\"]]): \n",
    "                return False\n",
    "            \n",
    "    #it passed all tests, it must be valid\n",
    "    return True"
   ]
  },
  {
   "cell_type": "code",
   "execution_count": 5,
   "metadata": {
    "collapsed": true,
    "deletable": true,
    "editable": true
   },
   "outputs": [],
   "source": [
    "schema = [\n",
    "    {\n",
    "         \"name\":\"byr\", \n",
    "         \"required\":True, \n",
    "         \"validators\":[Integer(), Min(1920), Max(2002)]\n",
    "    },\n",
    "    {\n",
    "        \"name\":\"iyr\", \n",
    "        \"required\":True, \n",
    "        \"validators\":[Integer(), Min(2010), Max(2020)]},\n",
    "    {\n",
    "        \"name\":\"eyr\", \n",
    "        \"required\":True, \n",
    "        \"validators\":[Integer(), Min(2020), Max(2030)]},\n",
    "    {\n",
    "        \"name\":\"hgt\", \n",
    "        \"required\":True, \n",
    "        \"validators\":[Any([\n",
    "            All([\n",
    "                Pattern(\"\\d{3}cm\"), \n",
    "                Sanitizer(lambda x: float(x[:-2]), Min(150)),\n",
    "                Sanitizer(lambda x: float(x[:-2]), Max(193))\n",
    "            ]),\n",
    "            All([\n",
    "                Pattern(\"\\d{2}in\"), \n",
    "                Sanitizer(lambda x: float(x[:-2]), Min(59)),\n",
    "                Sanitizer(lambda x: float(x[:-2]), Max(76))\n",
    "            ])\n",
    "        ])]},\n",
    "    {\n",
    "        \"name\":\"hcl\", \n",
    "        \"required\":True, \n",
    "        \"validators\":[Pattern(\"^#[0-9a-f]{6}$\")]\n",
    "    },\n",
    "    {\n",
    "        \"name\":\"ecl\",\n",
    "        \"required\":True, \n",
    "        \"validators\":[Pattern(\"^amb|blu|brn|gry|grn|hzl|oth$\")]\n",
    "    },\n",
    "    {\n",
    "        \"name\":\"pid\",\n",
    "        \"required\":True,\n",
    "        \"validators\":[Pattern(\"^\\d{9}$\")]\n",
    "    },\n",
    "    {\n",
    "        \"name\":\"cid\", \n",
    "        \"required\":False\n",
    "    }\n",
    "]"
   ]
  },
  {
   "cell_type": "code",
   "execution_count": 6,
   "metadata": {
    "collapsed": false,
    "deletable": true,
    "editable": true
   },
   "outputs": [
    {
     "data": {
      "text/plain": [
       "153"
      ]
     },
     "execution_count": 6,
     "metadata": {},
     "output_type": "execute_result"
    }
   ],
   "source": [
    "def run(data): \n",
    "    return sum(validate(passport, schema) for passport in split(data))\n",
    "\n",
    "run(data)"
   ]
  }
 ],
 "metadata": {
  "kernelspec": {
   "display_name": "Python 3",
   "language": "python",
   "name": "python3"
  },
  "language_info": {
   "codemirror_mode": {
    "name": "ipython",
    "version": 3
   },
   "file_extension": ".py",
   "mimetype": "text/x-python",
   "name": "python",
   "nbconvert_exporter": "python",
   "pygments_lexer": "ipython3",
   "version": "3.6.1"
  }
 },
 "nbformat": 4,
 "nbformat_minor": 2
}
