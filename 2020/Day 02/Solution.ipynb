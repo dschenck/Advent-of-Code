{
 "cells": [
  {
   "cell_type": "code",
   "execution_count": 1,
   "metadata": {
    "collapsed": true
   },
   "outputs": [],
   "source": [
    "with open(\"input.txt\", \"r\") as file: \n",
    "    data = file.read().strip().split(\"\\n\")"
   ]
  },
  {
   "cell_type": "markdown",
   "metadata": {},
   "source": [
    "## Part 1"
   ]
  },
  {
   "cell_type": "code",
   "execution_count": 2,
   "metadata": {
    "collapsed": false
   },
   "outputs": [
    {
     "data": {
      "text/plain": [
       "460"
      ]
     },
     "execution_count": 2,
     "metadata": {},
     "output_type": "execute_result"
    }
   ],
   "source": [
    "import re \n",
    "\n",
    "def parse(rule): \n",
    "    minrepeat, maxrepeat, letter = re.search(\"^(\\d+)-(\\d+) (\\w)$\", rule).groups()\n",
    "    return int(minrepeat), int(maxrepeat), letter\n",
    "\n",
    "assert parse(\"17-18 b\") == (17, 18, \"b\")\n",
    "\n",
    "def validate(password, rule):\n",
    "    minrepeat, maxrepeat, letter = parse(rule)\n",
    "    return minrepeat <= len([l for l in password if l == letter]) <= maxrepeat\n",
    "\n",
    "assert validate(\"pzppzppsp\", \"4-7 p\") == True\n",
    "assert validate(\"pzxxzxpsp\", \"4-7 p\") == False\n",
    "\n",
    "def run(data): \n",
    "    count = 0\n",
    "    for line in data: \n",
    "        rule, password = line.split(\":\")\n",
    "        if validate(password, rule): \n",
    "            count += 1\n",
    "    return count\n",
    "\n",
    "run(data)"
   ]
  },
  {
   "cell_type": "markdown",
   "metadata": {},
   "source": [
    "## Part 2"
   ]
  },
  {
   "cell_type": "code",
   "execution_count": 3,
   "metadata": {
    "collapsed": false
   },
   "outputs": [
    {
     "data": {
      "text/plain": [
       "251"
      ]
     },
     "execution_count": 3,
     "metadata": {},
     "output_type": "execute_result"
    }
   ],
   "source": [
    "def validate(password, rule):\n",
    "    this, that, letter = parse(rule)\n",
    "    return (password[this-1] == letter) ^ (password[that-1] == letter)\n",
    "\n",
    "assert validate(\"test\", \"1-3 t\") == True\n",
    "assert validate(\"test\", \"1-4 t\") == False\n",
    "assert validate(\"test\", \"2-3 t\") == False\n",
    "\n",
    "def run(data): \n",
    "    count = 0\n",
    "    for line in data: \n",
    "        rule, password = line.split(\":\")\n",
    "        if validate(password.strip(), rule): \n",
    "            count += 1\n",
    "    return count\n",
    "\n",
    "run(data)"
   ]
  }
 ],
 "metadata": {
  "kernelspec": {
   "display_name": "Python 3",
   "language": "python",
   "name": "python3"
  },
  "language_info": {
   "codemirror_mode": {
    "name": "ipython",
    "version": 3
   },
   "file_extension": ".py",
   "mimetype": "text/x-python",
   "name": "python",
   "nbconvert_exporter": "python",
   "pygments_lexer": "ipython3",
   "version": "3.6.1"
  }
 },
 "nbformat": 4,
 "nbformat_minor": 2
}
