{
 "cells": [
  {
   "cell_type": "code",
   "execution_count": 1,
   "id": "bf27f6d3",
   "metadata": {},
   "outputs": [],
   "source": [
    "with open(\"./input.txt\", \"r\") as file: \n",
    "    positions = [int(x) for x in file.read().strip().split(\",\")]"
   ]
  },
  {
   "cell_type": "code",
   "execution_count": 2,
   "id": "3e9ac3cd",
   "metadata": {},
   "outputs": [
    {
     "data": {
      "text/plain": [
       "349769"
      ]
     },
     "execution_count": 2,
     "metadata": {},
     "output_type": "execute_result"
    }
   ],
   "source": [
    "import numpy as np\n",
    "\n",
    "def run(positions):\n",
    "    \"\"\"\n",
    "    Compute the sum of distances between each position and the \n",
    "    population median\n",
    "    \"\"\"\n",
    "    median = np.median(positions)\n",
    "    return int(sum(abs(p - median) for p in positions))\n",
    "\n",
    "run(positions)"
   ]
  },
  {
   "cell_type": "code",
   "execution_count": 3,
   "id": "43cd9ec0",
   "metadata": {},
   "outputs": [
    {
     "data": {
      "text/plain": [
       "99540554.0"
      ]
     },
     "execution_count": 3,
     "metadata": {},
     "output_type": "execute_result"
    }
   ],
   "source": [
    "def cost(dist): \n",
    "    \"\"\"\n",
    "    Cost function\n",
    "    \"\"\"\n",
    "    return dist * (dist + 1) / 2\n",
    "\n",
    "def run(positions):\n",
    "    average = round(np.mean(positions),0) - 1\n",
    "    return sum(cost(abs(p - average)) for p in positions)\n",
    "\n",
    "run(positions)"
   ]
  }
 ],
 "metadata": {
  "kernelspec": {
   "display_name": "Python 3",
   "language": "python",
   "name": "python3"
  },
  "language_info": {
   "codemirror_mode": {
    "name": "ipython",
    "version": 3
   },
   "file_extension": ".py",
   "mimetype": "text/x-python",
   "name": "python",
   "nbconvert_exporter": "python",
   "pygments_lexer": "ipython3",
   "version": "3.9.1"
  },
  "toc": {
   "base_numbering": 1,
   "nav_menu": {},
   "number_sections": false,
   "sideBar": false,
   "skip_h1_title": false,
   "title_cell": "Table of Contents",
   "title_sidebar": "Contents",
   "toc_cell": false,
   "toc_position": {},
   "toc_section_display": false,
   "toc_window_display": false
  }
 },
 "nbformat": 4,
 "nbformat_minor": 5
}
