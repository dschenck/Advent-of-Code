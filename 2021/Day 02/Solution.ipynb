{
 "cells": [
  {
   "cell_type": "code",
   "execution_count": 1,
   "id": "a300802b",
   "metadata": {},
   "outputs": [],
   "source": [
    "with open(\"./input.txt\", \"r\") as file: \n",
    "    data = file.read().strip().split(\"\\n\")"
   ]
  },
  {
   "cell_type": "markdown",
   "id": "f29f241a",
   "metadata": {},
   "source": [
    "# Part 1"
   ]
  },
  {
   "cell_type": "code",
   "execution_count": 2,
   "id": "abc73b87",
   "metadata": {},
   "outputs": [],
   "source": [
    "import re\n",
    "\n",
    "def move(x:int, depth:int, direction:str, distance:int) -> tuple: \n",
    "    if direction == \"forward\": \n",
    "        return x + distance, depth\n",
    "    \n",
    "    if direction == \"up\": \n",
    "        return x, depth - distance\n",
    "    \n",
    "    if direction == \"down\":\n",
    "        return x, depth + distance\n",
    "    \n",
    "    raise ValueError(f\"Expected direction to be one of 'forward', 'up' or 'down', received {direction}\")\n",
    "    \n",
    "def parse(instruction:str) -> tuple: \n",
    "    match = re.search(\"(?P<direction>\\w+) (?P<distance>\\d+)\", instruction)\n",
    "    return match.group(\"direction\"), int(match.group(\"distance\"))\n"
   ]
  },
  {
   "cell_type": "code",
   "execution_count": 3,
   "id": "bd60d868",
   "metadata": {},
   "outputs": [
    {
     "data": {
      "text/plain": [
       "1762050"
      ]
     },
     "execution_count": 3,
     "metadata": {},
     "output_type": "execute_result"
    }
   ],
   "source": [
    "def run():\n",
    "    position = (0, 0)\n",
    "    for instruction in data: \n",
    "        direction, distance = parse(instruction)\n",
    "        position = move(*position, direction, distance)\n",
    "    return position[0] * position[1]\n",
    "\n",
    "run()"
   ]
  },
  {
   "cell_type": "markdown",
   "id": "44f6d201",
   "metadata": {},
   "source": [
    "# Part 2"
   ]
  },
  {
   "cell_type": "code",
   "execution_count": 4,
   "id": "d01419c2",
   "metadata": {},
   "outputs": [
    {
     "data": {
      "text/plain": [
       "1855892637"
      ]
     },
     "execution_count": 4,
     "metadata": {},
     "output_type": "execute_result"
    }
   ],
   "source": [
    "def move(x:int, depth:int, aim:int, direction:str, distance:int) -> tuple: \n",
    "    \"\"\"\n",
    "    down X increases your aim by X units.\n",
    "    up X decreases your aim by X units.\n",
    "    forward X does two things:\n",
    "        It increases your horizontal position by X units.\n",
    "        It increases your depth by your aim multiplied by X.\n",
    "    \"\"\"\n",
    "    if direction == \"down\":\n",
    "        return x, depth, aim + distance\n",
    "    \n",
    "    if direction == \"up\": \n",
    "        return x, depth, aim - distance\n",
    "    \n",
    "    if direction == \"forward\": \n",
    "        return x + distance, depth + distance * aim, aim\n",
    "    \n",
    "    raise ValueError(f\"Expected direction to be one of 'forward', 'up' or 'down', received {direction}\")\n",
    "    \n",
    "def run(): \n",
    "    position = (0, 0, 0)\n",
    "    for instruction in data: \n",
    "        direction, distance = parse(instruction)\n",
    "        position = move(*position, direction, distance)\n",
    "    return position[0] * position[1]\n",
    "\n",
    "run()"
   ]
  }
 ],
 "metadata": {
  "kernelspec": {
   "display_name": "Python 3",
   "language": "python",
   "name": "python3"
  },
  "language_info": {
   "codemirror_mode": {
    "name": "ipython",
    "version": 3
   },
   "file_extension": ".py",
   "mimetype": "text/x-python",
   "name": "python",
   "nbconvert_exporter": "python",
   "pygments_lexer": "ipython3",
   "version": "3.9.1"
  },
  "toc": {
   "base_numbering": 1,
   "nav_menu": {},
   "number_sections": false,
   "sideBar": false,
   "skip_h1_title": false,
   "title_cell": "Table of Contents",
   "title_sidebar": "Contents",
   "toc_cell": false,
   "toc_position": {},
   "toc_section_display": false,
   "toc_window_display": false
  }
 },
 "nbformat": 4,
 "nbformat_minor": 5
}
