{
 "cells": [
  {
   "cell_type": "code",
   "execution_count": 1,
   "id": "2590d18b",
   "metadata": {},
   "outputs": [],
   "source": [
    "with open(\"./input.txt\", \"r\") as file: \n",
    "    data = file.read().strip().split(\"\\n\")"
   ]
  },
  {
   "cell_type": "markdown",
   "id": "34c4966b",
   "metadata": {},
   "source": [
    "# Part 1"
   ]
  },
  {
   "cell_type": "code",
   "execution_count": 2,
   "id": "5a9bf62e",
   "metadata": {},
   "outputs": [],
   "source": [
    "import itertools"
   ]
  },
  {
   "cell_type": "code",
   "execution_count": 3,
   "id": "16ca581e",
   "metadata": {},
   "outputs": [
    {
     "data": {
      "text/plain": [
       "{('a', 'b', 'c', 'e', 'f', 'g'): 0,\n",
       " ('c', 'f'): 1,\n",
       " ('a', 'c', 'd', 'e', 'g'): 2,\n",
       " ('a', 'c', 'd', 'f', 'g'): 3,\n",
       " ('b', 'c', 'd', 'f'): 4,\n",
       " ('a', 'b', 'd', 'f', 'g'): 5,\n",
       " ('a', 'b', 'd', 'e', 'f', 'g'): 6,\n",
       " ('a', 'c', 'f'): 7,\n",
       " ('a', 'b', 'c', 'd', 'e', 'f', 'g'): 8,\n",
       " ('a', 'b', 'c', 'd', 'f', 'g'): 9}"
      ]
     },
     "execution_count": 3,
     "metadata": {},
     "output_type": "execute_result"
    }
   ],
   "source": [
    "DIGITS = {\n",
    "    0:\"abcefg\",\n",
    "    1:\"cf\",\n",
    "    2:\"acdeg\",\n",
    "    3:\"acdfg\",\n",
    "    4:\"bcdf\",\n",
    "    5:\"abdfg\",\n",
    "    6:\"abdefg\",\n",
    "    7:\"acf\",\n",
    "    8:\"abcdefg\",\n",
    "    9:\"abcdfg\"\n",
    "}\n",
    "\n",
    "REVERSED_DIGITS = {\n",
    "    tuple(sorted(values)):number \n",
    "    for number,values in DIGITS.items()\n",
    "}\n",
    "\n",
    "REVERSED_DIGITS"
   ]
  },
  {
   "cell_type": "code",
   "execution_count": 4,
   "id": "a9f9f24d",
   "metadata": {},
   "outputs": [],
   "source": [
    "def parse(entry): \n",
    "    \"\"\"\n",
    "    Parses a row of data into a list of sample patterns \n",
    "    and list of output digits\n",
    "    \"\"\"\n",
    "    patterns, output = entry.split(\"|\")\n",
    "    return (patterns.strip().split(), output.strip().split())"
   ]
  },
  {
   "cell_type": "code",
   "execution_count": 5,
   "id": "d8c0ed3b",
   "metadata": {},
   "outputs": [
    {
     "data": {
      "text/plain": [
       "521"
      ]
     },
     "execution_count": 5,
     "metadata": {},
     "output_type": "execute_result"
    }
   ],
   "source": [
    "def main():\n",
    "    with open(\"./input.txt\", \"r\") as file: \n",
    "        data = file.read().strip().split(\"\\n\")\n",
    "        \n",
    "    count = 0\n",
    "    for patterns, outputs in [parse(row) for row in data]:\n",
    "        for token in outputs: \n",
    "            if len(token) in {len(DIGITS[x]) for x in {1,4,7,8}}:\n",
    "                count += 1\n",
    "    return count\n",
    "\n",
    "main()"
   ]
  },
  {
   "cell_type": "markdown",
   "id": "786593f9",
   "metadata": {},
   "source": [
    "# Part 2"
   ]
  },
  {
   "cell_type": "code",
   "execution_count": 6,
   "id": "67c169fa",
   "metadata": {},
   "outputs": [
    {
     "data": {
      "text/plain": [
       "({'d': 'a', 'e': 'b', 'a': 'c', 'f': 'd', 'g': 'e', 'b': 'f', 'c': 'g'}, 5353)"
      ]
     },
     "execution_count": 6,
     "metadata": {},
     "output_type": "execute_result"
    }
   ],
   "source": [
    "def test(digits, mapping):\n",
    "    \"\"\"\n",
    "    Tests whether a given mapping can decrypt a set scrambled\n",
    "    digit patterns\n",
    "    \n",
    "    Parameters\n",
    "    ----------\n",
    "    digits : list[str]\n",
    "        list of scrambed digits\n",
    "    mapping : dict\n",
    "        mapping of segment name to segment name\n",
    "        \n",
    "    Example\n",
    "    -------\n",
    "    test(\"ae\", {\"a\":\"c\",...\"g\":\"b\"})\n",
    "    \n",
    "    Returns\n",
    "    -------\n",
    "    bool\n",
    "        if the digits can be decrypted with the given mapping\n",
    "    \"\"\"\n",
    "    for digit in digits: \n",
    "        if not tuple(sorted(mapping[d] for d in digit)) in REVERSED_DIGITS: \n",
    "            return False\n",
    "    return True\n",
    "\n",
    "def solve(digits):\n",
    "    \"\"\"\n",
    "    Returns the first mapping of segment name to segment name\n",
    "    which would allow each digit in the scrambed series of \n",
    "    digits to represent a valid number\n",
    "    \n",
    "    Parameters\n",
    "    ----------\n",
    "    digits : list\n",
    "        List of scrambled digits \n",
    "    \n",
    "    Returns\n",
    "    -------\n",
    "    dict \n",
    "        The first valid mapping\n",
    "        \n",
    "    Raises\n",
    "    ------\n",
    "    Exception\n",
    "        If no valid mapping is found from all the permutations\n",
    "    \"\"\"\n",
    "    for perm in itertools.permutations(\"abcdefg\"): \n",
    "        mapping = {token:\"abcdefg\"[i] for i, token in enumerate(perm)}\n",
    "\n",
    "        if test(digits, mapping): \n",
    "            return mapping\n",
    "        \n",
    "    raise Exception(digits)\n",
    "    \n",
    "def decrypt(scrambled, mapping): \n",
    "    \"\"\"\n",
    "    Given a scrambled digit (or list thereof), and a key mapping, \n",
    "    returns the digit in decimal representation\n",
    "    \n",
    "    Parameters\n",
    "    ----------\n",
    "    scrambled : str\n",
    "        digit or list of digits\n",
    "    mapping : dict\n",
    "        mapping of segment name to segment name\n",
    "    \n",
    "    Returns\n",
    "    -------\n",
    "    int\n",
    "        the represented integer\n",
    "    \"\"\"\n",
    "    if isinstance(scrambled, list): \n",
    "        return int(\"\".join([str(decrypt(s, mapping)) for s in scrambled]), 10)\n",
    "    \n",
    "    decrypted = \"\".join([mapping[k] for k in scrambled])\n",
    "    \n",
    "    return REVERSED_DIGITS[tuple(sorted(decrypted))]\n",
    "\n",
    "mapping = solve(\"acedgfb cdfbe gcdfa fbcad dab cefabd cdfgeb eafb cagedb ab\".split())\n",
    "mapping, decrypt(\"cdfeb fcadb cdfeb cdbaf\".split(), mapping)"
   ]
  },
  {
   "cell_type": "code",
   "execution_count": 7,
   "id": "dcfc1a69",
   "metadata": {},
   "outputs": [
    {
     "data": {
      "text/plain": [
       "1016804"
      ]
     },
     "execution_count": 7,
     "metadata": {},
     "output_type": "execute_result"
    }
   ],
   "source": [
    "def main(): \n",
    "    with open(\"./input.txt\", \"r\") as file: \n",
    "        data = file.read().strip().split(\"\\n\")\n",
    "    \n",
    "    output = []\n",
    "    for patterns, outputs in [parse(row) for row in data]:\n",
    "        mapping = solve(patterns)\n",
    "        output.append(decrypt(outputs, mapping))\n",
    "        \n",
    "    return sum(output)\n",
    "        \n",
    "main()"
   ]
  }
 ],
 "metadata": {
  "kernelspec": {
   "display_name": "Python 3",
   "language": "python",
   "name": "python3"
  },
  "language_info": {
   "codemirror_mode": {
    "name": "ipython",
    "version": 3
   },
   "file_extension": ".py",
   "mimetype": "text/x-python",
   "name": "python",
   "nbconvert_exporter": "python",
   "pygments_lexer": "ipython3",
   "version": "3.9.1"
  },
  "toc": {
   "base_numbering": 1,
   "nav_menu": {},
   "number_sections": false,
   "sideBar": false,
   "skip_h1_title": false,
   "title_cell": "Table of Contents",
   "title_sidebar": "Contents",
   "toc_cell": false,
   "toc_position": {},
   "toc_section_display": false,
   "toc_window_display": false
  }
 },
 "nbformat": 4,
 "nbformat_minor": 5
}
