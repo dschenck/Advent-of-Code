{
 "cells": [
  {
   "cell_type": "code",
   "execution_count": 1,
   "id": "7e21b1b6",
   "metadata": {},
   "outputs": [],
   "source": [
    "with open(\"./input.txt\", \"r\") as file: \n",
    "    data = file.read().strip()\n",
    "    \n",
    "with open(\"./sample.txt\", \"r\") as file: \n",
    "    sample = file.read().strip()"
   ]
  },
  {
   "cell_type": "markdown",
   "id": "60f93ab9",
   "metadata": {},
   "source": [
    "# Part 1"
   ]
  },
  {
   "cell_type": "code",
   "execution_count": 2,
   "id": "1f27c4f8",
   "metadata": {},
   "outputs": [],
   "source": [
    "class Board: \n",
    "    def __init__(self, numbers): \n",
    "        self.numbers = numbers\n",
    "        self.draws = [[False for c in row] for row in numbers]\n",
    "        \n",
    "    def wins(self) -> bool:\n",
    "        \"\"\"\n",
    "        Checks if any row or any column is complete\n",
    "        \"\"\"\n",
    "        if any(all(row) for row in self.draws): \n",
    "            return True\n",
    "        if any(all(col) for col in zip(*self.draws)):\n",
    "            return True\n",
    "        return False\n",
    "    \n",
    "    def score(self) -> int: \n",
    "        \"\"\"\n",
    "        Returns the sum of all numbers not drawn\n",
    "        \"\"\"\n",
    "        score = 0\n",
    "        for i, row in enumerate(self.numbers):\n",
    "            for j, value in enumerate(row): \n",
    "                if self.draws[i][j] is False: \n",
    "                    score += value\n",
    "        return score\n",
    "    \n",
    "    def handle(self, number:int): \n",
    "        \"\"\"\n",
    "        Checks if the number is in the board, and if yes, \n",
    "        marks its position as drawn\n",
    "        \"\"\"\n",
    "        for i, row in enumerate(self.numbers): \n",
    "            for j, value in enumerate(row): \n",
    "                if value == number: \n",
    "                    self.draws[i][j] = True\n",
    "        return\n",
    "                \n",
    "    @classmethod\n",
    "    def parse(cls, data:str):\n",
    "        \"\"\"\n",
    "        Parses an input string\n",
    "        \"\"\"\n",
    "        numbers = [[int(number) for number in row.strip().split()] \n",
    "                   for row in data.strip().split(\"\\n\")]\n",
    "        return cls(numbers)\n",
    "    \n",
    "class Game: \n",
    "    def __init__(self, boards:list): \n",
    "        self.boards = boards\n",
    "        \n",
    "    def play(self, numbers:list[int]): \n",
    "        for n, number in enumerate(numbers): \n",
    "            for board in self.boards: \n",
    "                board.handle(number)\n",
    "                if board.wins():\n",
    "                    return n, board, board.score() * number\n",
    "        raise Exception(\"No board won the game\")"
   ]
  },
  {
   "cell_type": "code",
   "execution_count": 3,
   "id": "76dd9bd8",
   "metadata": {},
   "outputs": [
    {
     "name": "stdout",
     "output_type": "stream",
     "text": [
      "<__main__.Board object at 0x7fc31b0fb9a0> won after 20 rounds with 829 x 17 = 14093 points\n",
      "<__main__.Board object at 0x7fc31b0f8b50> won after 11 rounds with 188 x 24 = 4512 points\n"
     ]
    }
   ],
   "source": [
    "def run(inputs:str): \n",
    "    #parse the inputs\n",
    "    numbers = [int(n) for n in inputs.split(\"\\n\")[0].strip().split(\",\")]\n",
    "    boards  = \"\\n\".join(inputs.split(\"\\n\")[1:]).split(\"\\n\\n\")\n",
    "    \n",
    "    #play the game\n",
    "    rounds, board, score = Game(\n",
    "        [Board.parse(board) for board in boards]\n",
    "    ).play(numbers)\n",
    "    \n",
    "    print(f\"{board} won after {rounds} rounds with {board.score()} x {numbers[rounds]} = {score} points\")\n",
    "    \n",
    "run(data)\n",
    "run(sample)"
   ]
  },
  {
   "cell_type": "markdown",
   "id": "906cf254",
   "metadata": {},
   "source": [
    "# Part 2"
   ]
  },
  {
   "cell_type": "code",
   "execution_count": 4,
   "id": "1ee29c24",
   "metadata": {},
   "outputs": [],
   "source": [
    "class AltGame(Game): \n",
    "    def play(self, numbers:list[int]): \n",
    "        for number in numbers:\n",
    "            for board in self.boards: \n",
    "                board.handle(number)\n",
    "                \n",
    "            #if there is only 1 board left, play the original game with only that board\n",
    "            #to get its winning score\n",
    "            if len([b for b in self.boards if not b.wins()]) == 1: \n",
    "                return Game([b for b in self.boards if not b.wins()]).play(numbers)\n",
    "                \n",
    "        raise Exception(\"No board was ever the last to win the game\")"
   ]
  },
  {
   "cell_type": "code",
   "execution_count": 5,
   "id": "716d4287",
   "metadata": {},
   "outputs": [
    {
     "name": "stdout",
     "output_type": "stream",
     "text": [
      "<__main__.Board object at 0x7fc31b0f8040> was the last to win, after 14 rounds with 148 x 13 = 1924 points\n",
      "<__main__.Board object at 0x7fc31b10fac0> was the last to win, after 83 rounds with 483 x 36 = 17388 points\n"
     ]
    }
   ],
   "source": [
    "def run(inputs:str): \n",
    "    #parse the inputs\n",
    "    numbers = [int(n) for n in inputs.split(\"\\n\")[0].strip().split(\",\")]\n",
    "    boards  = \"\\n\".join(inputs.split(\"\\n\")[1:]).split(\"\\n\\n\")\n",
    "    \n",
    "    #play the game\n",
    "    rounds, board, score = AltGame([Board.parse(board) for board in boards]).play(numbers)\n",
    "    \n",
    "    print(f\"{board} was the last to win, after {rounds} rounds with {board.score()} x {numbers[rounds]} = {score} points\")\n",
    "    \n",
    "run(sample)\n",
    "run(data)"
   ]
  }
 ],
 "metadata": {
  "kernelspec": {
   "display_name": "Python 3",
   "language": "python",
   "name": "python3"
  },
  "language_info": {
   "codemirror_mode": {
    "name": "ipython",
    "version": 3
   },
   "file_extension": ".py",
   "mimetype": "text/x-python",
   "name": "python",
   "nbconvert_exporter": "python",
   "pygments_lexer": "ipython3",
   "version": "3.9.1"
  },
  "toc": {
   "base_numbering": 1,
   "nav_menu": {},
   "number_sections": false,
   "sideBar": false,
   "skip_h1_title": false,
   "title_cell": "Table of Contents",
   "title_sidebar": "Contents",
   "toc_cell": false,
   "toc_position": {},
   "toc_section_display": false,
   "toc_window_display": false
  }
 },
 "nbformat": 4,
 "nbformat_minor": 5
}
