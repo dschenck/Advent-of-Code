{
 "cells": [
  {
   "cell_type": "code",
   "execution_count": 1,
   "id": "824d79c7",
   "metadata": {},
   "outputs": [
    {
     "data": {
      "text/plain": [
       "425"
      ]
     },
     "execution_count": 1,
     "metadata": {},
     "output_type": "execute_result"
    }
   ],
   "source": [
    "def load(dataset): \n",
    "    \"\"\"\n",
    "    Load and parse a dataset from file\n",
    "    \n",
    "    Returns\n",
    "    -------\n",
    "    matrix\n",
    "        list of list of elevation numbers\n",
    "    \"\"\"\n",
    "    with open(f\"./{dataset}.txt\", \"r\") as file: \n",
    "        data = file.read().strip().split(\"\\n\")\n",
    "        \n",
    "    return [[int(x) for x in row] for row in data]\n",
    "\n",
    "def find(grid):\n",
    "    \"\"\"\n",
    "    Find all the low points in a grid, where \n",
    "    a low point is defined a being strictly lower \n",
    "    than the four adjacent points\n",
    "    \n",
    "    Yields\n",
    "    ------\n",
    "    x, y, height\n",
    "        Low point in the grid\n",
    "    \"\"\"\n",
    "    w, h = len(grid[0]), len(grid)\n",
    "    \n",
    "    for y in range(h): \n",
    "        for x in range(w):\n",
    "            \n",
    "            if grid[y][x] >= (grid[y][x-1] if x != 0 else 10): \n",
    "                continue\n",
    "                \n",
    "            if grid[y][x] >= (grid[y][x+1] if x != (w-1) else 10): \n",
    "                continue\n",
    "    \n",
    "            if grid[y][x] >= (grid[y-1][x] if y != 0 else 10):\n",
    "                continue\n",
    "                \n",
    "            if grid[y][x] >= (grid[y+1][x] if y != (h-1) else 10):\n",
    "                continue\n",
    "            \n",
    "            yield (x, y, grid[y][x])\n",
    "            \n",
    "def main(): \n",
    "    grid = load(\"input\")\n",
    "    \n",
    "    return sum(h+1 for x, y, h in find(grid))\n",
    "\n",
    "main()"
   ]
  },
  {
   "cell_type": "code",
   "execution_count": 2,
   "id": "874c5b0d",
   "metadata": {},
   "outputs": [
    {
     "data": {
      "text/plain": [
       "1135260"
      ]
     },
     "execution_count": 2,
     "metadata": {},
     "output_type": "execute_result"
    }
   ],
   "source": [
    "def explore(position, grid):\n",
    "    \"\"\"\n",
    "    Given a grid of elevations points and a starting position,\n",
    "    finds all the adjacent points less than 9\n",
    "    \n",
    "    Returns\n",
    "    -------\n",
    "    set \n",
    "        set of adjacent points (as (x, y) tuples)\n",
    "    \"\"\"\n",
    "\n",
    "    pending = set([position])\n",
    "    visited = set()\n",
    "\n",
    "    while len(pending) != 0: \n",
    "        x, y = pending.pop()\n",
    "        \n",
    "        visited.add((x,y))\n",
    "        \n",
    "        for h, v in [(-1,0),(+1,0),(0,-1),(0,+1)]: \n",
    "            newy, newx = max(0, y+v), max(0, x+h)\n",
    "            \n",
    "            try: \n",
    "                if grid[newy][newx] == 9: \n",
    "                    continue\n",
    "                    \n",
    "            except IndexError:\n",
    "                continue\n",
    "                \n",
    "            if (newx, newy) in visited: \n",
    "                continue\n",
    "                \n",
    "            pending.add((newx, newy))\n",
    "            \n",
    "    return visited\n",
    "\n",
    "def main():\n",
    "    grid = load(\"input\")\n",
    "\n",
    "    basins = []\n",
    "    for x, y, h in find(grid):\n",
    "        basins.append(((x, y), len(explore((x, y), grid))))\n",
    "    \n",
    "    product = 1\n",
    "    for origin, size in sorted(basins, key=lambda x: x[1], reverse=True)[0:3]:\n",
    "        product *= size\n",
    "        \n",
    "    return product\n",
    "\n",
    "main()"
   ]
  }
 ],
 "metadata": {
  "kernelspec": {
   "display_name": "Python 3",
   "language": "python",
   "name": "python3"
  },
  "language_info": {
   "codemirror_mode": {
    "name": "ipython",
    "version": 3
   },
   "file_extension": ".py",
   "mimetype": "text/x-python",
   "name": "python",
   "nbconvert_exporter": "python",
   "pygments_lexer": "ipython3",
   "version": "3.9.1"
  },
  "toc": {
   "base_numbering": 1,
   "nav_menu": {},
   "number_sections": false,
   "sideBar": false,
   "skip_h1_title": false,
   "title_cell": "Table of Contents",
   "title_sidebar": "Contents",
   "toc_cell": false,
   "toc_position": {},
   "toc_section_display": false,
   "toc_window_display": false
  }
 },
 "nbformat": 4,
 "nbformat_minor": 5
}
