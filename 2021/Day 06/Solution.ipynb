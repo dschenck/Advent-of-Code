{
 "cells": [
  {
   "cell_type": "code",
   "execution_count": 1,
   "id": "6d5f2ff5",
   "metadata": {},
   "outputs": [],
   "source": [
    "with open(\"./input.txt\", \"r\") as file: \n",
    "    numbers = [int(x) for x in file.read().strip().split(\",\")]"
   ]
  },
  {
   "cell_type": "code",
   "execution_count": 2,
   "id": "6f8080d5",
   "metadata": {},
   "outputs": [
    {
     "data": {
      "text/plain": [
       "(5934, 351092, 26984457539, 1595330616005)"
      ]
     },
     "execution_count": 2,
     "metadata": {},
     "output_type": "execute_result"
    }
   ],
   "source": [
    "import collections\n",
    "\n",
    "def transform(cohorts): \n",
    "    \"\"\"\n",
    "    Returns the composition of the fish population \n",
    "    on the next day, assuming that individuals aged 0\n",
    "    reset to 6 and yield new individuals of age 8. \n",
    "    \n",
    "    Paramters\n",
    "    ---------\n",
    "    cohorts : dict\n",
    "        mapping of {age : count}\n",
    "    \n",
    "    Returns\n",
    "    -------\n",
    "    dict\n",
    "        the composition of the fish population \n",
    "        on the following day\n",
    "    \"\"\"\n",
    "    getters = {\n",
    "        6:cohorts.get(0,0) + cohorts.get(7,0), \n",
    "        8:cohorts.get(0,0)\n",
    "    }\n",
    "    \n",
    "    return {age:getters.get(age, cohorts.get(age+1, 0)) for age in range(9)}\n",
    "\n",
    "def run(numbers, ticks):\n",
    "    cohorts = {age:count for age, count in collections.Counter(numbers).items()}\n",
    "    \n",
    "    for tick in range(ticks):\n",
    "        cohorts = transform(cohorts)\n",
    "    return sum([count for age, count in cohorts.items()])\n",
    "\n",
    "run([3,4,3,1,2],80), run(numbers, 80), run([3,4,3,1,2],256), run(numbers, 256)"
   ]
  }
 ],
 "metadata": {
  "kernelspec": {
   "display_name": "Python 3",
   "language": "python",
   "name": "python3"
  },
  "language_info": {
   "codemirror_mode": {
    "name": "ipython",
    "version": 3
   },
   "file_extension": ".py",
   "mimetype": "text/x-python",
   "name": "python",
   "nbconvert_exporter": "python",
   "pygments_lexer": "ipython3",
   "version": "3.9.1"
  },
  "toc": {
   "base_numbering": 1,
   "nav_menu": {},
   "number_sections": false,
   "sideBar": false,
   "skip_h1_title": false,
   "title_cell": "Table of Contents",
   "title_sidebar": "Contents",
   "toc_cell": false,
   "toc_position": {},
   "toc_section_display": false,
   "toc_window_display": false
  }
 },
 "nbformat": 4,
 "nbformat_minor": 5
}
