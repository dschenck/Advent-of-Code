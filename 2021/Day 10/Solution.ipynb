{
 "cells": [
  {
   "cell_type": "markdown",
   "id": "3b038b6d",
   "metadata": {},
   "source": [
    "# Part 1"
   ]
  },
  {
   "cell_type": "code",
   "execution_count": 1,
   "id": "a0bef806",
   "metadata": {},
   "outputs": [
    {
     "data": {
      "text/plain": [
       "265527"
      ]
     },
     "execution_count": 1,
     "metadata": {},
     "output_type": "execute_result"
    }
   ],
   "source": [
    "OPENING = [\"(\",\"[\",\"{\",\"<\"]\n",
    "CLOSING = [\")\",\"]\",\"}\",\">\"]\n",
    "\n",
    "class InvalidClosingTagException(Exception):\n",
    "    \"\"\"\n",
    "    Error thrown when the wrong closing tag follows\n",
    "    an opening tag (e.g. '{)')\n",
    "    \"\"\"\n",
    "    def __init__(self, char, position, line, stack): \n",
    "        self.char     = char\n",
    "        self.position = position\n",
    "        self.stack    = stack\n",
    "        self.line     = line\n",
    "\n",
    "class IncompleteLineException(Exception): \n",
    "    \"\"\"\n",
    "    Error thrown when the line does not close \n",
    "    all tags\n",
    "    \"\"\"\n",
    "    def __init__(self, line, stack): \n",
    "        self.line = line\n",
    "        self.stack = stack\n",
    "        \n",
    "def parse(line):\n",
    "    \"\"\"\n",
    "    Checks if a line is valid\n",
    "    \n",
    "    Raises\n",
    "    ------\n",
    "    InvalidClosingTagException\n",
    "        when the next character closing the wrong \n",
    "        tag\n",
    "    IncompleteLineException\n",
    "        when the line doesn't close all the tags\n",
    "    \"\"\"\n",
    "    stack = []\n",
    "    for i, char in enumerate(line): \n",
    "        if char in OPENING: \n",
    "            stack.append(char)\n",
    "        elif char in CLOSING: \n",
    "            if len(stack) == 0 or stack[-1] in CLOSING or char != CLOSING[OPENING.index(stack[-1])]: \n",
    "                raise InvalidClosingTagException(char, i, line, stack)\n",
    "            stack.pop()\n",
    "            \n",
    "    if len(stack) != 0: \n",
    "        raise IncompleteLineException(line, stack)\n",
    "    return\n",
    "\n",
    "def main():\n",
    "    POINTS = {\n",
    "        \")\":3, \n",
    "        \"]\":57,\n",
    "        \"}\":1197,\n",
    "        \">\":25137\n",
    "    }\n",
    "\n",
    "    with open(\"./input.txt\", \"r\") as file:\n",
    "        codebase = file.read().strip().split(\"\\n\")\n",
    "    \n",
    "    score = 0\n",
    "    for i, line in enumerate(codebase): \n",
    "        try: \n",
    "            parse(line)\n",
    "        except InvalidClosingTagException as e: \n",
    "            score += POINTS[e.char]\n",
    "        except IncompleteLineException as e: \n",
    "            pass\n",
    "    return score\n",
    "\n",
    "main()\n"
   ]
  },
  {
   "cell_type": "markdown",
   "id": "68b0e688",
   "metadata": {},
   "source": [
    "# Part 2"
   ]
  },
  {
   "cell_type": "code",
   "execution_count": 2,
   "id": "53e3ab40",
   "metadata": {},
   "outputs": [
    {
     "data": {
      "text/plain": [
       "3969823589"
      ]
     },
     "execution_count": 2,
     "metadata": {},
     "output_type": "execute_result"
    }
   ],
   "source": [
    "def main():\n",
    "    POINTS = {\n",
    "        \")\":1, \n",
    "        \"]\":2,\n",
    "        \"}\":3,\n",
    "        \">\":4\n",
    "    }\n",
    "    \n",
    "    with open(\"./input.txt\", \"r\") as file:\n",
    "        codebase = file.read().strip().split(\"\\n\")\n",
    "        \n",
    "    scores = []\n",
    "    for i, line in enumerate(codebase):\n",
    "        try: \n",
    "            parse(line)\n",
    "            \n",
    "        except InvalidClosingTagException as e: \n",
    "            continue\n",
    "            \n",
    "        except IncompleteLineException as e: \n",
    "            score = 0\n",
    "            for char in [CLOSING[OPENING.index(char)] for char in e.stack[::-1]]:\n",
    "                score = score * 5 + POINTS[char]\n",
    "            scores.append(score)\n",
    "                \n",
    "    scores = sorted(scores)\n",
    "    return scores[len(scores) // 2]\n",
    "\n",
    "main()"
   ]
  }
 ],
 "metadata": {
  "kernelspec": {
   "display_name": "Python 3",
   "language": "python",
   "name": "python3"
  },
  "language_info": {
   "codemirror_mode": {
    "name": "ipython",
    "version": 3
   },
   "file_extension": ".py",
   "mimetype": "text/x-python",
   "name": "python",
   "nbconvert_exporter": "python",
   "pygments_lexer": "ipython3",
   "version": "3.9.1"
  },
  "toc": {
   "base_numbering": 1,
   "nav_menu": {},
   "number_sections": false,
   "sideBar": false,
   "skip_h1_title": false,
   "title_cell": "Table of Contents",
   "title_sidebar": "Contents",
   "toc_cell": false,
   "toc_position": {},
   "toc_section_display": false,
   "toc_window_display": false
  }
 },
 "nbformat": 4,
 "nbformat_minor": 5
}
