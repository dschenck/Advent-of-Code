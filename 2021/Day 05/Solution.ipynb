{
 "cells": [
  {
   "cell_type": "code",
   "execution_count": 1,
   "id": "ee3f53f8",
   "metadata": {},
   "outputs": [],
   "source": [
    "with open(\"./input.txt\", \"r\") as file: \n",
    "    data = file.read().strip().split(\"\\n\")\n",
    "    \n",
    "with open(\"./sample.txt\", \"r\") as file: \n",
    "    sample = file.read().strip().split(\"\\n\")"
   ]
  },
  {
   "cell_type": "markdown",
   "id": "a941467b",
   "metadata": {},
   "source": [
    "# Part 1"
   ]
  },
  {
   "cell_type": "code",
   "execution_count": 2,
   "id": "dcd87641",
   "metadata": {},
   "outputs": [],
   "source": [
    "import re \n",
    "import collections\n",
    "\n",
    "def parse(row):\n",
    "    \"\"\"\n",
    "    Parses a row and returns a tuple of (x, y) tuples\n",
    "    \n",
    "    Example\n",
    "    -------\n",
    "    >>> parse(\"818,513 -> 818,849\")\n",
    "    (818, 513, 818, 849)\n",
    "    \"\"\"\n",
    "    match = re.search(\"(\\d+),(\\d+) -> (\\d+),(\\d+)\", row)\n",
    "    return tuple(int(x) for x in match.groups())"
   ]
  },
  {
   "cell_type": "code",
   "execution_count": 3,
   "id": "87c33e0c",
   "metadata": {},
   "outputs": [
    {
     "name": "stdout",
     "output_type": "stream",
     "text": [
      "There are 6007 points where two or more non-diagonal segments overlap\n"
     ]
    }
   ],
   "source": [
    "import collections\n",
    "\n",
    "def run(data): \n",
    "    #keys are (x, y), values are # of lines passing through it\n",
    "    graph = collections.defaultdict(lambda: 0)\n",
    "    \n",
    "    for segment in data: \n",
    "        x1, y1, x2, y2 = parse(segment)\n",
    "        \n",
    "        #only consider horizontal or vertical segments\n",
    "        if (x1 != x2) and (y1 != y2): \n",
    "            continue\n",
    "            \n",
    "        for x in range(min(x1, x2), max(x1, x2) + 1): \n",
    "            for y in range(min(y1, y2), max(y1, y2) + 1): \n",
    "                graph[(x, y)] += 1\n",
    "        \n",
    "    return sum(1 for point in graph if graph[point] > 1), graph\n",
    "\n",
    "total, graph = run(data)\n",
    "\n",
    "print(f\"There are {total} points where two or more non-diagonal segments overlap\")"
   ]
  },
  {
   "cell_type": "markdown",
   "id": "61f3b40c",
   "metadata": {},
   "source": [
    "# Part 2"
   ]
  },
  {
   "cell_type": "code",
   "execution_count": 4,
   "id": "4987c0c4",
   "metadata": {},
   "outputs": [
    {
     "name": "stdout",
     "output_type": "stream",
     "text": [
      "There are 19349 points where two or more segments overlap\n"
     ]
    }
   ],
   "source": [
    "def run(data): \n",
    "    #keys are (x, y), values are # of lines passing through it\n",
    "    graph = collections.defaultdict(lambda: 0)\n",
    "    \n",
    "    for segment in data: \n",
    "        x1, y1, x2, y2 = parse(segment)\n",
    "        \n",
    "        #if the line is vertical\n",
    "        if (x1 == x2): \n",
    "            for y in range(min(y1, y2), max(y1, y2) + 1): \n",
    "                graph[(x1, y)] += 1\n",
    "            \n",
    "        else:\n",
    "            for x in range(min(x1, x2), max(x1, x2) + 1):\n",
    "                graph[(x, y1 + (x - x1) * (y2 - y1)/(x2 - x1))] += 1\n",
    "                \n",
    "        \n",
    "    return sum(1 for point in graph if graph[point] > 1), graph\n",
    "\n",
    "total, graph = run(data)\n",
    "\n",
    "print(f\"There are {total} points where two or more segments overlap\")"
   ]
  }
 ],
 "metadata": {
  "kernelspec": {
   "display_name": "Python 3",
   "language": "python",
   "name": "python3"
  },
  "language_info": {
   "codemirror_mode": {
    "name": "ipython",
    "version": 3
   },
   "file_extension": ".py",
   "mimetype": "text/x-python",
   "name": "python",
   "nbconvert_exporter": "python",
   "pygments_lexer": "ipython3",
   "version": "3.9.1"
  },
  "toc": {
   "base_numbering": 1,
   "nav_menu": {},
   "number_sections": false,
   "sideBar": false,
   "skip_h1_title": false,
   "title_cell": "Table of Contents",
   "title_sidebar": "Contents",
   "toc_cell": false,
   "toc_position": {},
   "toc_section_display": false,
   "toc_window_display": false
  }
 },
 "nbformat": 4,
 "nbformat_minor": 5
}
