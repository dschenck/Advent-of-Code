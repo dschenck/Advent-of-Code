{
 "cells": [
  {
   "cell_type": "code",
   "execution_count": 1,
   "id": "7c76a0d1",
   "metadata": {},
   "outputs": [],
   "source": [
    "with open(\"./sample.txt\", \"r\") as file: \n",
    "    sample = file.read().strip().split()\n",
    "    \n",
    "with open(\"./input.txt\", \"r\") as file: \n",
    "    data = file.read().strip().split()"
   ]
  },
  {
   "cell_type": "markdown",
   "id": "d1ec9058",
   "metadata": {},
   "source": [
    "# Part 1"
   ]
  },
  {
   "cell_type": "code",
   "execution_count": 2,
   "id": "e2dd39c6",
   "metadata": {},
   "outputs": [
    {
     "data": {
      "text/plain": [
       "('011100011000', '100011100111', 4138664)"
      ]
     },
     "execution_count": 2,
     "metadata": {},
     "output_type": "execute_result"
    }
   ],
   "source": [
    "def run(data):\n",
    "    #this only works assuming 0 in case of tie\n",
    "    #determine the most and least frequent bit in each column\n",
    "    #zip(*data) transposes the rows into columns\n",
    "    highest = [1 \n",
    "               if round(sum(int(d) for d in row)/len(row), 0) == 1 \n",
    "               else 0\n",
    "               for row in zip(*data)]\n",
    "    \n",
    "    lowest  = [1 - d for d in highest]\n",
    "\n",
    "    gammarate   = \"\".join(str(bit) for bit in highest)\n",
    "    epsilonrate = \"\".join(str(bit) for bit in lowest)\n",
    "\n",
    "    return gammarate, epsilonrate, int(gammarate, 2) * int(epsilonrate, 2)\n",
    "\n",
    "run(data)"
   ]
  },
  {
   "cell_type": "markdown",
   "id": "50fd8e65",
   "metadata": {},
   "source": [
    "# Part 2"
   ]
  },
  {
   "cell_type": "code",
   "execution_count": 3,
   "id": "9630e2a1",
   "metadata": {},
   "outputs": [
    {
     "data": {
      "text/plain": [
       "(230, 4273224)"
      ]
     },
     "execution_count": 3,
     "metadata": {},
     "output_type": "execute_result"
    }
   ],
   "source": [
    "class RATINGTYPES: \n",
    "    OXYGEN = 1\n",
    "    CO2 = 0\n",
    "\n",
    "def compute(data, ratingtype, position=0): \n",
    "    \"\"\"\n",
    "    Locates and computes the oxygen generator rating and\n",
    "    CO2 scrubber rating\n",
    "    \n",
    "    Parameters\n",
    "    ----------\n",
    "    data : list\n",
    "        list of bytes\n",
    "    position : int\n",
    "        the current bit position we are considering\n",
    "    ratingtype : {0, -1}\n",
    "        0 for oxygen (most common)\n",
    "        -1 for CO2\n",
    "    \"\"\"\n",
    "    if len(data) == 1: \n",
    "        return int(data[0], 2)\n",
    "    \n",
    "    bits = [int(row[position]) for row in data]\n",
    "    \n",
    "    #if there are equally as many 1 and as there 0\n",
    "    if len(bits) % 2 == 0 and sum(bits) == len(bits) / 2: \n",
    "        bitcriteria = ratingtype\n",
    "    \n",
    "    #otherwise\n",
    "    else: \n",
    "        if ratingtype == RATINGTYPES.OXYGEN: \n",
    "            bitcriteria = round(sum(bits)/len(bits), 0)\n",
    "        else: \n",
    "            bitcriteria = 1 - round(sum(bits)/len(bits), 0)\n",
    "        \n",
    "    data = [row for row in data if int(row[position]) == bitcriteria]\n",
    "        \n",
    "    return compute(data, ratingtype, position+1)\n",
    "\n",
    "def run(data): \n",
    "    return compute(data, RATINGTYPES.OXYGEN) * compute(data, RATINGTYPES.CO2)\n",
    "\n",
    "run(sample), run(data)"
   ]
  }
 ],
 "metadata": {
  "kernelspec": {
   "display_name": "Python 3",
   "language": "python",
   "name": "python3"
  },
  "language_info": {
   "codemirror_mode": {
    "name": "ipython",
    "version": 3
   },
   "file_extension": ".py",
   "mimetype": "text/x-python",
   "name": "python",
   "nbconvert_exporter": "python",
   "pygments_lexer": "ipython3",
   "version": "3.9.1"
  },
  "toc": {
   "base_numbering": 1,
   "nav_menu": {},
   "number_sections": false,
   "sideBar": false,
   "skip_h1_title": false,
   "title_cell": "Table of Contents",
   "title_sidebar": "Contents",
   "toc_cell": false,
   "toc_position": {},
   "toc_section_display": false,
   "toc_window_display": false
  }
 },
 "nbformat": 4,
 "nbformat_minor": 5
}
