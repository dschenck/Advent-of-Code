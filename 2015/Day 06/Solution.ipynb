{
 "cells": [
  {
   "cell_type": "code",
   "execution_count": 1,
   "metadata": {
    "collapsed": false,
    "deletable": true,
    "editable": true
   },
   "outputs": [],
   "source": [
    "#part 1\n",
    "with open(\"input.txt\", \"r\") as file: \n",
    "    instructions = file.read().strip().split(\"\\n\")"
   ]
  },
  {
   "cell_type": "code",
   "execution_count": 2,
   "metadata": {
    "collapsed": false,
    "deletable": true,
    "editable": true
   },
   "outputs": [
    {
     "data": {
      "text/plain": [
       "543903"
      ]
     },
     "execution_count": 2,
     "metadata": {},
     "output_type": "execute_result"
    }
   ],
   "source": [
    "import re\n",
    "import numpy as np\n",
    "\n",
    "matrix = np.zeros((1000,1000))\n",
    "\n",
    "for instruction in instructions:\n",
    "    matches = re.search(\"(\\d{1,3}),(\\d{1,3}) through (\\d{1,3}),(\\d{1,4})\", instruction)\n",
    "    x1, y1, x2, y2 = (int(value) for value in matches.groups(1))\n",
    "    \n",
    "    if \"turn on\" in instruction: \n",
    "        matrix[x1:x2+1,y1:y2+1] = 1\n",
    "    elif \"turn off\" in instruction: \n",
    "        matrix[x1:x2+1,y1:y2+1] = 0\n",
    "    else:\n",
    "        matrix[x1:x2+1,y1:y2+1] = np.abs(matrix[x1:x2+1,y1:y2+1] - 1)\n",
    "\n",
    "int(matrix.sum())"
   ]
  },
  {
   "cell_type": "code",
   "execution_count": 3,
   "metadata": {
    "collapsed": false
   },
   "outputs": [
    {
     "data": {
      "text/plain": [
       "14687245"
      ]
     },
     "execution_count": 3,
     "metadata": {},
     "output_type": "execute_result"
    }
   ],
   "source": [
    "#part 2\n",
    "matrix = np.zeros((1000,1000))\n",
    "\n",
    "for instruction in instructions:\n",
    "    matches = re.search(\"(\\d{1,3}),(\\d{1,3}) through (\\d{1,3}),(\\d{1,4})\", instruction)\n",
    "    x1, y1, x2, y2 = (int(value) for value in matches.groups(1))\n",
    "    \n",
    "    if \"turn on\" in instruction: \n",
    "        matrix[x1:x2+1,y1:y2+1] += 1\n",
    "    elif \"turn off\" in instruction: \n",
    "        matrix[x1:x2+1,y1:y2+1] -= 1\n",
    "        matrix[matrix < 0] = 0\n",
    "    else:\n",
    "        matrix[x1:x2+1,y1:y2+1] += 2\n",
    "\n",
    "int(matrix.sum())"
   ]
  }
 ],
 "metadata": {
  "kernelspec": {
   "display_name": "Python 3",
   "language": "python",
   "name": "python3"
  },
  "language_info": {
   "codemirror_mode": {
    "name": "ipython",
    "version": 3
   },
   "file_extension": ".py",
   "mimetype": "text/x-python",
   "name": "python",
   "nbconvert_exporter": "python",
   "pygments_lexer": "ipython3",
   "version": "3.6.1"
  }
 },
 "nbformat": 4,
 "nbformat_minor": 2
}
