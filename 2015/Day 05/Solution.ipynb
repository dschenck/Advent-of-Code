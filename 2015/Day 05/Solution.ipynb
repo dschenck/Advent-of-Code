{
 "cells": [
  {
   "cell_type": "code",
   "execution_count": 16,
   "metadata": {
    "collapsed": false
   },
   "outputs": [
    {
     "data": {
      "text/plain": [
       "258"
      ]
     },
     "execution_count": 16,
     "metadata": {},
     "output_type": "execute_result"
    }
   ],
   "source": [
    "#part 1\n",
    "with open(\"input.txt\", \"r\") as file: \n",
    "    strings = file.read().strip().split(\"\\n\")\n",
    "    \n",
    "def isnice(string):\n",
    "    #does not have one of the patterns\n",
    "    for pattern in ['ab','cd','pq','xy']: \n",
    "        if string.find(pattern) >= 0:\n",
    "            return False\n",
    "        \n",
    "    #has at least three vowels\n",
    "    if sum(string.count(vowel) for vowel in [\"a\",\"e\",\"i\",\"o\",\"u\"]) < 3: \n",
    "        return False\n",
    "    \n",
    "    #has at least 2 consecutive letters\n",
    "    for i in range(1, len(string)):\n",
    "        if string[i] == string[i-1]:\n",
    "            return True\n",
    "    \n",
    "    return False\n",
    "\n",
    "sum(isnice(string) for string in strings)"
   ]
  },
  {
   "cell_type": "code",
   "execution_count": 17,
   "metadata": {
    "collapsed": false
   },
   "outputs": [
    {
     "data": {
      "text/plain": [
       "53"
      ]
     },
     "execution_count": 17,
     "metadata": {},
     "output_type": "execute_result"
    }
   ],
   "source": [
    "#part 2 \n",
    "def isnice(string):\n",
    "    def f(string):\n",
    "        for i in range(2, len(string)):\n",
    "            if string[i:].find(string[i-2:i]) >= 0: \n",
    "                return True\n",
    "        return False\n",
    "    \n",
    "    if not f(string):\n",
    "        return False\n",
    "    \n",
    "    #has two identical letters separated by 1\n",
    "    for i in range(2, len(string)):\n",
    "        if string[i] == string[i-2]: \n",
    "            return True\n",
    "    return False\n",
    "\n",
    "sum(isnice(string) for string in strings)"
   ]
  }
 ],
 "metadata": {
  "kernelspec": {
   "display_name": "Python 3",
   "language": "python",
   "name": "python3"
  },
  "language_info": {
   "codemirror_mode": {
    "name": "ipython",
    "version": 3
   },
   "file_extension": ".py",
   "mimetype": "text/x-python",
   "name": "python",
   "nbconvert_exporter": "python",
   "pygments_lexer": "ipython3",
   "version": "3.6.1"
  }
 },
 "nbformat": 4,
 "nbformat_minor": 2
}
