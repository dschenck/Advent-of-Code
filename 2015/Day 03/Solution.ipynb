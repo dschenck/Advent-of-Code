{
 "cells": [
  {
   "cell_type": "code",
   "execution_count": 1,
   "metadata": {
    "collapsed": false
   },
   "outputs": [
    {
     "data": {
      "text/plain": [
       "8192"
      ]
     },
     "execution_count": 1,
     "metadata": {},
     "output_type": "execute_result"
    }
   ],
   "source": [
    "with open(\"input.txt\", \"r\") as file: \n",
    "    instructions = file.read().strip()\n",
    "len(instructions)"
   ]
  },
  {
   "cell_type": "code",
   "execution_count": 2,
   "metadata": {
    "collapsed": false
   },
   "outputs": [
    {
     "data": {
      "text/plain": [
       "2565"
      ]
     },
     "execution_count": 2,
     "metadata": {},
     "output_type": "execute_result"
    }
   ],
   "source": [
    "from collections import defaultdict\n",
    "\n",
    "houses   = defaultdict(lambda: 0)\n",
    "location = (1, 1)\n",
    "\n",
    "#add the starting point to the houses \n",
    "houses[location] += 1\n",
    "\n",
    "for instruction in instructions: \n",
    "    if instruction == \"^\": \n",
    "        location = location[0] + 1, location[1]\n",
    "    if instruction == \">\": \n",
    "        location = location[0], location[1] + 1\n",
    "    if instruction == \"<\":\n",
    "        location = location[0], location[1] - 1\n",
    "    if instruction == \"v\": \n",
    "        location = location[0] - 1, location[1]\n",
    "    houses[location] += 1\n",
    "\n",
    "len(houses)"
   ]
  },
  {
   "cell_type": "code",
   "execution_count": 3,
   "metadata": {
    "collapsed": false
   },
   "outputs": [
    {
     "data": {
      "text/plain": [
       "2639"
      ]
     },
     "execution_count": 3,
     "metadata": {},
     "output_type": "execute_result"
    }
   ],
   "source": [
    "#part 2\n",
    "houses   = defaultdict(lambda: 0)\n",
    "robot, santa = (1, 1), (1, 1)\n",
    "\n",
    "houses[robot] += 1\n",
    "houses[santa] += 1\n",
    "\n",
    "for i, instruction in enumerate(instructions):\n",
    "    if i % 2 == 1: \n",
    "        location = robot\n",
    "    else: \n",
    "        location = santa\n",
    "        \n",
    "    if instruction == \"^\": \n",
    "        location = location[0] + 1, location[1]\n",
    "    if instruction == \">\": \n",
    "        location = location[0], location[1] + 1\n",
    "    if instruction == \"<\":\n",
    "        location = location[0], location[1] - 1\n",
    "    if instruction == \"v\": \n",
    "        location = location[0] - 1, location[1]\n",
    "    houses[location] += 1\n",
    "    \n",
    "    if i % 2 == 1: \n",
    "        robot = location\n",
    "    else: \n",
    "        santa = location\n",
    "        \n",
    "len(houses)"
   ]
  }
 ],
 "metadata": {
  "kernelspec": {
   "display_name": "Python 3",
   "language": "python",
   "name": "python3"
  },
  "language_info": {
   "codemirror_mode": {
    "name": "ipython",
    "version": 3
   },
   "file_extension": ".py",
   "mimetype": "text/x-python",
   "name": "python",
   "nbconvert_exporter": "python",
   "pygments_lexer": "ipython3",
   "version": "3.6.1"
  }
 },
 "nbformat": 4,
 "nbformat_minor": 2
}
