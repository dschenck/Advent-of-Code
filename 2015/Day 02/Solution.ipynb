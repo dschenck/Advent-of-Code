{
 "cells": [
  {
   "cell_type": "code",
   "execution_count": 1,
   "metadata": {
    "collapsed": false
   },
   "outputs": [
    {
     "data": {
      "text/plain": [
       "1598415"
      ]
     },
     "execution_count": 1,
     "metadata": {},
     "output_type": "execute_result"
    }
   ],
   "source": [
    "#part 1\n",
    "with open(\"input.txt\", \"r\") as file: \n",
    "    boxes = [[int(x) for x in line.split(\"x\")] for line in file.read().strip().split(\"\\n\")]\n",
    "    \n",
    "def surface(h, w, d):\n",
    "    areas = (h * w,  w * d,  h * d)\n",
    "    return 2 * sum(areas) + min(areas)\n",
    "\n",
    "sum(surface(*box) for box in boxes)"
   ]
  },
  {
   "cell_type": "code",
   "execution_count": 2,
   "metadata": {
    "collapsed": false
   },
   "outputs": [
    {
     "data": {
      "text/plain": [
       "3812909"
      ]
     },
     "execution_count": 2,
     "metadata": {},
     "output_type": "execute_result"
    }
   ],
   "source": [
    "#part 2 \n",
    "def shortestperimeter(h, w, d): \n",
    "    return 2 * sum(sorted([h, w, d])[0:2])\n",
    "\n",
    "def volume(h, w, d): \n",
    "    return h * w * d\n",
    "\n",
    "sum(shortestperimeter(*box) + volume(*box) for box in boxes)"
   ]
  }
 ],
 "metadata": {
  "kernelspec": {
   "display_name": "Python 3",
   "language": "python",
   "name": "python3"
  },
  "language_info": {
   "codemirror_mode": {
    "name": "ipython",
    "version": 3
   },
   "file_extension": ".py",
   "mimetype": "text/x-python",
   "name": "python",
   "nbconvert_exporter": "python",
   "pygments_lexer": "ipython3",
   "version": "3.6.1"
  }
 },
 "nbformat": 4,
 "nbformat_minor": 2
}
