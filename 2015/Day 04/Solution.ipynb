{
 "cells": [
  {
   "cell_type": "code",
   "execution_count": 1,
   "metadata": {
    "collapsed": false
   },
   "outputs": [
    {
     "data": {
      "text/plain": [
       "(117946, '00000fe1c139a2c710e9a5c03ec1af03')"
      ]
     },
     "execution_count": 1,
     "metadata": {},
     "output_type": "execute_result"
    }
   ],
   "source": [
    "#part 1\n",
    "puzzle = \"ckczppom\"\n",
    "\n",
    "import hashlib\n",
    "hashed = \"\"\n",
    "count  = 0\n",
    "\n",
    "while hashed[0:5] != \"00000\":\n",
    "    count += 1\n",
    "    hashed = hashlib.md5((puzzle + str(count)).encode()).hexdigest()\n",
    "count, hashed"
   ]
  },
  {
   "cell_type": "code",
   "execution_count": 2,
   "metadata": {
    "collapsed": false
   },
   "outputs": [
    {
     "data": {
      "text/plain": [
       "(3938038, '00000028023e3b4729684757f8dc3fbf')"
      ]
     },
     "execution_count": 2,
     "metadata": {},
     "output_type": "execute_result"
    }
   ],
   "source": [
    "#part 2\n",
    "hashed = \"\"\n",
    "count  = 0\n",
    "\n",
    "while hashed[0:6] != \"000000\":\n",
    "    count += 1\n",
    "    hashed = hashlib.md5((puzzle + str(count)).encode()).hexdigest()\n",
    "count, hashed"
   ]
  }
 ],
 "metadata": {
  "kernelspec": {
   "display_name": "Python 3",
   "language": "python",
   "name": "python3"
  },
  "language_info": {
   "codemirror_mode": {
    "name": "ipython",
    "version": 3
   },
   "file_extension": ".py",
   "mimetype": "text/x-python",
   "name": "python",
   "nbconvert_exporter": "python",
   "pygments_lexer": "ipython3",
   "version": "3.6.1"
  }
 },
 "nbformat": 4,
 "nbformat_minor": 2
}
