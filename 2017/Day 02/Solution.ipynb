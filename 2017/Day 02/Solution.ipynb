{
 "cells": [
  {
   "cell_type": "code",
   "execution_count": 1,
   "metadata": {
    "collapsed": false
   },
   "outputs": [],
   "source": [
    "import re \n",
    "\n",
    "with open(\"input.txt\", \"r\") as f: \n",
    "    file = f.read().strip().split(\"\\n\")\n",
    "    file = [[int(x) for x in re.split(\"\\s+\", line)] for line in file]"
   ]
  },
  {
   "cell_type": "markdown",
   "metadata": {},
   "source": [
    "## Part 1"
   ]
  },
  {
   "cell_type": "code",
   "execution_count": 2,
   "metadata": {
    "collapsed": false
   },
   "outputs": [
    {
     "data": {
      "text/plain": [
       "51833"
      ]
     },
     "execution_count": 2,
     "metadata": {},
     "output_type": "execute_result"
    }
   ],
   "source": [
    "def checksum(file):\n",
    "    ranges = [max(line) - min(line) for line in file]\n",
    "    return sum(ranges)\n",
    "\n",
    "checksum(file)"
   ]
  },
  {
   "cell_type": "markdown",
   "metadata": {},
   "source": [
    "## Part 2"
   ]
  },
  {
   "cell_type": "code",
   "execution_count": 3,
   "metadata": {
    "collapsed": false
   },
   "outputs": [
    {
     "data": {
      "text/plain": [
       "288"
      ]
     },
     "execution_count": 3,
     "metadata": {},
     "output_type": "execute_result"
    }
   ],
   "source": [
    "def checksum(file): \n",
    "    divisions = []\n",
    "    for line in file: \n",
    "        try: \n",
    "            for i, this in enumerate(line):\n",
    "                for j, that in enumerate(line):\n",
    "                    if i == j: \n",
    "                        continue\n",
    "                    if this % that == 0: \n",
    "                        divisions.append(this/that)\n",
    "                        raise Exception\n",
    "        except: \n",
    "            pass\n",
    "    return int(sum(divisions))\n",
    "\n",
    "checksum(file)                "
   ]
  }
 ],
 "metadata": {
  "kernelspec": {
   "display_name": "Python 3",
   "language": "python",
   "name": "python3"
  },
  "language_info": {
   "codemirror_mode": {
    "name": "ipython",
    "version": 3
   },
   "file_extension": ".py",
   "mimetype": "text/x-python",
   "name": "python",
   "nbconvert_exporter": "python",
   "pygments_lexer": "ipython3",
   "version": "3.6.1"
  }
 },
 "nbformat": 4,
 "nbformat_minor": 2
}
