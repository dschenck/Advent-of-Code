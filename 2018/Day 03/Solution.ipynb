{
 "cells": [
  {
   "cell_type": "markdown",
   "metadata": {},
   "source": [
    "## Part 1"
   ]
  },
  {
   "cell_type": "code",
   "execution_count": 1,
   "metadata": {
    "collapsed": false
   },
   "outputs": [
    {
     "data": {
      "text/plain": [
       "['#1 @ 342,645: 25x20',\n",
       " '#2 @ 124,968: 28x19',\n",
       " '#3 @ 680,765: 26x20',\n",
       " '#4 @ 832,699: 12x15',\n",
       " '#5 @ 4,746: 29x14',\n",
       " '#6 @ 926,115: 19x17',\n",
       " '#7 @ 662,587: 28x12',\n",
       " '#8 @ 532,568: 27x23',\n",
       " '#9 @ 860,23: 16x21',\n",
       " '#10 @ 530,562: 12x27']"
      ]
     },
     "execution_count": 1,
     "metadata": {},
     "output_type": "execute_result"
    }
   ],
   "source": [
    "with open(\"input.txt\", \"r\") as infile: \n",
    "    contents = [line for line in infile.read().split(\"\\n\") if len(line) > 0]\n",
    "\n",
    "contents[0:10]"
   ]
  },
  {
   "cell_type": "code",
   "execution_count": 2,
   "metadata": {
    "collapsed": false
   },
   "outputs": [
    {
     "data": {
      "text/plain": [
       "[['#1', 342, 645, 25, 20],\n",
       " ['#2', 124, 968, 28, 19],\n",
       " ['#3', 680, 765, 26, 20],\n",
       " ['#4', 832, 699, 12, 15],\n",
       " ['#5', 4, 746, 29, 14],\n",
       " ['#6', 926, 115, 19, 17],\n",
       " ['#7', 662, 587, 28, 12],\n",
       " ['#8', 532, 568, 27, 23],\n",
       " ['#9', 860, 23, 16, 21],\n",
       " ['#10', 530, 562, 12, 27]]"
      ]
     },
     "execution_count": 2,
     "metadata": {},
     "output_type": "execute_result"
    }
   ],
   "source": [
    "claims = list()\n",
    "\n",
    "for line in contents:\n",
    "    claim = line.replace(\"@ \", \"\").replace(\":\",\"\").replace(\"x\",\" \").replace(\",\",\" \").split(\" \")\n",
    "    claim = claim[0:1] + [int(x) for x in claim[1:]]\n",
    "    claims.append(claim)\n",
    "    \n",
    "claims[0:10]"
   ]
  },
  {
   "cell_type": "code",
   "execution_count": 3,
   "metadata": {
    "collapsed": false
   },
   "outputs": [
    {
     "data": {
      "text/plain": [
       "116491"
      ]
     },
     "execution_count": 3,
     "metadata": {},
     "output_type": "execute_result"
    }
   ],
   "source": [
    "fabric = dict()\n",
    "\n",
    "for claim in claims:\n",
    "    for x in range(claim[1], claim[1] + claim[3]):\n",
    "        for y in range(claim[2], claim[2] + claim[4]):\n",
    "            if (x, y) in fabric: \n",
    "                fabric[(x, y)] += 1\n",
    "            else: \n",
    "                fabric[(x, y)] = 1\n",
    "        \n",
    "count = 0 \n",
    "for (x, y) in fabric: \n",
    "    if fabric[(x, y)] > 1: \n",
    "        count += 1\n",
    "        \n",
    "count"
   ]
  },
  {
   "cell_type": "markdown",
   "metadata": {},
   "source": [
    "## Part 2"
   ]
  },
  {
   "cell_type": "code",
   "execution_count": 4,
   "metadata": {
    "collapsed": false
   },
   "outputs": [
    {
     "name": "stdout",
     "output_type": "stream",
     "text": [
      "Claim #707 is not overlapping any other claim\n"
     ]
    }
   ],
   "source": [
    "class OverlappingError(Exception):\n",
    "    pass\n",
    "\n",
    "for claim in claims:\n",
    "    try: \n",
    "        for x in range(claim[1], claim[1] + claim[3]):\n",
    "            for y in range(claim[2], claim[2] + claim[4]):\n",
    "                if fabric[(x, y)] > 1:\n",
    "                    raise OverlappingError\n",
    "        print(\"Claim {} is not overlapping any other claim\".format(claim[0]))\n",
    "    except OverlappingError: \n",
    "        pass"
   ]
  }
 ],
 "metadata": {
  "kernelspec": {
   "display_name": "Python 3",
   "language": "python",
   "name": "python3"
  },
  "language_info": {
   "codemirror_mode": {
    "name": "ipython",
    "version": 3
   },
   "file_extension": ".py",
   "mimetype": "text/x-python",
   "name": "python",
   "nbconvert_exporter": "python",
   "pygments_lexer": "ipython3",
   "version": "3.6.1"
  }
 },
 "nbformat": 4,
 "nbformat_minor": 2
}
