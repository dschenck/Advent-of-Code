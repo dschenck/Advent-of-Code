{
 "cells": [
  {
   "cell_type": "code",
   "execution_count": 1,
   "metadata": {
    "collapsed": true
   },
   "outputs": [],
   "source": [
    "target = \"825401\""
   ]
  },
  {
   "cell_type": "markdown",
   "metadata": {},
   "source": [
    "## Part 1"
   ]
  },
  {
   "cell_type": "code",
   "execution_count": 2,
   "metadata": {
    "collapsed": false
   },
   "outputs": [
    {
     "data": {
      "text/plain": [
       "('0124515891', '9251071085', '5941429882', '6289129761')"
      ]
     },
     "execution_count": 2,
     "metadata": {},
     "output_type": "execute_result"
    }
   ],
   "source": [
    "def run(target):\n",
    "    recipes = \"37\"\n",
    "    a, b    = 0, 1\n",
    "    \n",
    "    while len(recipes) < int(target) + 10: \n",
    "        recipe = str(int(recipes[a]) + int(recipes[b]))\n",
    "        recipes += recipe\n",
    "        \n",
    "        a = (a + int(recipes[a])+ 1) % len(recipes)\n",
    "        b = (b + int(recipes[b])+ 1) % len(recipes)\n",
    "        \n",
    "    if len(recipes) == int(target) + 10: \n",
    "        return recipes[-10:]\n",
    "    return recipes[-11:-1]\n",
    "\n",
    "run('5'), run('18'), run('2018'), run(target)"
   ]
  },
  {
   "cell_type": "markdown",
   "metadata": {},
   "source": [
    "## Part 2 "
   ]
  },
  {
   "cell_type": "code",
   "execution_count": 3,
   "metadata": {
    "collapsed": false
   },
   "outputs": [
    {
     "data": {
      "text/plain": [
       "(9, 5, 18, 2018, 20207075)"
      ]
     },
     "execution_count": 3,
     "metadata": {},
     "output_type": "execute_result"
    }
   ],
   "source": [
    "def run(target):\n",
    "    \"\"\"\n",
    "    the secret lies in recognizing that, when the target finishes with a '1', \n",
    "    that number could be of a number above 10 or the sum of 0 and 1\n",
    "    hence you need to check if the pattern is in the last (n+1) letters, not just n\n",
    "    \"\"\"\n",
    "    recipes = \"37\"\n",
    "    a, b    = 0, 1\n",
    "    \n",
    "    while target not in recipes[-(len(target)+1):]:\n",
    "        recipe = str(int(recipes[a]) + int(recipes[b]))\n",
    "        recipes += recipe\n",
    "        \n",
    "        a = (a + int(recipes[a])+ 1) % len(recipes)\n",
    "        b = (b + int(recipes[b])+ 1) % len(recipes)\n",
    "    \n",
    "    if recipes[-len(target):] == target:\n",
    "        return len(recipes) - len(target)\n",
    "    return len(recipes) - len(target) - 1\n",
    "\n",
    "run(\"51589\"), run(\"01245\"), run(\"92510\"), run(\"59414\"), run(target)"
   ]
  }
 ],
 "metadata": {
  "kernelspec": {
   "display_name": "Python 3",
   "language": "python",
   "name": "python3"
  },
  "language_info": {
   "codemirror_mode": {
    "name": "ipython",
    "version": 3
   },
   "file_extension": ".py",
   "mimetype": "text/x-python",
   "name": "python",
   "nbconvert_exporter": "python",
   "pygments_lexer": "ipython3",
   "version": "3.6.1"
  }
 },
 "nbformat": 4,
 "nbformat_minor": 2
}
