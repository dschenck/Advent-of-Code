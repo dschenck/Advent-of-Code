{
 "cells": [
  {
   "cell_type": "code",
   "execution_count": 1,
   "metadata": {
    "collapsed": false,
    "deletable": true,
    "editable": true
   },
   "outputs": [
    {
     "data": {
      "text/plain": [
       "'424 players; last marble is worth 71482 points'"
      ]
     },
     "execution_count": 1,
     "metadata": {},
     "output_type": "execute_result"
    }
   ],
   "source": [
    "with open(\"input.txt\", \"r\") as infile: \n",
    "    contents = infile.read().strip()\n",
    "contents"
   ]
  },
  {
   "cell_type": "markdown",
   "metadata": {},
   "source": [
    "## Part 1"
   ]
  },
  {
   "cell_type": "code",
   "execution_count": 2,
   "metadata": {
    "collapsed": false,
    "deletable": true,
    "editable": true
   },
   "outputs": [],
   "source": [
    "class Circle:\n",
    "    def __init__(self): \n",
    "        self.list  = [0]\n",
    "        self.index = 0\n",
    "        \n",
    "    def place(self, value):\n",
    "        if value % 23 == 0:\n",
    "            score = value\n",
    "            if self.index >= 7:\n",
    "                score += self.list.pop(self.index - 7)\n",
    "                self.index -= 7\n",
    "            else:\n",
    "                score += self.list.pop(self.index - 7)\n",
    "                self.index = len(self.list) + self.index - 7 + 1\n",
    "            return score\n",
    "        if len(self.list) == 1: \n",
    "            self.list.append(value)\n",
    "            self.index += 1\n",
    "        elif self.index == len(self.list) - 2:\n",
    "            self.list.append(value)\n",
    "            self.index += 2\n",
    "        elif self.index == len(self.list) - 1:\n",
    "            self.list.insert(1, value)\n",
    "            self.index = 1\n",
    "        else: \n",
    "            self.list.insert(self.index + 2, value)\n",
    "            self.index += 2\n",
    "        return 0\n",
    "\n",
    "    def __repr__(self):\n",
    "        return str(self.index) + \":\" + str([x if i != self.index else \"({})\".format(x) for (i, x) in enumerate(self.list)])"
   ]
  },
  {
   "cell_type": "code",
   "execution_count": 3,
   "metadata": {
    "collapsed": false,
    "deletable": true,
    "editable": true
   },
   "outputs": [],
   "source": [
    "class Game: \n",
    "    def __init__(self, players, last): \n",
    "        self.players = players\n",
    "        self.last    = last\n",
    "        self.circle  = Circle()\n",
    "        self.scores  = dict.fromkeys(range(1, players + 1), 0)\n",
    "        \n",
    "    def play(self):\n",
    "        players = range(1, self.players + 1)\n",
    "        \n",
    "        for i in range(1, self.last + 1):\n",
    "            if i % 100000 == 0: \n",
    "                print(str(i).ljust(10), end='\\r')\n",
    "            player = players[(i-1) % self.players]\n",
    "            score  = self.circle.place(i)\n",
    "            self.scores[player] += score\n",
    "        return self\n",
    "    \n",
    "    @property\n",
    "    def winner(self):\n",
    "        score = max(self.scores.values())\n",
    "        winners = [player for player in self.scores if self.scores[player] == score]\n",
    "        \n",
    "        if len(winners) == 1: \n",
    "            return \"Player {}\".format(winners[0]),score\n",
    "        return [\"Player {}\".format(x) for x in winners], score"
   ]
  },
  {
   "cell_type": "code",
   "execution_count": 4,
   "metadata": {
    "collapsed": false,
    "deletable": true,
    "editable": true
   },
   "outputs": [
    {
     "data": {
      "text/plain": [
       "('Player 5', 32)"
      ]
     },
     "execution_count": 4,
     "metadata": {},
     "output_type": "execute_result"
    }
   ],
   "source": [
    "game = Game(9,25).play()\n",
    "game.winner"
   ]
  },
  {
   "cell_type": "code",
   "execution_count": 5,
   "metadata": {
    "collapsed": false
   },
   "outputs": [
    {
     "data": {
      "text/plain": [
       "('Player 160', 408679)"
      ]
     },
     "execution_count": 5,
     "metadata": {},
     "output_type": "execute_result"
    }
   ],
   "source": [
    "game = Game(424, 71482).play()\n",
    "game.winner"
   ]
  },
  {
   "cell_type": "markdown",
   "metadata": {},
   "source": [
    "## Part 2"
   ]
  },
  {
   "cell_type": "code",
   "execution_count": 6,
   "metadata": {
    "collapsed": true,
    "deletable": true,
    "editable": true
   },
   "outputs": [],
   "source": [
    "class Circle:\n",
    "    class Marble:\n",
    "        def __init__(self, value, left=None, right=None): \n",
    "            self.value = value\n",
    "            self.left  = left\n",
    "            self.right = right\n",
    "            \n",
    "            #reconnect\n",
    "            if left is not None: \n",
    "                left.right = self\n",
    "            if right is not None: \n",
    "                right.left = self\n",
    "        \n",
    "        def __repr__(self):\n",
    "            return str(self.value)\n",
    "            \n",
    "    def __init__(self):\n",
    "        self.current = self.Marble(0)\n",
    "        self.current.left  = self.current\n",
    "        self.current.right = self.current\n",
    "    \n",
    "    def insert(self, value):\n",
    "        if value % 23 == 0: \n",
    "            return value + self.left(7).pop()\n",
    "        self.right()\n",
    "        self.current = self.Marble(value, left=self.current, right=self.current.right)\n",
    "        return 0\n",
    "    \n",
    "    def pop(self):\n",
    "        current = self.current\n",
    "        left, right  = self.current.left, self.current.right\n",
    "        left.right   = right\n",
    "        right.left   = left\n",
    "        self.current = right\n",
    "        return current.value\n",
    "    \n",
    "    def right(self, count=1):\n",
    "        for _ in range(count):\n",
    "            self.current = self.current.right\n",
    "        return self\n",
    "    \n",
    "    def left(self, count=1): \n",
    "        for _ in range(count):\n",
    "            self.current = self.current.left\n",
    "        return self\n",
    "    \n",
    "    def __len__(self):\n",
    "        if self.current is None: \n",
    "            return 0 \n",
    "        count   = 1\n",
    "        current = self.current.right\n",
    "        while current != self.current: \n",
    "            count += 1\n",
    "            current = current.right\n",
    "        return count\n",
    "    \n",
    "    def __repr__(self):\n",
    "        output = list()\n",
    "        for i in range(len(self)):\n",
    "            output.append(str(self.current))\n",
    "            self.right()\n",
    "        return str(output)"
   ]
  },
  {
   "cell_type": "code",
   "execution_count": 7,
   "metadata": {
    "collapsed": false,
    "deletable": true,
    "editable": true
   },
   "outputs": [],
   "source": [
    "class Game: \n",
    "    def __init__(self, players, last): \n",
    "        self.players = players\n",
    "        self.last    = last\n",
    "        self.circle  = Circle()\n",
    "        self.scores  = dict.fromkeys(range(1, players + 1), 0)\n",
    "        \n",
    "    def play(self):\n",
    "        players = range(1, self.players + 1)\n",
    "        \n",
    "        for i in range(1, self.last + 1):\n",
    "            player = players[(i-1) % self.players]\n",
    "            self.scores[player] += self.circle.insert(i)\n",
    "        return self\n",
    "    \n",
    "    @property\n",
    "    def winner(self):\n",
    "        score = max(self.scores.values())\n",
    "        winners = [player for player in self.scores if self.scores[player] == score]\n",
    "        \n",
    "        if len(winners) == 1: \n",
    "            return \"Player {}\".format(winners[0]),score\n",
    "        return [\"Player {}\".format(x) for x in winners], score"
   ]
  },
  {
   "cell_type": "code",
   "execution_count": 8,
   "metadata": {
    "collapsed": false
   },
   "outputs": [
    {
     "data": {
      "text/plain": [
       "('Player 160', 408679)"
      ]
     },
     "execution_count": 8,
     "metadata": {},
     "output_type": "execute_result"
    }
   ],
   "source": [
    "game = Game(424, 71482).play()\n",
    "game.winner"
   ]
  },
  {
   "cell_type": "code",
   "execution_count": 9,
   "metadata": {
    "collapsed": false
   },
   "outputs": [
    {
     "name": "stdout",
     "output_type": "stream",
     "text": [
      "10 loops, best of 3: 45.9 ms per loop\n"
     ]
    }
   ],
   "source": [
    "%timeit Game(424, 7148).play()"
   ]
  },
  {
   "cell_type": "code",
   "execution_count": 10,
   "metadata": {
    "collapsed": false
   },
   "outputs": [
    {
     "name": "stdout",
     "output_type": "stream",
     "text": [
      "1 loop, best of 3: 457 ms per loop\n"
     ]
    }
   ],
   "source": [
    "%timeit Game(424, 71482).play()"
   ]
  },
  {
   "cell_type": "code",
   "execution_count": 11,
   "metadata": {
    "collapsed": false
   },
   "outputs": [
    {
     "name": "stdout",
     "output_type": "stream",
     "text": [
      "1 loop, best of 3: 4.81 s per loop\n"
     ]
    }
   ],
   "source": [
    "%timeit Game(424, 714820).play()"
   ]
  },
  {
   "cell_type": "code",
   "execution_count": 12,
   "metadata": {
    "collapsed": false
   },
   "outputs": [
    {
     "data": {
      "text/plain": [
       "('Player 306', 3443939356)"
      ]
     },
     "execution_count": 12,
     "metadata": {},
     "output_type": "execute_result"
    }
   ],
   "source": [
    "game = Game(424, 7148200).play()\n",
    "game.winner"
   ]
  }
 ],
 "metadata": {
  "kernelspec": {
   "display_name": "Python 3",
   "language": "python",
   "name": "python3"
  },
  "language_info": {
   "codemirror_mode": {
    "name": "ipython",
    "version": 3
   },
   "file_extension": ".py",
   "mimetype": "text/x-python",
   "name": "python",
   "nbconvert_exporter": "python",
   "pygments_lexer": "ipython3",
   "version": "3.6.1"
  }
 },
 "nbformat": 4,
 "nbformat_minor": 2
}
