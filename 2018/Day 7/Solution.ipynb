{
 "cells": [
  {
   "cell_type": "code",
   "execution_count": 1,
   "metadata": {
    "collapsed": true
   },
   "outputs": [],
   "source": [
    "import re"
   ]
  },
  {
   "cell_type": "code",
   "execution_count": 2,
   "metadata": {
    "code_folding": [],
    "collapsed": false
   },
   "outputs": [
    {
     "data": {
      "text/plain": [
       "['Step G must be finished before step X can begin.',\n",
       " 'Step X must be finished before step B can begin.',\n",
       " 'Step T must be finished before step E can begin.']"
      ]
     },
     "execution_count": 2,
     "metadata": {},
     "output_type": "execute_result"
    }
   ],
   "source": [
    "with open(\"input.txt\", \"r\") as infile: \n",
    "    contents = infile.read().strip().split(\"\\n\")\n",
    "\n",
    "contents[0:2] + contents[-1:]"
   ]
  },
  {
   "cell_type": "code",
   "execution_count": 3,
   "metadata": {
    "collapsed": false
   },
   "outputs": [
    {
     "data": {
      "text/plain": [
       "[('G', 'X'), ('X', 'B')]"
      ]
     },
     "execution_count": 3,
     "metadata": {},
     "output_type": "execute_result"
    }
   ],
   "source": [
    "steps = list()\n",
    "\n",
    "for line in contents: \n",
    "    match = re.search('^Step ([A-Z]) must be finished before step ([A-Z]) can begin.$', line)\n",
    "    if match:\n",
    "        steps.append((match.group(1),match.group(2)))\n",
    "\n",
    "steps[0:2]"
   ]
  },
  {
   "cell_type": "code",
   "execution_count": 4,
   "metadata": {
    "collapsed": false
   },
   "outputs": [
    {
     "data": {
      "text/plain": [
       "26"
      ]
     },
     "execution_count": 4,
     "metadata": {},
     "output_type": "execute_result"
    }
   ],
   "source": [
    "letters = list(set([x[0] for x in steps]).union(set([x[1] for x in steps])))\n",
    "len(letters)"
   ]
  },
  {
   "cell_type": "code",
   "execution_count": 5,
   "metadata": {
    "collapsed": false
   },
   "outputs": [
    {
     "data": {
      "text/plain": [
       "['S', 'L', 'I', 'A', 'C', 'P', 'T']"
      ]
     },
     "execution_count": 5,
     "metadata": {},
     "output_type": "execute_result"
    }
   ],
   "source": [
    "def requirements(letter): \n",
    "    letters = list()\n",
    "    for step in steps: \n",
    "        if step[1] == letter: \n",
    "            letters.append(step[0])\n",
    "    return letters\n",
    "\n",
    "requirements(\"E\")"
   ]
  },
  {
   "cell_type": "code",
   "execution_count": 6,
   "metadata": {
    "collapsed": false
   },
   "outputs": [
    {
     "data": {
      "text/plain": [
       "'GDHOSUXACIMRTPWNYJLEQFVZBK'"
      ]
     },
     "execution_count": 6,
     "metadata": {},
     "output_type": "execute_result"
    }
   ],
   "source": [
    "def execute(letters):\n",
    "    done, answer = set(), list()\n",
    "    while len(done) != len(letters):\n",
    "        candidates = list()\n",
    "        for letter in letters: \n",
    "            if letter in done: \n",
    "                continue\n",
    "            if len(set(requirements(letter)).difference(done)) == 0: \n",
    "                candidates.append(letter)\n",
    "        for i, letter in enumerate(sorted(candidates)):\n",
    "            done.add(letter)\n",
    "            answer.append(letter)\n",
    "            break\n",
    "            \n",
    "    return \"\".join(answer)\n",
    "\n",
    "execute(letters)"
   ]
  },
  {
   "cell_type": "markdown",
   "metadata": {},
   "source": [
    "## Part 2"
   ]
  },
  {
   "cell_type": "code",
   "execution_count": 7,
   "metadata": {
    "collapsed": false
   },
   "outputs": [
    {
     "data": {
      "text/plain": [
       "63"
      ]
     },
     "execution_count": 7,
     "metadata": {},
     "output_type": "execute_result"
    }
   ],
   "source": [
    "FIXEDCOST = 60\n",
    "\n",
    "def duration(letter):\n",
    "    return FIXEDCOST + \"ABCDEFGHIJKLMNOPQRSTUVWXYZ\".index(letter) + 1\n",
    "\n",
    "duration(\"C\")"
   ]
  },
  {
   "cell_type": "code",
   "execution_count": 8,
   "metadata": {
    "collapsed": false
   },
   "outputs": [],
   "source": [
    "WORKERS = 5\n",
    "\n",
    "def schedule(letters):\n",
    "    #time to tick\n",
    "    time = 0 \n",
    "    \n",
    "    #done to contain letters that are finished\n",
    "    done = set()\n",
    "    \n",
    "    #schedule to map worker to a letter \n",
    "    schedule  = dict()\n",
    "    \n",
    "    #find an available worker or False\n",
    "    def available(time): \n",
    "        for worker in range(WORKERS): \n",
    "            if (time, worker) not in schedule: \n",
    "                return worker\n",
    "        return -1\n",
    "    \n",
    "    #assign a letter to a worker\n",
    "    def assign(time, worker, letter):\n",
    "        for t in range(time, time + duration(letter)):\n",
    "            schedule[t, worker] = letter\n",
    "        return\n",
    "    \n",
    "    def isfinished(time, letter):\n",
    "        for worker in range(WORKERS):\n",
    "            if schedule.get((time, worker)) == letter: \n",
    "                return False\n",
    "        return True\n",
    "    \n",
    "    while len(done) != len(letters): \n",
    "        candidates = list()\n",
    "        for letter in letters: \n",
    "            if letter in done: \n",
    "                continue\n",
    "            reqs = requirements(letter)\n",
    "            if len(set(reqs).difference(done)) == 0: \n",
    "                candidates.append((letter, reqs))\n",
    "        for letter, reqs in candidates:\n",
    "            if all([isfinished(time, req) for req in reqs]):\n",
    "                worker = available(time)\n",
    "                if worker != -1:\n",
    "                    assign(time, worker, letter)\n",
    "                    done.add(letter)\n",
    "        time += 1\n",
    "    \n",
    "    return schedule\n",
    "\n",
    "plan = schedule(letters)"
   ]
  },
  {
   "cell_type": "code",
   "execution_count": 9,
   "metadata": {
    "collapsed": false
   },
   "outputs": [
    {
     "data": {
      "text/plain": [
       "1024"
      ]
     },
     "execution_count": 9,
     "metadata": {},
     "output_type": "execute_result"
    }
   ],
   "source": [
    "max([x[0] for x in plan.keys()])+1"
   ]
  }
 ],
 "metadata": {
  "kernelspec": {
   "display_name": "Python 3",
   "language": "python",
   "name": "python3"
  },
  "language_info": {
   "codemirror_mode": {
    "name": "ipython",
    "version": 3
   },
   "file_extension": ".py",
   "mimetype": "text/x-python",
   "name": "python",
   "nbconvert_exporter": "python",
   "pygments_lexer": "ipython3",
   "version": "3.6.1"
  }
 },
 "nbformat": 4,
 "nbformat_minor": 2
}
