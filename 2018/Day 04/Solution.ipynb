{
 "cells": [
  {
   "cell_type": "markdown",
   "metadata": {},
   "source": [
    "## Part 1"
   ]
  },
  {
   "cell_type": "code",
   "execution_count": 1,
   "metadata": {
    "collapsed": true
   },
   "outputs": [],
   "source": [
    "import datetime\n",
    "import re"
   ]
  },
  {
   "cell_type": "code",
   "execution_count": 2,
   "metadata": {
    "collapsed": false
   },
   "outputs": [
    {
     "data": {
      "text/plain": [
       "['[1518-10-31 00:58] wakes up',\n",
       " '[1518-02-27 00:57] wakes up',\n",
       " '[1518-04-05 00:03] falls asleep',\n",
       " '[1518-06-03 00:18] falls asleep',\n",
       " '[1518-08-06 00:39] falls asleep',\n",
       " '[1518-08-15 00:54] falls asleep',\n",
       " '[1518-03-07 00:00] falls asleep',\n",
       " '[1518-05-01 00:12] falls asleep',\n",
       " '[1518-06-17 00:53] wakes up',\n",
       " '[1518-03-13 00:13] falls asleep']"
      ]
     },
     "execution_count": 2,
     "metadata": {},
     "output_type": "execute_result"
    }
   ],
   "source": [
    "with open(\"input.txt\",\"r\") as infile: \n",
    "    contents = [line for line in infile.read().split(\"\\n\") if len(line) > 0]\n",
    "contents[0:10]"
   ]
  },
  {
   "cell_type": "code",
   "execution_count": 3,
   "metadata": {
    "collapsed": false
   },
   "outputs": [],
   "source": [
    "records = list()\n",
    "\n",
    "for line in contents: \n",
    "    guard     = None\n",
    "    timestamp = datetime.datetime.strptime(line[1:17], \"%Y-%m-%d %H:%M\")\n",
    "    \n",
    "    match = re.search('Guard (#\\d+) begins shift', line.strip())\n",
    "    if match:\n",
    "        guard, action = match.group(1), \"begins shift\"\n",
    "    else: \n",
    "        if \"wakes up\" in line: \n",
    "            action = \"wakes up\"\n",
    "        elif \"falls asleep\" in line: \n",
    "            action = \"falls asleep\"\n",
    "        else: \n",
    "            raise ValueError(\"Unrecognized input '{}'\".format(line))\n",
    "    \n",
    "    records.append((timestamp, guard, action))"
   ]
  },
  {
   "cell_type": "code",
   "execution_count": 4,
   "metadata": {
    "collapsed": false
   },
   "outputs": [
    {
     "data": {
      "text/plain": [
       "[(datetime.datetime(1518, 1, 29, 23, 57), '#2417', 'begins shift'),\n",
       " (datetime.datetime(1518, 1, 30, 0, 13), None, 'falls asleep')]"
      ]
     },
     "execution_count": 4,
     "metadata": {},
     "output_type": "execute_result"
    }
   ],
   "source": [
    "records.sort(key=lambda x: x[0])\n",
    "records[0:2]"
   ]
  },
  {
   "cell_type": "code",
   "execution_count": 5,
   "metadata": {
    "collapsed": false
   },
   "outputs": [
    {
     "data": {
      "text/plain": [
       "[(datetime.datetime(1518, 1, 30, 0, 0), '#2417', 'begins shift'),\n",
       " (datetime.datetime(1518, 1, 30, 0, 13), '#2417', 'falls asleep')]"
      ]
     },
     "execution_count": 5,
     "metadata": {},
     "output_type": "execute_result"
    }
   ],
   "source": [
    "for i, record in enumerate(records):\n",
    "    timestamp = record[0]\n",
    "\n",
    "    if timestamp.hour >= 22: \n",
    "        timestamp = timestamp.replace(hour=0, minute=0) + datetime.timedelta(days=1)\n",
    "    if timestamp.hour > 1: \n",
    "        timestamp = timestamp.replace(hour=1, minute=0)\n",
    "        \n",
    "    if record[1] is not None: \n",
    "        guard = record[1]\n",
    "        \n",
    "    records[i] = (timestamp, guard, record[2])\n",
    "\n",
    "records[0:2]     "
   ]
  },
  {
   "cell_type": "code",
   "execution_count": 6,
   "metadata": {
    "collapsed": false
   },
   "outputs": [
    {
     "data": {
      "text/plain": [
       "[(datetime.datetime(1518, 1, 30, 0, 0), '#2417', 'begins shift'),\n",
       " (datetime.datetime(1518, 1, 30, 0, 13), '#2417', 'falls asleep'),\n",
       " (datetime.datetime(1518, 1, 30, 0, 50), '#2417', 'wakes up')]"
      ]
     },
     "execution_count": 6,
     "metadata": {},
     "output_type": "execute_result"
    }
   ],
   "source": [
    "#create a pivot table\n",
    "#guard.date.records\n",
    "\n",
    "pivot = dict()\n",
    "for record in records: \n",
    "    if record[1] not in pivot: \n",
    "        pivot[record[1]] = dict()\n",
    "    if record[0].date() not in pivot[record[1]]: \n",
    "        pivot[record[1]][record[0].date()] = list()\n",
    "    pivot[record[1]][record[0].date()].append(record)\n",
    "\n",
    "pivot[\"#2417\"][datetime.date(1518,1,30)]"
   ]
  },
  {
   "cell_type": "code",
   "execution_count": 7,
   "metadata": {
    "collapsed": false
   },
   "outputs": [],
   "source": [
    "#sanity check\n",
    "#check first record is begins shift\n",
    "#check 'falls asleep' and 'wakes up' alternate in that order\n",
    "for guard in pivot: \n",
    "    for date in pivot[guard]:\n",
    "        if len(pivot[guard][date]) % 2 == 0: \n",
    "            raise ValueError(\"Expected uneven number of records for {}/{}\".format(guard, date))\n",
    "        for i, record in enumerate(pivot[guard][date]): \n",
    "            if i == 0: \n",
    "                if record[2] != \"begins shift\": \n",
    "                    raise ValueError(\"Expected 'begins shifts' instead of '{}'\".format(record))\n",
    "            elif i % 2 == 1: \n",
    "                if record[2] != 'falls asleep':\n",
    "                    raise ValueError(\"Expected 'falls asleep' instead of '{}'\".format(record))\n",
    "            else: \n",
    "                if record[2] != 'wakes up':\n",
    "                    raise ValueError(\"Expected 'wakes up' instead of '{}'\".format(record))"
   ]
  },
  {
   "cell_type": "code",
   "execution_count": 8,
   "metadata": {
    "collapsed": false
   },
   "outputs": [
    {
     "data": {
      "text/plain": [
       "343"
      ]
     },
     "execution_count": 8,
     "metadata": {},
     "output_type": "execute_result"
    }
   ],
   "source": [
    "#sum the minute of sleep by minute\n",
    "for guard in pivot: \n",
    "    sleep = dict()\n",
    "    for date in pivot[guard]: \n",
    "        for i in range(len(pivot[guard][date])): \n",
    "            if i % 2 == 1: \n",
    "                for minute in range(pivot[guard][date][i][0].minute, pivot[guard][date][i+1][0].minute):\n",
    "                    if minute in sleep: \n",
    "                        sleep[minute] += 1\n",
    "                    else:\n",
    "                        sleep[minute] = 1\n",
    "    pivot[guard][\"sleep\"] = sleep\n",
    "    \n",
    "sum(pivot[\"#2417\"][\"sleep\"].values())"
   ]
  },
  {
   "cell_type": "code",
   "execution_count": 9,
   "metadata": {
    "collapsed": false
   },
   "outputs": [
    {
     "data": {
      "text/plain": [
       "'Guard #2663 was asleep for 522 minutes in total'"
      ]
     },
     "execution_count": 9,
     "metadata": {},
     "output_type": "execute_result"
    }
   ],
   "source": [
    "sleep, sleepiest = 0, None\n",
    "for guard in pivot: \n",
    "    if sum(pivot[guard][\"sleep\"].values()) > sleep:\n",
    "        sleep, sleepiest = sum(pivot[guard][\"sleep\"].values()), guard\n",
    "\n",
    "\"Guard {} was asleep for {} minutes in total\".format(sleepiest, sleep)"
   ]
  },
  {
   "cell_type": "code",
   "execution_count": 10,
   "metadata": {
    "collapsed": false
   },
   "outputs": [
    {
     "data": {
      "text/plain": [
       "'Guard #2663 was asleep the most often on minute 45'"
      ]
     },
     "execution_count": 10,
     "metadata": {},
     "output_type": "execute_result"
    }
   ],
   "source": [
    "minutes, toughest = 0, None\n",
    "for minute in pivot[sleepiest][\"sleep\"]: \n",
    "    if pivot[sleepiest][\"sleep\"][minute] > minutes: \n",
    "        minutes, toughest = pivot[sleepiest][\"sleep\"][minute], minute\n",
    "        \n",
    "\"Guard {} was asleep the most often on minute {}\".format(sleepiest, toughest)"
   ]
  },
  {
   "cell_type": "code",
   "execution_count": 11,
   "metadata": {
    "collapsed": false
   },
   "outputs": [
    {
     "data": {
      "text/plain": [
       "'Solution: 119835'"
      ]
     },
     "execution_count": 11,
     "metadata": {},
     "output_type": "execute_result"
    }
   ],
   "source": [
    "\"Solution: {}\".format(int(sleepiest[1:]) * toughest)"
   ]
  },
  {
   "cell_type": "markdown",
   "metadata": {},
   "source": [
    "## Part 2"
   ]
  },
  {
   "cell_type": "code",
   "execution_count": 12,
   "metadata": {
    "collapsed": false
   },
   "outputs": [
    {
     "data": {
      "text/plain": [
       "'Guard #509 was asleep 20 times on minute 25'"
      ]
     },
     "execution_count": 12,
     "metadata": {},
     "output_type": "execute_result"
    }
   ],
   "source": [
    "#minute, length, guard\n",
    "answer = 0, 0, None\n",
    "\n",
    "for minute in range(0, 60): \n",
    "    for guard in pivot: \n",
    "        if minute in pivot[guard][\"sleep\"]:\n",
    "            if pivot[guard][\"sleep\"][minute] > answer[1]: \n",
    "                answer = minute, pivot[guard][\"sleep\"][minute], guard\n",
    "\n",
    "\"Guard {} was asleep {} times on minute {}\".format(answer[2], answer[1], answer[0])"
   ]
  },
  {
   "cell_type": "code",
   "execution_count": 13,
   "metadata": {
    "collapsed": false
   },
   "outputs": [
    {
     "data": {
      "text/plain": [
       "'Solution: 12725'"
      ]
     },
     "execution_count": 13,
     "metadata": {},
     "output_type": "execute_result"
    }
   ],
   "source": [
    "\"Solution: {}\".format(answer[0] * int(answer[2][1:]))"
   ]
  }
 ],
 "metadata": {
  "kernelspec": {
   "display_name": "Python 3",
   "language": "python",
   "name": "python3"
  },
  "language_info": {
   "codemirror_mode": {
    "name": "ipython",
    "version": 3
   },
   "file_extension": ".py",
   "mimetype": "text/x-python",
   "name": "python",
   "nbconvert_exporter": "python",
   "pygments_lexer": "ipython3",
   "version": "3.6.1"
  }
 },
 "nbformat": 4,
 "nbformat_minor": 2
}
