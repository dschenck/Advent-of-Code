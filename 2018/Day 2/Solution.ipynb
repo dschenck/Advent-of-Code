{
 "cells": [
  {
   "cell_type": "markdown",
   "metadata": {},
   "source": [
    "## Part 1"
   ]
  },
  {
   "cell_type": "code",
   "execution_count": 1,
   "metadata": {
    "collapsed": false
   },
   "outputs": [
    {
     "data": {
      "text/plain": [
       "['wkzhyfdpluzeqvajtbbosngkxc',\n",
       " 'wrzhyfdplumeqvajtbioskfksc',\n",
       " 'wrzhyfdolumyqvajtbiosngkxs',\n",
       " 'urzhyfdplbmeqvrjtbiosngkxc',\n",
       " 'wrzhyfrulumeqvajtbiosngkxf']"
      ]
     },
     "execution_count": 1,
     "metadata": {},
     "output_type": "execute_result"
    }
   ],
   "source": [
    "with open(\"input.txt\", \"r\") as infile: \n",
    "    contents = infile.read().split(\"\\n\")\n",
    "    contents = [c for c in contents if len(c) > 0 ]\n",
    "contents[0:5]"
   ]
  },
  {
   "cell_type": "code",
   "execution_count": 2,
   "metadata": {
    "collapsed": false
   },
   "outputs": [
    {
     "data": {
      "text/plain": [
       "(247, 20, 4940)"
      ]
     },
     "execution_count": 2,
     "metadata": {},
     "output_type": "execute_result"
    }
   ],
   "source": [
    "twos, threes = 0, 0 \n",
    "\n",
    "for identifier in contents: \n",
    "    characters = dict()\n",
    "    for character in identifier: \n",
    "        if character in characters: \n",
    "            characters[character] += 1\n",
    "        else: \n",
    "            characters[character] = 1 \n",
    "    for character in characters: \n",
    "        if characters[character] == 2: \n",
    "            twos += 1\n",
    "            break\n",
    "    for character in characters: \n",
    "        if characters[character] == 3: \n",
    "            threes += 1\n",
    "            break\n",
    "\n",
    "twos, threes, twos * threes"
   ]
  },
  {
   "cell_type": "markdown",
   "metadata": {},
   "source": [
    "## Part 2"
   ]
  },
  {
   "cell_type": "code",
   "execution_count": 3,
   "metadata": {
    "collapsed": false
   },
   "outputs": [
    {
     "data": {
      "text/plain": [
       "6"
      ]
     },
     "execution_count": 3,
     "metadata": {},
     "output_type": "execute_result"
    }
   ],
   "source": [
    "def diff(a, b): \n",
    "    if len(a) != len(b): \n",
    "        raise ValueError(\"{} and {} are of different length\".format(a, b))\n",
    "    difference = 0\n",
    "    for c1, c2 in zip(a, b): \n",
    "        if c1 != c2: \n",
    "            difference += 1\n",
    "    return difference\n",
    "\n",
    "diff(contents[0], contents[1])"
   ]
  },
  {
   "cell_type": "code",
   "execution_count": 4,
   "metadata": {
    "collapsed": false
   },
   "outputs": [
    {
     "name": "stdout",
     "output_type": "stream",
     "text": [
      "wrziyfdmlumeqvaatbiosngkc\n"
     ]
    }
   ],
   "source": [
    "for identifier in contents: \n",
    "    for other in contents: \n",
    "        if identifier == other: \n",
    "            continue\n",
    "        if diff(identifier, other) == 1: \n",
    "            solution = \"\"\n",
    "            for c1, c2 in zip(identifier, other): \n",
    "                if c1 == c2: \n",
    "                    solution += c1\n",
    "            print(solution)\n",
    "            break\n",
    "    else:\n",
    "        continue\n",
    "    break"
   ]
  }
 ],
 "metadata": {
  "kernelspec": {
   "display_name": "Python 3",
   "language": "python",
   "name": "python3"
  },
  "language_info": {
   "codemirror_mode": {
    "name": "ipython",
    "version": 3
   },
   "file_extension": ".py",
   "mimetype": "text/x-python",
   "name": "python",
   "nbconvert_exporter": "python",
   "pygments_lexer": "ipython3",
   "version": "3.6.1"
  }
 },
 "nbformat": 4,
 "nbformat_minor": 2
}
