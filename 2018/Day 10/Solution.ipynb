{
 "cells": [
  {
   "cell_type": "code",
   "execution_count": 1,
   "metadata": {
    "collapsed": true
   },
   "outputs": [],
   "source": [
    "import re\n",
    "import math\n",
    "import pandas as pd\n",
    "import matplotlib.pyplot as plt"
   ]
  },
  {
   "cell_type": "code",
   "execution_count": 2,
   "metadata": {
    "collapsed": false
   },
   "outputs": [
    {
     "data": {
      "text/plain": [
       "['position=<-10166, -20343> velocity=< 1,  2>',\n",
       " 'position=< 10430,  20752> velocity=<-1, -2>']"
      ]
     },
     "execution_count": 2,
     "metadata": {},
     "output_type": "execute_result"
    }
   ],
   "source": [
    "with open(\"input.txt\", \"r\") as infile: \n",
    "    contents = infile.read().strip().split(\"\\n\")\n",
    "contents[0:2]"
   ]
  },
  {
   "cell_type": "code",
   "execution_count": 3,
   "metadata": {
    "collapsed": false
   },
   "outputs": [
    {
     "data": {
      "text/plain": [
       "[(-10166, -20343, 1, 2), (10430, 20752, -1, -2)]"
      ]
     },
     "execution_count": 3,
     "metadata": {},
     "output_type": "execute_result"
    }
   ],
   "source": [
    "pattern = re.compile(r'position=<\\s*(-?\\d+),\\s*(-?\\d+)>\\s*velocity=<\\s*(-?\\d+),\\s*(-?\\d+)>')\n",
    "\n",
    "stars = list()\n",
    "for line in contents: \n",
    "    match = re.search(pattern, line)\n",
    "    if not match: \n",
    "        raise ValueError(\"There was a problem parsing '{}'\".format(line))\n",
    "    stars.append((tuple(int(x) for x in match.groups())))\n",
    "\n",
    "stars[0:2]"
   ]
  },
  {
   "cell_type": "code",
   "execution_count": 4,
   "metadata": {
    "collapsed": false
   },
   "outputs": [],
   "source": [
    "def position(star, at=0):\n",
    "    \"\"\"get the position of the star at a moment in time from now\"\"\"\n",
    "    return (star[0] + at * star[2], star[1] + at * star[3], star[2], star[3])"
   ]
  },
  {
   "cell_type": "code",
   "execution_count": 5,
   "metadata": {
    "collapsed": false
   },
   "outputs": [],
   "source": [
    "def gravity(stars): \n",
    "    \"\"\"get the center of gravity of all the stars, assuming equal weights\"\"\"\n",
    "    x = sum([star[0] for star in stars])/len(stars)\n",
    "    y = sum([star[1] for star in stars])/len(stars)\n",
    "    return (x, y)"
   ]
  },
  {
   "cell_type": "code",
   "execution_count": 6,
   "metadata": {
    "collapsed": false
   },
   "outputs": [],
   "source": [
    "def dispersion(stars):\n",
    "    \"\"\"compute the vertical and horizontal dispersion of all the stars\"\"\"\n",
    "    G = gravity(stars)\n",
    "    x = math.sqrt(sum([(star[0] - G[0])**2 for star in stars])/len(stars))\n",
    "    y = math.sqrt(sum([(star[1] - G[1])**2 for star in stars])/len(stars))\n",
    "    return x, y"
   ]
  },
  {
   "cell_type": "code",
   "execution_count": 7,
   "metadata": {
    "collapsed": false
   },
   "outputs": [
    {
     "data": {
      "text/plain": [
       "10274"
      ]
     },
     "execution_count": 7,
     "metadata": {},
     "output_type": "execute_result"
    }
   ],
   "source": [
    "def find(stars):\n",
    "    \"\"\"identify the moment when the dispersion is the lowest\"\"\"\n",
    "    previous = None\n",
    "    for i in range(60*60*24): #a day\n",
    "        if i == 0:\n",
    "            previous = dispersion([position(star, i) for star in stars])\n",
    "            continue\n",
    "        current = dispersion([position(star, i) for star in stars])\n",
    "        if current > previous: \n",
    "            return i-1, [position(star, i-1) for star in stars]\n",
    "        previous = current\n",
    "    raise RuntimeError(\"Unable to find the minimum\")\n",
    "\n",
    "time, stars = find(stars)\n",
    "time"
   ]
  },
  {
   "cell_type": "code",
   "execution_count": 8,
   "metadata": {
    "collapsed": false
   },
   "outputs": [
    {
     "data": {
      "image/png": "[encoded data removed]",
      "text/plain": [
       "<matplotlib.figure.Figure at 0x10f989780>"
      ]
     },
     "metadata": {},
     "output_type": "display_data"
    }
   ],
   "source": [
    "plt.figure(figsize=(16,4))\n",
    "plt.scatter([s[0] for s in stars], [-s[1] for s in stars])\n",
    "plt.show()"
   ]
  }
 ],
 "metadata": {
  "kernelspec": {
   "display_name": "Python 3",
   "language": "python",
   "name": "python3"
  },
  "language_info": {
   "codemirror_mode": {
    "name": "ipython",
    "version": 3
   },
   "file_extension": ".py",
   "mimetype": "text/x-python",
   "name": "python",
   "nbconvert_exporter": "python",
   "pygments_lexer": "ipython3",
   "version": "3.6.1"
  }
 },
 "nbformat": 4,
 "nbformat_minor": 2
}
