{
 "cells": [
  {
   "cell_type": "code",
   "execution_count": 1,
   "metadata": {
    "collapsed": false
   },
   "outputs": [
    {
     "data": {
      "text/plain": [
       "'9 11 7 3 5'"
      ]
     },
     "execution_count": 1,
     "metadata": {},
     "output_type": "execute_result"
    }
   ],
   "source": [
    "with open(\"input.txt\", \"r\") as infile: \n",
    "        contents = infile.read().strip()\n",
    "contents[0:10]"
   ]
  },
  {
   "cell_type": "code",
   "execution_count": 2,
   "metadata": {
    "collapsed": false
   },
   "outputs": [
    {
     "data": {
      "text/plain": [
       "[9, 11, 7, 3, 5, 4, 3, 5, 1, 7, 0, 11, 7, 1, 2, 1, 9, 4, 6, 9]"
      ]
     },
     "execution_count": 2,
     "metadata": {},
     "output_type": "execute_result"
    }
   ],
   "source": [
    "numbers = [int(x) for x in contents.split(\" \")]\n",
    "numbers[0:20]"
   ]
  },
  {
   "cell_type": "code",
   "execution_count": 3,
   "metadata": {
    "collapsed": false
   },
   "outputs": [],
   "source": [
    "class Node: \n",
    "    def __init__(self, meta, children=None): \n",
    "        self.meta = meta\n",
    "        if children is None: \n",
    "            children = list()\n",
    "        self.children = children\n",
    "    \n",
    "    def __repr__(self):\n",
    "        return \"<Node>\".format(str(self.meta))"
   ]
  },
  {
   "cell_type": "code",
   "execution_count": 4,
   "metadata": {
    "collapsed": false
   },
   "outputs": [],
   "source": [
    "def reduce(numbers):\n",
    "    \"\"\"if the current sequence shows that it is 'complete'\n",
    "       (i.e. that it has no child), we can replace the sequence\n",
    "       by a Node object with no children\n",
    "       if the current sequence has n children, and the following [2:2+n]\n",
    "       element are all Nodes, then we can replace that sequence again by\n",
    "       a Node but this time with its children\n",
    "       skip every second unsuccesful element (as that number then shows)\n",
    "       the number of meta fields\n",
    "    \"\"\"\n",
    "    while True:\n",
    "        flag = True\n",
    "        \n",
    "        for i in range(len(numbers)):\n",
    "            \n",
    "            if isinstance(numbers[i], Node):\n",
    "                continue\n",
    "                \n",
    "            if numbers[i] == 0:\n",
    "                length = numbers[i+1]\n",
    "                numbers[i:i+2+length] = [Node(numbers[i+2:i+2+length])]\n",
    "                break\n",
    "                \n",
    "            else:\n",
    "                if flag: \n",
    "                    childcount = numbers[i]\n",
    "                    if all(isinstance(x, Node) for x in numbers[i+2:i+2+childcount]): \n",
    "                        children = numbers[i+2:i+2+childcount]\n",
    "                        meta     = numbers[i+2+childcount:i+2+childcount+numbers[i+1]]\n",
    "                        numbers[i:i+2+childcount+numbers[i+1]] = [Node(meta, children)]\n",
    "                        break\n",
    "                flag = not flag\n",
    "        else: \n",
    "            return numbers"
   ]
  },
  {
   "cell_type": "code",
   "execution_count": 5,
   "metadata": {
    "collapsed": false
   },
   "outputs": [
    {
     "data": {
      "text/plain": [
       "[<Node>]"
      ]
     },
     "execution_count": 5,
     "metadata": {},
     "output_type": "execute_result"
    }
   ],
   "source": [
    "#pass a copy of the numbers\n",
    "tree = reduce(numbers[:])\n",
    "tree"
   ]
  },
  {
   "cell_type": "code",
   "execution_count": 6,
   "metadata": {
    "collapsed": false
   },
   "outputs": [
    {
     "data": {
      "text/plain": [
       "47647"
      ]
     },
     "execution_count": 6,
     "metadata": {},
     "output_type": "execute_result"
    }
   ],
   "source": [
    "def value(node): \n",
    "    if len(node.children) == 0: \n",
    "        return sum(node.meta)\n",
    "    return sum(node.meta) + sum([value(child) for child in node.children])\n",
    "\n",
    "value(tree[0])"
   ]
  },
  {
   "cell_type": "markdown",
   "metadata": {},
   "source": [
    "## Part 2"
   ]
  },
  {
   "cell_type": "code",
   "execution_count": 7,
   "metadata": {
    "collapsed": true
   },
   "outputs": [],
   "source": [
    "def value(node):\n",
    "    if len(node.children) == 0: \n",
    "        return sum(node.meta)\n",
    "    \n",
    "    result = 0\n",
    "    for index in node.meta: \n",
    "        if index > len(node.children):\n",
    "            continue\n",
    "        result += value(node.children[index-1])  \n",
    "    return result"
   ]
  },
  {
   "cell_type": "code",
   "execution_count": 8,
   "metadata": {
    "collapsed": false
   },
   "outputs": [
    {
     "data": {
      "text/plain": [
       "23636"
      ]
     },
     "execution_count": 8,
     "metadata": {},
     "output_type": "execute_result"
    }
   ],
   "source": [
    "value(tree[0])"
   ]
  }
 ],
 "metadata": {
  "kernelspec": {
   "display_name": "Python 3",
   "language": "python",
   "name": "python3"
  },
  "language_info": {
   "codemirror_mode": {
    "name": "ipython",
    "version": 3
   },
   "file_extension": ".py",
   "mimetype": "text/x-python",
   "name": "python",
   "nbconvert_exporter": "python",
   "pygments_lexer": "ipython3",
   "version": "3.6.1"
  }
 },
 "nbformat": 4,
 "nbformat_minor": 2
}
