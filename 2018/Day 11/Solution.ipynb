{
 "cells": [
  {
   "cell_type": "code",
   "execution_count": 1,
   "metadata": {
    "collapsed": true
   },
   "outputs": [],
   "source": [
    "import numpy as np"
   ]
  },
  {
   "cell_type": "code",
   "execution_count": 2,
   "metadata": {
    "collapsed": false,
    "deletable": true,
    "editable": true
   },
   "outputs": [
    {
     "data": {
      "text/plain": [
       "6392"
      ]
     },
     "execution_count": 2,
     "metadata": {},
     "output_type": "execute_result"
    }
   ],
   "source": [
    "with open(\"input.txt\", \"r\") as infile: \n",
    "    serial = int(infile.read().strip())\n",
    "serial"
   ]
  },
  {
   "cell_type": "markdown",
   "metadata": {},
   "source": [
    "## Part 1"
   ]
  },
  {
   "cell_type": "code",
   "execution_count": 3,
   "metadata": {
    "collapsed": false,
    "deletable": true,
    "editable": true
   },
   "outputs": [
    {
     "data": {
      "text/plain": [
       "(4, -5)"
      ]
     },
     "execution_count": 3,
     "metadata": {},
     "output_type": "execute_result"
    }
   ],
   "source": [
    "def power(cell, serial=serial):\n",
    "    return int(str(((cell[0] + 10) * cell[1] + serial) * (cell[0] + 10))[-3]) - 5\n",
    "    \n",
    "power((3,5), 8), power((122,79), 57)"
   ]
  },
  {
   "cell_type": "code",
   "execution_count": 4,
   "metadata": {
    "collapsed": false
   },
   "outputs": [
    {
     "data": {
      "text/plain": [
       "-1"
      ]
     },
     "execution_count": 4,
     "metadata": {},
     "output_type": "execute_result"
    }
   ],
   "source": [
    "grid = dict()\n",
    "for r in range(1, 301): \n",
    "    for c in range(1, 301): \n",
    "        grid[(r, c)] = power((r, c))\n",
    "grid[1,1]"
   ]
  },
  {
   "cell_type": "code",
   "execution_count": 5,
   "metadata": {
    "collapsed": false,
    "deletable": true,
    "editable": true
   },
   "outputs": [
    {
     "data": {
      "text/plain": [
       "(20, 58, 30)"
      ]
     },
     "execution_count": 5,
     "metadata": {},
     "output_type": "execute_result"
    }
   ],
   "source": [
    "solution = None\n",
    "\n",
    "for r in range(1, 300-2+1): \n",
    "    for c in range(1, 300-2+1):\n",
    "        p = sum([sum([grid[(r+i, c+j)] for i in range(3)]) for j in range(3)])\n",
    "        \n",
    "        if solution is None: \n",
    "            solution = (r, c, p)\n",
    "            continue\n",
    "        if p > solution[2]: \n",
    "            solution = (r, c, p)\n",
    "solution"
   ]
  },
  {
   "cell_type": "markdown",
   "metadata": {
    "deletable": true,
    "editable": true
   },
   "source": [
    "## Part 2"
   ]
  },
  {
   "cell_type": "code",
   "execution_count": 6,
   "metadata": {
    "collapsed": false
   },
   "outputs": [
    {
     "data": {
      "text/plain": [
       "array([[-1,  0],\n",
       "       [ 3,  4]])"
      ]
     },
     "execution_count": 6,
     "metadata": {},
     "output_type": "execute_result"
    }
   ],
   "source": [
    "grid = np.zeros((301,301), dtype=int)\n",
    "for r in range(1, 301): \n",
    "    for c in range(1, 301): \n",
    "        grid[r, c] = power((r, c))\n",
    "grid[1:3,1:3]"
   ]
  },
  {
   "cell_type": "code",
   "execution_count": 7,
   "metadata": {
    "collapsed": false
   },
   "outputs": [
    {
     "data": {
      "text/plain": [
       "(83, 233, 268, 13)"
      ]
     },
     "execution_count": 7,
     "metadata": {},
     "output_type": "execute_result"
    }
   ],
   "source": [
    "def search(grid):\n",
    "    #cache the intermediary results\n",
    "    cache = dict()\n",
    "    \n",
    "    #power, r, c, s\n",
    "    solution = (-5, None, None, None)\n",
    "    \n",
    "    for s in range(1, 301):\n",
    "        for r in range(1,301-s+1): \n",
    "            for c in range(1,301-s+1): \n",
    "                # if size is 1 - then cache the entire grid\n",
    "                if s == 1: \n",
    "                    cache[r, c, s] = grid[r, c]\n",
    "                    \n",
    "                # if size is multiple of 2, then sum together its 4 squares\n",
    "                elif s % 2 == 0 : \n",
    "                    cache[r, c, s] = cache[r, c, s/2] + cache[r+s/2, c, s/2] + cache[r, c+s/2, s/2] + cache[r+s/2, c+s/2, s/2]\n",
    "                \n",
    "                # else add the square (size - 1) and add the borders\n",
    "                else: \n",
    "                    #grid[r:r+s, c+s-1].sum() is the sum of the column c + s - 1, between rows r and r + s\n",
    "                    #for example r=10, c=20, s=1\n",
    "                    #grid[10:11, 20].sum() is the sum of 1 row (row 10), across the entire column 20\n",
    "                    cache[r, c, s] = cache[r, c, s-1] + grid[r:r+s,c+s-1].sum() + grid[r+s-1,c:c+s].sum() - grid[r+s-1,c+s-1]\n",
    "                    \n",
    "                if cache[r, c, s] > solution[0]: \n",
    "                    solution = cache[r, c, s], r, c, s \n",
    "    return solution\n",
    "\n",
    "search(grid)"
   ]
  }
 ],
 "metadata": {
  "kernelspec": {
   "display_name": "Python 3",
   "language": "python",
   "name": "python3"
  },
  "language_info": {
   "codemirror_mode": {
    "name": "ipython",
    "version": 3
   },
   "file_extension": ".py",
   "mimetype": "text/x-python",
   "name": "python",
   "nbconvert_exporter": "python",
   "pygments_lexer": "ipython3",
   "version": "3.6.1"
  }
 },
 "nbformat": 4,
 "nbformat_minor": 2
}
