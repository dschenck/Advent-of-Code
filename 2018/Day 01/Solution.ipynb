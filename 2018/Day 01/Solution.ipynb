{
 "cells": [
  {
   "cell_type": "markdown",
   "metadata": {},
   "source": [
    "## Part 1"
   ]
  },
  {
   "cell_type": "code",
   "execution_count": 1,
   "metadata": {
    "collapsed": false
   },
   "outputs": [
    {
     "data": {
      "text/plain": [
       "['+3', '+15', '-1', '-18', '+3', '-10', '+3', '+10', '-8', '-20']"
      ]
     },
     "execution_count": 1,
     "metadata": {},
     "output_type": "execute_result"
    }
   ],
   "source": [
    "with open(\"input.txt\", \"r\") as infile: \n",
    "    contents = infile.read().split(\"\\n\")\n",
    "\n",
    "contents[0:10] + contents[-10:0]"
   ]
  },
  {
   "cell_type": "code",
   "execution_count": 2,
   "metadata": {
    "collapsed": false
   },
   "outputs": [
    {
     "data": {
      "text/plain": [
       "[3, 15, -1, -18, 3, -10, 3, 10, -8, -20]"
      ]
     },
     "execution_count": 2,
     "metadata": {},
     "output_type": "execute_result"
    }
   ],
   "source": [
    "changes = list()\n",
    "\n",
    "for element in contents: \n",
    "    if len(element) > 0: \n",
    "        if element[0] == \"+\": \n",
    "            changes.append(int(element[1:]))\n",
    "        elif element[0] == \"-\":\n",
    "            changes.append(-int(element[1:]))\n",
    "        else: \n",
    "            raise ValueError(\"Unrecognized format\")\n",
    "\n",
    "changes[0:10]"
   ]
  },
  {
   "cell_type": "code",
   "execution_count": 3,
   "metadata": {
    "collapsed": false
   },
   "outputs": [
    {
     "data": {
      "text/plain": [
       "556"
      ]
     },
     "execution_count": 3,
     "metadata": {},
     "output_type": "execute_result"
    }
   ],
   "source": [
    "sum(changes)"
   ]
  },
  {
   "cell_type": "markdown",
   "metadata": {},
   "source": [
    "## Part 2"
   ]
  },
  {
   "cell_type": "code",
   "execution_count": 4,
   "metadata": {
    "collapsed": false
   },
   "outputs": [
    {
     "name": "stdout",
     "output_type": "stream",
     "text": [
      "448\n"
     ]
    }
   ],
   "source": [
    "class FoundException(Exception): \n",
    "    pass\n",
    "\n",
    "frequencies = set((0,))\n",
    "frequency   = 0\n",
    "\n",
    "try: \n",
    "    while True:\n",
    "        for change in changes:\n",
    "            frequency += change\n",
    "            if frequency in frequencies: \n",
    "                raise FoundException()\n",
    "            frequencies.add(frequency)\n",
    "except FoundException: \n",
    "    print(frequency)"
   ]
  }
 ],
 "metadata": {
  "kernelspec": {
   "display_name": "Python 3",
   "language": "python",
   "name": "python3"
  },
  "language_info": {
   "codemirror_mode": {
    "name": "ipython",
    "version": 3
   },
   "file_extension": ".py",
   "mimetype": "text/x-python",
   "name": "python",
   "nbconvert_exporter": "python",
   "pygments_lexer": "ipython3",
   "version": "3.6.1"
  }
 },
 "nbformat": 4,
 "nbformat_minor": 2
}
