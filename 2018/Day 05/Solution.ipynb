{
 "cells": [
  {
   "cell_type": "code",
   "execution_count": 1,
   "metadata": {
    "collapsed": false
   },
   "outputs": [
    {
     "data": {
      "text/plain": [
       "'YyjJNnYyLl'"
      ]
     },
     "execution_count": 1,
     "metadata": {},
     "output_type": "execute_result"
    }
   ],
   "source": [
    "with open(\"input.txt\", \"r\") as infile: \n",
    "    contents = infile.read().strip()\n",
    "    \n",
    "contents[0:10]"
   ]
  },
  {
   "cell_type": "markdown",
   "metadata": {},
   "source": [
    "## Part 1"
   ]
  },
  {
   "cell_type": "code",
   "execution_count": 21,
   "metadata": {
    "collapsed": false
   },
   "outputs": [
    {
     "data": {
      "text/plain": [
       "9060"
      ]
     },
     "execution_count": 21,
     "metadata": {},
     "output_type": "execute_result"
    }
   ],
   "source": [
    "def reduce(polymere): \n",
    "    final = False\n",
    "    \n",
    "    while True: \n",
    "        length = len(polymere)\n",
    "        \n",
    "        for i in range(len(polymere)-1, -1, -1):\n",
    "            if i == len(polymere)-1: \n",
    "                continue\n",
    "            \n",
    "            if (polymere[i] != polymere[i+1]) and (polymere[i].upper() == polymere[i+1].upper()):\n",
    "                polymere = polymere[:i] + polymere[i+2:]\n",
    "        \n",
    "        if len(polymere) == length: \n",
    "            return len(polymere)\n",
    "\n",
    "reduce(contents)"
   ]
  },
  {
   "cell_type": "markdown",
   "metadata": {},
   "source": [
    "## Part 2"
   ]
  },
  {
   "cell_type": "code",
   "execution_count": 31,
   "metadata": {
    "collapsed": true
   },
   "outputs": [],
   "source": [
    "import re "
   ]
  },
  {
   "cell_type": "code",
   "execution_count": 30,
   "metadata": {
    "collapsed": false
   },
   "outputs": [
    {
     "data": {
      "text/plain": [
       "(6310, 'O')"
      ]
     },
     "execution_count": 30,
     "metadata": {},
     "output_type": "execute_result"
    }
   ],
   "source": [
    "ALPHABET = \"ABCDEFGHIJKLMNOPQRSTUVWXYZ\"\n",
    "\n",
    "results = list()\n",
    "for i, letter in enumerate(ALPHABET):\n",
    "    polymere = re.sub(letter, '', contents, flags=re.IGNORECASE)\n",
    "    results.append(reduce(polymere))\n",
    "\n",
    "min(results), ALPHABET[results.index(min(results))]"
   ]
  }
 ],
 "metadata": {
  "kernelspec": {
   "display_name": "Python 3",
   "language": "python",
   "name": "python3"
  },
  "language_info": {
   "codemirror_mode": {
    "name": "ipython",
    "version": 3
   },
   "file_extension": ".py",
   "mimetype": "text/x-python",
   "name": "python",
   "nbconvert_exporter": "python",
   "pygments_lexer": "ipython3",
   "version": "3.6.1"
  }
 },
 "nbformat": 4,
 "nbformat_minor": 2
}
