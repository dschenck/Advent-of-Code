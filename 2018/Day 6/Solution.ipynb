{
 "cells": [
  {
   "cell_type": "markdown",
   "metadata": {},
   "source": [
    "## Data"
   ]
  },
  {
   "cell_type": "code",
   "execution_count": 13,
   "metadata": {
    "collapsed": false
   },
   "outputs": [
    {
     "data": {
      "text/plain": [
       "['132, 308', '325, 300', '310, 231', '177, 248']"
      ]
     },
     "execution_count": 13,
     "metadata": {},
     "output_type": "execute_result"
    }
   ],
   "source": [
    "with open(\"input.txt\", \"r\") as infile: \n",
    "    contents = infile.read().strip().split(\"\\n\")\n",
    "\n",
    "contents[0:4]"
   ]
  },
  {
   "cell_type": "markdown",
   "metadata": {},
   "source": [
    "## Part 1"
   ]
  },
  {
   "cell_type": "code",
   "execution_count": 57,
   "metadata": {
    "collapsed": false
   },
   "outputs": [
    {
     "data": {
      "text/plain": [
       "[(162, 176), (250, 117), (354, 92), (235, 190)]"
      ]
     },
     "execution_count": 57,
     "metadata": {},
     "output_type": "execute_result"
    }
   ],
   "source": [
    "coordinates = list(set([(int(x), int(y)) for (x, y) in [line.split(',') for line in contents]]))\n",
    "coordinates[0:4]"
   ]
  },
  {
   "cell_type": "code",
   "execution_count": 58,
   "metadata": {
    "collapsed": false
   },
   "outputs": [
    {
     "data": {
      "text/plain": [
       "50"
      ]
     },
     "execution_count": 58,
     "metadata": {},
     "output_type": "execute_result"
    }
   ],
   "source": [
    "len(coordinates)"
   ]
  },
  {
   "cell_type": "code",
   "execution_count": 59,
   "metadata": {
    "collapsed": false
   },
   "outputs": [],
   "source": [
    "def distance(A, B):\n",
    "    \"\"\"returns the Manhattan distance between two points A and B\"\"\"\n",
    "    return abs(A[0]-B[0]) + abs(A[1]-B[1])"
   ]
  },
  {
   "cell_type": "code",
   "execution_count": 60,
   "metadata": {
    "collapsed": false
   },
   "outputs": [
    {
     "data": {
      "text/plain": [
       "(41, 354, 42, 353)"
      ]
     },
     "execution_count": 60,
     "metadata": {},
     "output_type": "execute_result"
    }
   ],
   "source": [
    "xmin = min([x for (x, y) in coordinates])\n",
    "xmax = max([x for (x, y) in coordinates])\n",
    "ymin = min([y for (x, y) in coordinates])\n",
    "ymax = max([y for (x, y) in coordinates])\n",
    "\n",
    "xmin, xmax, ymin, ymax"
   ]
  },
  {
   "cell_type": "code",
   "execution_count": 71,
   "metadata": {
    "collapsed": false
   },
   "outputs": [
    {
     "data": {
      "text/plain": [
       "[(325, 300)]"
      ]
     },
     "execution_count": 71,
     "metadata": {},
     "output_type": "execute_result"
    }
   ],
   "source": [
    "#at each location in the matrix are the location which are equally distant\n",
    "matrix = dict()\n",
    "\n",
    "for x in range(xmin, xmax+1): \n",
    "    for y in range(ymin, ymax+1): \n",
    "        matrix[x,y] = [coordinates[0]]\n",
    "\n",
    "for i, location in enumerate(coordinates[1:]): \n",
    "    for x in range(xmin, xmax+1): \n",
    "        for y in range(ymin, ymax+1):\n",
    "            this = distance(location, (x, y))\n",
    "            that = distance(matrix[x, y][0], (x, y))\n",
    "            \n",
    "            if this < that:\n",
    "                matrix[x, y] = [location]\n",
    "            elif this == that: \n",
    "                matrix[x, y].append(location)\n",
    "                \n",
    "matrix[300,300]"
   ]
  },
  {
   "cell_type": "code",
   "execution_count": 62,
   "metadata": {
    "collapsed": false
   },
   "outputs": [
    {
     "name": "stdout",
     "output_type": "stream",
     "text": [
      "(62, 279) [(85, 273), (56, 256), (70, 300)]\n"
     ]
    }
   ],
   "source": [
    "#sanity check \n",
    "#find a location for which several locations are equi-distant\n",
    "for x in range(xmin, xmax+1): \n",
    "    for y in range(ymin, ymax+1):\n",
    "        if len(matrix[x, y]) > 2: \n",
    "            print((x, y), matrix[x, y])\n",
    "            break\n",
    "    else: \n",
    "        continue\n",
    "    break"
   ]
  },
  {
   "cell_type": "code",
   "execution_count": 63,
   "metadata": {
    "collapsed": false
   },
   "outputs": [
    {
     "data": {
      "text/plain": [
       "[(354, 92), (60, 42), (142, 50), (56, 197)]"
      ]
     },
     "execution_count": 63,
     "metadata": {},
     "output_type": "execute_result"
    }
   ],
   "source": [
    "#insight: any region which includes a border will be infinite\n",
    "blacklist = set()\n",
    "\n",
    "for x in range(xmin, xmax+1):\n",
    "    for location in matrix[x, ymin]: \n",
    "        blacklist.add(location)\n",
    "    for location in matrix[x, ymax]:\n",
    "        blacklist.add(location)\n",
    "for y in range(ymin, ymax+1): \n",
    "    for location in matrix[xmin, y]: \n",
    "        blacklist.add(location)\n",
    "    for location in matrix[xmax, y]:\n",
    "        blacklist.add(location)\n",
    "        \n",
    "list(blacklist)[0:4]"
   ]
  },
  {
   "cell_type": "code",
   "execution_count": 65,
   "metadata": {
    "collapsed": false
   },
   "outputs": [],
   "source": [
    "#count the number of squares to which each location is nearest to, by location\n",
    "distances = dict()\n",
    "\n",
    "for x in range(xmin, xmax+1): \n",
    "    for y in range(ymin, ymax+1):\n",
    "        #ignore is several locations have are nearest to this spot\n",
    "        if len(matrix[x, y]) == 1:\n",
    "            if matrix[x,y][0] in blacklist: \n",
    "                continue\n",
    "            if matrix[x,y][0] not in distances: \n",
    "                distances[matrix[x,y][0]] = 0\n",
    "            distances[matrix[x,y][0]] += 1\n",
    "   "
   ]
  },
  {
   "cell_type": "code",
   "execution_count": 70,
   "metadata": {
    "collapsed": false
   },
   "outputs": [
    {
     "name": "stdout",
     "output_type": "stream",
     "text": [
      "(177, 248) 3969\n"
     ]
    }
   ],
   "source": [
    "for location in distances: \n",
    "    if distances[location] == max(distances.values()):\n",
    "        print(location, distances[location])"
   ]
  },
  {
   "cell_type": "markdown",
   "metadata": {},
   "source": [
    "## Part 2\n"
   ]
  },
  {
   "cell_type": "code",
   "execution_count": 72,
   "metadata": {
    "collapsed": true
   },
   "outputs": [],
   "source": [
    "threshold = 10000"
   ]
  },
  {
   "cell_type": "code",
   "execution_count": 73,
   "metadata": {
    "collapsed": true
   },
   "outputs": [],
   "source": [
    "matrix = dict()\n",
    "\n",
    "for x in range(xmin, xmax+1): \n",
    "    for y in range(ymin, ymax+1):\n",
    "        matrix[x,y] = 0\n",
    "        for location in coordinates: \n",
    "            matrix[x,y] += distance(location, (x,y))\n",
    "            if matrix[x,y] >= threshold:\n",
    "                break"
   ]
  },
  {
   "cell_type": "code",
   "execution_count": 79,
   "metadata": {
    "collapsed": false
   },
   "outputs": [
    {
     "data": {
      "text/plain": [
       "(42123, [(58, 153), (58, 154), (58, 155), (58, 156)])"
      ]
     },
     "execution_count": 79,
     "metadata": {},
     "output_type": "execute_result"
    }
   ],
   "source": [
    "locations = list()\n",
    "\n",
    "for x in range(xmin, xmax+1): \n",
    "    for y in range(ymin, ymax+1):\n",
    "        if matrix[x,y] >= threshold: \n",
    "            continue\n",
    "        locations.append((x, y))\n",
    "\n",
    "len(locations), locations[0:4]"
   ]
  },
  {
   "cell_type": "code",
   "execution_count": 98,
   "metadata": {
    "collapsed": false
   },
   "outputs": [],
   "source": [
    "#check that two regions (list of locations) are contiguous\n",
    "def iscontiguous(this, that):\n",
    "    for loc1 in this: \n",
    "        for loc2 in that: \n",
    "            if distance(loc1, loc2) <= 1: \n",
    "                return True\n",
    "    return False"
   ]
  },
  {
   "cell_type": "code",
   "execution_count": 127,
   "metadata": {
    "collapsed": false
   },
   "outputs": [
    {
     "name": "stdout",
     "output_type": "stream",
     "text": [
      "1         \r"
     ]
    }
   ],
   "source": [
    "regions = [[location] for location in locations]\n",
    "\n",
    "class BreakException(Exception):\n",
    "    pass\n",
    "\n",
    "\n",
    "def reduce(regions):\n",
    "    while True:\n",
    "        length = len(regions)\n",
    "        print(str(length).ljust(10), end=\"\\r\")\n",
    "        try: \n",
    "            for i, region in enumerate(regions): \n",
    "                for j, other in enumerate(regions):\n",
    "                    if i == j: \n",
    "                        continue\n",
    "                    if iscontiguous(region, other):\n",
    "                        #prepend other to boost algorithmic efficiency\n",
    "                        regions[i] =  other + region\n",
    "                        del regions[j]\n",
    "                        raise BreakException\n",
    "        except BreakException: \n",
    "            pass\n",
    "        if len(regions) == length: \n",
    "            return regions\n",
    "\n",
    "reduced = reduce(regions)"
   ]
  },
  {
   "cell_type": "code",
   "execution_count": 130,
   "metadata": {
    "collapsed": false
   },
   "outputs": [
    {
     "data": {
      "text/plain": [
       "42123"
      ]
     },
     "execution_count": 130,
     "metadata": {},
     "output_type": "execute_result"
    }
   ],
   "source": [
    "lengths = [len(region) for region in reduced]\n",
    "max(lengths)"
   ]
  }
 ],
 "metadata": {
  "kernelspec": {
   "display_name": "Python 3",
   "language": "python",
   "name": "python3"
  },
  "language_info": {
   "codemirror_mode": {
    "name": "ipython",
    "version": 3
   },
   "file_extension": ".py",
   "mimetype": "text/x-python",
   "name": "python",
   "nbconvert_exporter": "python",
   "pygments_lexer": "ipython3",
   "version": "3.6.1"
  }
 },
 "nbformat": 4,
 "nbformat_minor": 2
}
