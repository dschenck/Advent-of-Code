{
 "cells": [
  {
   "cell_type": "code",
   "execution_count": 1,
   "id": "fa71ba0b",
   "metadata": {
    "ExecuteTime": {
     "end_time": "2022-12-03T11:08:25.996306Z",
     "start_time": "2022-12-03T11:08:25.986673Z"
    }
   },
   "outputs": [],
   "source": [
    "with open(\"./input.txt\", \"r\") as file:\n",
    "    data = file.read().strip().split(\"\\n\")"
   ]
  },
  {
   "cell_type": "markdown",
   "id": "0e6334c9",
   "metadata": {},
   "source": [
    "# Part 1 "
   ]
  },
  {
   "cell_type": "code",
   "execution_count": 2,
   "id": "6d933860",
   "metadata": {
    "ExecuteTime": {
     "end_time": "2022-12-03T11:08:26.000942Z",
     "start_time": "2022-12-03T11:08:25.997524Z"
    }
   },
   "outputs": [],
   "source": [
    "ALPHABET = \"ABCDEFGHIJKLMNOPQRSTUVWXYZ\"\n",
    "assert len(ALPHABET) == 26"
   ]
  },
  {
   "cell_type": "code",
   "execution_count": 3,
   "id": "6b34fac9",
   "metadata": {
    "ExecuteTime": {
     "end_time": "2022-12-03T11:08:26.011433Z",
     "start_time": "2022-12-03T11:08:26.002832Z"
    }
   },
   "outputs": [
    {
     "data": {
      "text/plain": [
       "7763"
      ]
     },
     "execution_count": 3,
     "metadata": {},
     "output_type": "execute_result"
    }
   ],
   "source": [
    "def priority(letter):\n",
    "    \"\"\"\n",
    "    Returns the priority value of an item\n",
    "    \"\"\"\n",
    "    # it it is a lower-case letter, it's value is 1-26\n",
    "    if letter == letter.lower():\n",
    "        return ALPHABET.index(letter.upper()) + 1\n",
    "    return 26 + ALPHABET.index(letter) + 1\n",
    "\n",
    "\n",
    "def chunk(iterable, size=1):\n",
    "    \"\"\"\n",
    "    Chunks an iterable in fixed-size chunks of a given size\n",
    "    \"\"\"\n",
    "    for i in range(0, len(iterable), size):\n",
    "        yield iterable[i : i + size]\n",
    "\n",
    "\n",
    "def solve(data):\n",
    "    total = 0\n",
    "    for rucksack in data:\n",
    "        left, right = chunk(rucksack, int(len(rucksack) / 2))\n",
    "        duplicate = set(left).intersection(right)\n",
    "        assert len(duplicate) == 1\n",
    "        total += priority(list(duplicate)[0])\n",
    "    return total\n",
    "\n",
    "\n",
    "solve(data)"
   ]
  },
  {
   "cell_type": "markdown",
   "id": "94604935",
   "metadata": {},
   "source": [
    "# Part 2 "
   ]
  },
  {
   "cell_type": "code",
   "execution_count": 4,
   "id": "c6219f35",
   "metadata": {
    "ExecuteTime": {
     "end_time": "2022-12-03T11:08:26.017509Z",
     "start_time": "2022-12-03T11:08:26.013227Z"
    }
   },
   "outputs": [
    {
     "data": {
      "text/plain": [
       "2569"
      ]
     },
     "execution_count": 4,
     "metadata": {},
     "output_type": "execute_result"
    }
   ],
   "source": [
    "def solve(data):\n",
    "    total = 0\n",
    "    for i, group in enumerate(chunk(data, 3)):\n",
    "        duplicate = set(group[0]).intersection(*group[1:])\n",
    "        assert len(duplicate) == 1\n",
    "        total += priority(list(duplicate)[0])\n",
    "    return total\n",
    "\n",
    "\n",
    "solve(data)"
   ]
  }
 ],
 "metadata": {
  "kernelspec": {
   "display_name": "Python 3 (ipykernel)",
   "language": "python",
   "name": "python3"
  },
  "language_info": {
   "codemirror_mode": {
    "name": "ipython",
    "version": 3
   },
   "file_extension": ".py",
   "mimetype": "text/x-python",
   "name": "python",
   "nbconvert_exporter": "python",
   "pygments_lexer": "ipython3",
   "version": "3.9.1"
  }
 },
 "nbformat": 4,
 "nbformat_minor": 5
}
