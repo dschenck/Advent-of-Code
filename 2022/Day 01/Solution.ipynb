{
 "cells": [
  {
   "cell_type": "code",
   "execution_count": 1,
   "id": "3f0bf173",
   "metadata": {
    "ExecuteTime": {
     "end_time": "2022-12-02T07:20:31.980060Z",
     "start_time": "2022-12-02T07:20:31.976848Z"
    }
   },
   "outputs": [],
   "source": [
    "with open(\"./input.txt\", \"r\") as file: \n",
    "    data = [\n",
    "        [int(x) for x in chunk.split(\"\\n\") ]\n",
    "        for chunk \n",
    "        in file.read().strip().split(\"\\n\\n\")\n",
    "    ]"
   ]
  },
  {
   "cell_type": "markdown",
   "id": "e5b02eac",
   "metadata": {},
   "source": [
    "# Part 1"
   ]
  },
  {
   "cell_type": "code",
   "execution_count": 2,
   "id": "ba175fbf",
   "metadata": {
    "ExecuteTime": {
     "end_time": "2022-12-02T07:20:31.983910Z",
     "start_time": "2022-12-02T07:20:31.981282Z"
    }
   },
   "outputs": [
    {
     "name": "stdout",
     "output_type": "stream",
     "text": [
      "The elf with the most calories had 69693 calories\n"
     ]
    }
   ],
   "source": [
    "print(\n",
    "    \"The elf with the most calories had {} calories\".format(\n",
    "        max(sum(chunk) for chunk in data)\n",
    "    )\n",
    ")"
   ]
  },
  {
   "cell_type": "markdown",
   "id": "960648bb",
   "metadata": {},
   "source": [
    "# Part 2"
   ]
  },
  {
   "cell_type": "code",
   "execution_count": 3,
   "id": "d7a945c9",
   "metadata": {
    "ExecuteTime": {
     "end_time": "2022-12-02T07:20:31.987763Z",
     "start_time": "2022-12-02T07:20:31.985581Z"
    }
   },
   "outputs": [
    {
     "name": "stdout",
     "output_type": "stream",
     "text": [
      "The 3 elves with the most calories had a total of 200945 calories\n"
     ]
    }
   ],
   "source": [
    "print(\n",
    "    \"The 3 elves with the most calories had a total of {} calories\".format(\n",
    "        sum(sorted(sum(chunk) for chunk in data)[-3:])\n",
    "    )\n",
    ")"
   ]
  },
  {
   "cell_type": "markdown",
   "id": "e47f2be1",
   "metadata": {},
   "source": [
    "# Illustrations"
   ]
  },
  {
   "cell_type": "code",
   "execution_count": 4,
   "id": "e386e85e",
   "metadata": {
    "ExecuteTime": {
     "end_time": "2022-12-02T07:20:32.008214Z",
     "start_time": "2022-12-02T07:20:31.988705Z"
    }
   },
   "outputs": [
    {
     "data": {
      "text/html": [
       "<iframe style=\"border:0;outline:none\" srcdoc=\"&lt;!DOCTYPE html&gt;\n",
       "&lt;html lang=&quot;en&quot;&gt;\n",
       "\n",
       "&lt;head&gt;\n",
       "    &lt;meta charset=&quot;utf-8&quot; /&gt;\n",
       "    \n",
       "    \n",
       "    &lt;script type=&quot;text/javascript&quot; src=&quot;https://code.highcharts.com/10/highcharts.js&quot;&gt;&lt;/script&gt;\n",
       "    \n",
       "    &lt;script type=&quot;text/javascript&quot; src=&quot;https://code.highcharts.com/10/highcharts-more.js&quot;&gt;&lt;/script&gt;\n",
       "    \n",
       "    &lt;script type=&quot;text/javascript&quot; src=&quot;https://code.highcharts.com/10/modules/heatmap.js&quot;&gt;&lt;/script&gt;\n",
       "    \n",
       "    &lt;script type=&quot;text/javascript&quot; src=&quot;https://code.highcharts.com/10/modules/exporting.js&quot;&gt;&lt;/script&gt;\n",
       "    \n",
       "    &lt;script type=&quot;text/javascript&quot; src=&quot;https://code.highcharts.com/10/modules/offline-exporting.js&quot;&gt;&lt;/script&gt;\n",
       "    \n",
       "    &lt;script type=&quot;text/javascript&quot; src=&quot;https://code.highcharts.com/10/modules/export-data.js&quot;&gt;&lt;/script&gt;\n",
       "    \n",
       "&lt;/head&gt;\n",
       "\n",
       "&lt;body style=&quot;margin:0;padding:0&quot;&gt;\n",
       "    &lt;div id=&quot;root&quot; style=&quot;display:flex;flex-wrap:wrap;width:100%&quot;&gt;\n",
       "    &lt;/div&gt;\n",
       "    &lt;script&gt;\n",
       "        var createElement = function(tagname, props, children){\n",
       "            const element = document.createElement(tagname)\n",
       "\n",
       "            if(props){\n",
       "                for(var key in props){\n",
       "                    if(typeof props[key]  === &#x27;object&#x27;){\n",
       "                        props[key] = Object.entries(props[key]).map(function(value){\n",
       "                            return `${value[0]}:${value[1]};`\n",
       "                        }).reduce((prev, curr) =&gt; prev + curr)\n",
       "                    }\n",
       "                    element.setAttribute(key, props[key]);\n",
       "                }\n",
       "            }\n",
       "            if(children){\n",
       "                if(Array.isArray(children)){\n",
       "                    for(let i = 0; i &lt; children.length; i++){\n",
       "                        if(typeof children[i] == &quot;string&quot;){\n",
       "                            element.innerHTML += children[i];\n",
       "                        }\n",
       "                        else{\n",
       "                            element.appendChild(children[i])\n",
       "                        }\n",
       "                    }\n",
       "                }\n",
       "                else{\n",
       "                    if(typeof children == &quot;string&quot;){\n",
       "                        element.innerHTML += children;\n",
       "                    }\n",
       "                    else{\n",
       "                        element.appendChild(children)\n",
       "                    }\n",
       "                }\n",
       "            }\n",
       "            return element\n",
       "        }\n",
       "\n",
       "        document.addEventListener(&#x27;DOMContentLoaded&#x27;, function () {\n",
       "            Highcharts.setOptions({&quot;colors&quot;: [&quot;#2364AA&quot;, &quot;#3DA5D9&quot;, &quot;#73BFB8&quot;, &quot;#FEC601&quot;, &quot;#EA7317&quot;, &quot;#ff0066&quot;, &quot;#eeaaee&quot;, &quot;#55BF3B&quot;, &quot;#DF5353&quot;, &quot;#7798BF&quot;, &quot;#aaeeee&quot;], &quot;title&quot;: {&quot;style&quot;: {&quot;color&quot;: &quot;#000000&quot;, &quot;font&quot;: &quot;bold 14px Arial, sans-serif&quot;}, &quot;align&quot;: &quot;left&quot;, &quot;text&quot;: null}, &quot;subtitle&quot;: {&quot;style&quot;: {&quot;color&quot;: &quot;#000000&quot;, &quot;font&quot;: &quot;12px Arial, sans-serif&quot;}, &quot;align&quot;: &quot;left&quot;, &quot;text&quot;: null}, &quot;legend&quot;: {&quot;layout&quot;: &quot;horizontal&quot;, &quot;align&quot;: &quot;center&quot;, &quot;verticalAlign&quot;: &quot;bottom&quot;, &quot;itemStyle&quot;: {&quot;font&quot;: &quot;9pt Arial, sans-serif&quot;, &quot;color&quot;: &quot;#000000&quot;}}, &quot;tooltip&quot;: {&quot;backgroundColor&quot;: &quot;rgba(0, 0, 0, 0.75)&quot;, &quot;style&quot;: {&quot;color&quot;: &quot;#F0F0F0&quot;, &quot;font&quot;: &quot;Arial&quot;}, &quot;shared&quot;: true, &quot;valueDecimals&quot;: 2}, &quot;xAxis&quot;: {&quot;gridLineColor&quot;: &quot;#eeeeee&quot;, &quot;gridLineWidth&quot;: 1, &quot;gridLineDashStyle&quot;: &quot;dash&quot;, &quot;lineColor&quot;: &quot;#000000&quot;, &quot;lineWidth&quot;: 1, &quot;labels&quot;: {&quot;style&quot;: {&quot;color&quot;: &quot;#000000&quot;, &quot;font&quot;: &quot;Arial&quot;}}, &quot;title&quot;: {&quot;text&quot;: null, &quot;style&quot;: {&quot;color&quot;: &quot;#000000&quot;, &quot;font&quot;: &quot;Arial&quot;}}, &quot;tickColor&quot;: &quot;#000000&quot;, &quot;tickPosition&quot;: &quot;outside&quot;, &quot;tickLength&quot;: 5}, &quot;yAxis&quot;: {&quot;gridLineColor&quot;: &quot;#eeeeee&quot;, &quot;gridLineWidth&quot;: 1, &quot;gridLineDashStyle&quot;: &quot;dash&quot;, &quot;lineColor&quot;: &quot;#000000&quot;, &quot;lineWidth&quot;: 1, &quot;labels&quot;: {&quot;style&quot;: {&quot;color&quot;: &quot;#000000&quot;, &quot;font&quot;: &quot;Arial&quot;}}, &quot;tickColor&quot;: &quot;#000000&quot;, &quot;tickPosition&quot;: &quot;outside&quot;, &quot;tickLength&quot;: 5, &quot;tickWidth&quot;: 1, &quot;title&quot;: {&quot;text&quot;: null, &quot;style&quot;: {&quot;color&quot;: &quot;#000000&quot;, &quot;font&quot;: &quot;Arial&quot;}}}, &quot;credits&quot;: {&quot;style&quot;: {&quot;color&quot;: &quot;#666&quot;}, &quot;position&quot;: {&quot;align&quot;: &quot;left&quot;, &quot;x&quot;: 50}, &quot;text&quot;: &quot;&quot;, &quot;href&quot;: null}, &quot;plotOptions&quot;: {&quot;chart&quot;: {&quot;animation&quot;: false}, &quot;line&quot;: {&quot;animation&quot;: false}, &quot;pie&quot;: {&quot;showInLegend&quot;: true, &quot;dataLabels&quot;: {&quot;enabled&quot;: false}}, &quot;column&quot;: {&quot;pointPadding&quot;: 0.1, &quot;borderWidth&quot;: 0, &quot;groupPadding&quot;: 0.1}, &quot;scatter&quot;: {&quot;marker&quot;: {&quot;radius&quot;: 3, &quot;enabled&quot;: true, &quot;symbol&quot;: &quot;circle&quot;}}}});\n",
       "\n",
       "            [{&quot;chart&quot;: {&quot;series&quot;: [{&quot;data&quot;: [{&quot;y&quot;: 55684, &quot;color&quot;: &quot;#F4D6CC&quot;}, {&quot;y&quot;: 43399, &quot;color&quot;: &quot;#F4D6CC&quot;}, {&quot;y&quot;: 48846, &quot;color&quot;: &quot;#F4D6CC&quot;}, {&quot;y&quot;: 48058, &quot;color&quot;: &quot;#F4D6CC&quot;}, {&quot;y&quot;: 52061, &quot;color&quot;: &quot;#F4D6CC&quot;}, {&quot;y&quot;: 25258, &quot;color&quot;: &quot;#F4D6CC&quot;}, {&quot;y&quot;: 36422, &quot;color&quot;: &quot;#F4D6CC&quot;}, {&quot;y&quot;: 51680, &quot;color&quot;: &quot;#F4D6CC&quot;}, {&quot;y&quot;: 37159, &quot;color&quot;: &quot;#F4D6CC&quot;}, {&quot;y&quot;: 69693, &quot;color&quot;: &quot;#C83E4D&quot;}, {&quot;y&quot;: 36461, &quot;color&quot;: &quot;#F4D6CC&quot;}, {&quot;y&quot;: 45534, &quot;color&quot;: &quot;#F4D6CC&quot;}, {&quot;y&quot;: 32275, &quot;color&quot;: &quot;#F4D6CC&quot;}, {&quot;y&quot;: 39826, &quot;color&quot;: &quot;#F4D6CC&quot;}, {&quot;y&quot;: 38710, &quot;color&quot;: &quot;#F4D6CC&quot;}, {&quot;y&quot;: 57164, &quot;color&quot;: &quot;#F4D6CC&quot;}, {&quot;y&quot;: 47483, &quot;color&quot;: &quot;#F4D6CC&quot;}, {&quot;y&quot;: 40489, &quot;color&quot;: &quot;#F4D6CC&quot;}, {&quot;y&quot;: 54189, &quot;color&quot;: &quot;#F4D6CC&quot;}, {&quot;y&quot;: 42632, &quot;color&quot;: &quot;#F4D6CC&quot;}, {&quot;y&quot;: 40357, &quot;color&quot;: &quot;#F4D6CC&quot;}, {&quot;y&quot;: 59317, &quot;color&quot;: &quot;#F4D6CC&quot;}, {&quot;y&quot;: 44056, &quot;color&quot;: &quot;#F4D6CC&quot;}, {&quot;y&quot;: 61453, &quot;color&quot;: &quot;#F4D6CC&quot;}, {&quot;y&quot;: 41744, &quot;color&quot;: &quot;#F4D6CC&quot;}, {&quot;y&quot;: 41405, &quot;color&quot;: &quot;#F4D6CC&quot;}, {&quot;y&quot;: 45176, &quot;color&quot;: &quot;#F4D6CC&quot;}, {&quot;y&quot;: 39270, &quot;color&quot;: &quot;#F4D6CC&quot;}, {&quot;y&quot;: 45546, &quot;color&quot;: &quot;#F4D6CC&quot;}, {&quot;y&quot;: 38821, &quot;color&quot;: &quot;#F4D6CC&quot;}, {&quot;y&quot;: 52793, &quot;color&quot;: &quot;#F4D6CC&quot;}, {&quot;y&quot;: 47732, &quot;color&quot;: &quot;#F4D6CC&quot;}, {&quot;y&quot;: 38245, &quot;color&quot;: &quot;#F4D6CC&quot;}, {&quot;y&quot;: 57128, &quot;color&quot;: &quot;#F4D6CC&quot;}, {&quot;y&quot;: 47990, &quot;color&quot;: &quot;#F4D6CC&quot;}, {&quot;y&quot;: 58422, &quot;color&quot;: &quot;#F4D6CC&quot;}, {&quot;y&quot;: 49730, &quot;color&quot;: &quot;#F4D6CC&quot;}, {&quot;y&quot;: 39679, &quot;color&quot;: &quot;#F4D6CC&quot;}, {&quot;y&quot;: 57054, &quot;color&quot;: &quot;#F4D6CC&quot;}, {&quot;y&quot;: 62393, &quot;color&quot;: &quot;#F4D6CC&quot;}, {&quot;y&quot;: 47153, &quot;color&quot;: &quot;#F4D6CC&quot;}, {&quot;y&quot;: 60154, &quot;color&quot;: &quot;#F4D6CC&quot;}, {&quot;y&quot;: 53802, &quot;color&quot;: &quot;#F4D6CC&quot;}, {&quot;y&quot;: 55229, &quot;color&quot;: &quot;#F4D6CC&quot;}, {&quot;y&quot;: 33266, &quot;color&quot;: &quot;#F4D6CC&quot;}, {&quot;y&quot;: 25500, &quot;color&quot;: &quot;#F4D6CC&quot;}, {&quot;y&quot;: 45074, &quot;color&quot;: &quot;#F4D6CC&quot;}, {&quot;y&quot;: 52151, &quot;color&quot;: &quot;#F4D6CC&quot;}, {&quot;y&quot;: 62183, &quot;color&quot;: &quot;#F4D6CC&quot;}, {&quot;y&quot;: 28605, &quot;color&quot;: &quot;#F4D6CC&quot;}, {&quot;y&quot;: 47695, &quot;color&quot;: &quot;#F4D6CC&quot;}, {&quot;y&quot;: 60851, &quot;color&quot;: &quot;#F4D6CC&quot;}, {&quot;y&quot;: 57942, &quot;color&quot;: &quot;#F4D6CC&quot;}, {&quot;y&quot;: 31083, &quot;color&quot;: &quot;#F4D6CC&quot;}, {&quot;y&quot;: 61793, &quot;color&quot;: &quot;#F4D6CC&quot;}, {&quot;y&quot;: 53475, &quot;color&quot;: &quot;#F4D6CC&quot;}, {&quot;y&quot;: 35054, &quot;color&quot;: &quot;#F4D6CC&quot;}, {&quot;y&quot;: 50458, &quot;color&quot;: &quot;#F4D6CC&quot;}, {&quot;y&quot;: 48203, &quot;color&quot;: &quot;#F4D6CC&quot;}, {&quot;y&quot;: 9295, &quot;color&quot;: &quot;#F4D6CC&quot;}, {&quot;y&quot;: 41673, &quot;color&quot;: &quot;#F4D6CC&quot;}, {&quot;y&quot;: 48420, &quot;color&quot;: &quot;#F4D6CC&quot;}, {&quot;y&quot;: 59818, &quot;color&quot;: &quot;#F4D6CC&quot;}, {&quot;y&quot;: 54694, &quot;color&quot;: &quot;#F4D6CC&quot;}, {&quot;y&quot;: 50723, &quot;color&quot;: &quot;#F4D6CC&quot;}, {&quot;y&quot;: 51247, &quot;color&quot;: &quot;#F4D6CC&quot;}, {&quot;y&quot;: 38155, &quot;color&quot;: &quot;#F4D6CC&quot;}, {&quot;y&quot;: 53849, &quot;color&quot;: &quot;#F4D6CC&quot;}, {&quot;y&quot;: 55991, &quot;color&quot;: &quot;#F4D6CC&quot;}, {&quot;y&quot;: 38308, &quot;color&quot;: &quot;#F4D6CC&quot;}, {&quot;y&quot;: 55962, &quot;color&quot;: &quot;#F4D6CC&quot;}, {&quot;y&quot;: 50350, &quot;color&quot;: &quot;#F4D6CC&quot;}, {&quot;y&quot;: 14019, &quot;color&quot;: &quot;#F4D6CC&quot;}, {&quot;y&quot;: 47075, &quot;color&quot;: &quot;#F4D6CC&quot;}, {&quot;y&quot;: 8819, &quot;color&quot;: &quot;#F4D6CC&quot;}, {&quot;y&quot;: 44131, &quot;color&quot;: &quot;#F4D6CC&quot;}, {&quot;y&quot;: 42089, &quot;color&quot;: &quot;#F4D6CC&quot;}, {&quot;y&quot;: 55031, &quot;color&quot;: &quot;#F4D6CC&quot;}, {&quot;y&quot;: 56165, &quot;color&quot;: &quot;#F4D6CC&quot;}, {&quot;y&quot;: 49400, &quot;color&quot;: &quot;#F4D6CC&quot;}, {&quot;y&quot;: 63583, &quot;color&quot;: &quot;#F4D6CC&quot;}, {&quot;y&quot;: 60501, &quot;color&quot;: &quot;#F4D6CC&quot;}, {&quot;y&quot;: 32443, &quot;color&quot;: &quot;#F4D6CC&quot;}, {&quot;y&quot;: 46023, &quot;color&quot;: &quot;#F4D6CC&quot;}, {&quot;y&quot;: 48724, &quot;color&quot;: &quot;#F4D6CC&quot;}, {&quot;y&quot;: 61245, &quot;color&quot;: &quot;#F4D6CC&quot;}, {&quot;y&quot;: 62745, &quot;color&quot;: &quot;#F4D6CC&quot;}, {&quot;y&quot;: 7086, &quot;color&quot;: &quot;#F4D6CC&quot;}, {&quot;y&quot;: 47123, &quot;color&quot;: &quot;#F4D6CC&quot;}, {&quot;y&quot;: 51170, &quot;color&quot;: &quot;#F4D6CC&quot;}, {&quot;y&quot;: 64324, &quot;color&quot;: &quot;#F4D6CC&quot;}, {&quot;y&quot;: 45349, &quot;color&quot;: &quot;#F4D6CC&quot;}, {&quot;y&quot;: 42175, &quot;color&quot;: &quot;#F4D6CC&quot;}, {&quot;y&quot;: 48229, &quot;color&quot;: &quot;#F4D6CC&quot;}, {&quot;y&quot;: 50017, &quot;color&quot;: &quot;#F4D6CC&quot;}, {&quot;y&quot;: 46211, &quot;color&quot;: &quot;#F4D6CC&quot;}, {&quot;y&quot;: 46917, &quot;color&quot;: &quot;#F4D6CC&quot;}, {&quot;y&quot;: 46957, &quot;color&quot;: &quot;#F4D6CC&quot;}, {&quot;y&quot;: 32368, &quot;color&quot;: &quot;#F4D6CC&quot;}, {&quot;y&quot;: 39829, &quot;color&quot;: &quot;#F4D6CC&quot;}, {&quot;y&quot;: 47430, &quot;color&quot;: &quot;#F4D6CC&quot;}, {&quot;y&quot;: 50789, &quot;color&quot;: &quot;#F4D6CC&quot;}, {&quot;y&quot;: 54867, &quot;color&quot;: &quot;#F4D6CC&quot;}, {&quot;y&quot;: 54477, &quot;color&quot;: &quot;#F4D6CC&quot;}, {&quot;y&quot;: 54743, &quot;color&quot;: &quot;#F4D6CC&quot;}, {&quot;y&quot;: 49995, &quot;color&quot;: &quot;#F4D6CC&quot;}, {&quot;y&quot;: 52787, &quot;color&quot;: &quot;#F4D6CC&quot;}, {&quot;y&quot;: 49001, &quot;color&quot;: &quot;#F4D6CC&quot;}, {&quot;y&quot;: 44667, &quot;color&quot;: &quot;#F4D6CC&quot;}, {&quot;y&quot;: 57306, &quot;color&quot;: &quot;#F4D6CC&quot;}, {&quot;y&quot;: 26098, &quot;color&quot;: &quot;#F4D6CC&quot;}, {&quot;y&quot;: 35932, &quot;color&quot;: &quot;#F4D6CC&quot;}, {&quot;y&quot;: 62988, &quot;color&quot;: &quot;#F4D6CC&quot;}, {&quot;y&quot;: 55205, &quot;color&quot;: &quot;#F4D6CC&quot;}, {&quot;y&quot;: 51243, &quot;color&quot;: &quot;#F4D6CC&quot;}, {&quot;y&quot;: 51038, &quot;color&quot;: &quot;#F4D6CC&quot;}, {&quot;y&quot;: 45780, &quot;color&quot;: &quot;#F4D6CC&quot;}, {&quot;y&quot;: 5996, &quot;color&quot;: &quot;#F4D6CC&quot;}, {&quot;y&quot;: 61710, &quot;color&quot;: &quot;#F4D6CC&quot;}, {&quot;y&quot;: 47285, &quot;color&quot;: &quot;#F4D6CC&quot;}, {&quot;y&quot;: 48612, &quot;color&quot;: &quot;#F4D6CC&quot;}, {&quot;y&quot;: 56074, &quot;color&quot;: &quot;#F4D6CC&quot;}, {&quot;y&quot;: 28917, &quot;color&quot;: &quot;#F4D6CC&quot;}, {&quot;y&quot;: 39343, &quot;color&quot;: &quot;#F4D6CC&quot;}, {&quot;y&quot;: 57802, &quot;color&quot;: &quot;#F4D6CC&quot;}, {&quot;y&quot;: 58895, &quot;color&quot;: &quot;#F4D6CC&quot;}, {&quot;y&quot;: 55720, &quot;color&quot;: &quot;#F4D6CC&quot;}, {&quot;y&quot;: 29731, &quot;color&quot;: &quot;#F4D6CC&quot;}, {&quot;y&quot;: 13617, &quot;color&quot;: &quot;#F4D6CC&quot;}, {&quot;y&quot;: 48410, &quot;color&quot;: &quot;#F4D6CC&quot;}, {&quot;y&quot;: 45280, &quot;color&quot;: &quot;#F4D6CC&quot;}, {&quot;y&quot;: 59611, &quot;color&quot;: &quot;#F4D6CC&quot;}, {&quot;y&quot;: 36710, &quot;color&quot;: &quot;#F4D6CC&quot;}, {&quot;y&quot;: 48386, &quot;color&quot;: &quot;#F4D6CC&quot;}, {&quot;y&quot;: 57172, &quot;color&quot;: &quot;#F4D6CC&quot;}, {&quot;y&quot;: 59689, &quot;color&quot;: &quot;#F4D6CC&quot;}, {&quot;y&quot;: 55840, &quot;color&quot;: &quot;#F4D6CC&quot;}, {&quot;y&quot;: 30452, &quot;color&quot;: &quot;#F4D6CC&quot;}, {&quot;y&quot;: 45466, &quot;color&quot;: &quot;#F4D6CC&quot;}, {&quot;y&quot;: 38059, &quot;color&quot;: &quot;#F4D6CC&quot;}, {&quot;y&quot;: 39662, &quot;color&quot;: &quot;#F4D6CC&quot;}, {&quot;y&quot;: 38257, &quot;color&quot;: &quot;#F4D6CC&quot;}, {&quot;y&quot;: 55571, &quot;color&quot;: &quot;#F4D6CC&quot;}, {&quot;y&quot;: 57943, &quot;color&quot;: &quot;#F4D6CC&quot;}, {&quot;y&quot;: 35371, &quot;color&quot;: &quot;#F4D6CC&quot;}, {&quot;y&quot;: 51734, &quot;color&quot;: &quot;#F4D6CC&quot;}, {&quot;y&quot;: 55339, &quot;color&quot;: &quot;#F4D6CC&quot;}, {&quot;y&quot;: 37657, &quot;color&quot;: &quot;#F4D6CC&quot;}, {&quot;y&quot;: 57704, &quot;color&quot;: &quot;#F4D6CC&quot;}, {&quot;y&quot;: 43965, &quot;color&quot;: &quot;#F4D6CC&quot;}, {&quot;y&quot;: 44366, &quot;color&quot;: &quot;#F4D6CC&quot;}, {&quot;y&quot;: 45734, &quot;color&quot;: &quot;#F4D6CC&quot;}, {&quot;y&quot;: 48225, &quot;color&quot;: &quot;#F4D6CC&quot;}, {&quot;y&quot;: 42556, &quot;color&quot;: &quot;#F4D6CC&quot;}, {&quot;y&quot;: 32080, &quot;color&quot;: &quot;#F4D6CC&quot;}, {&quot;y&quot;: 57954, &quot;color&quot;: &quot;#F4D6CC&quot;}, {&quot;y&quot;: 36492, &quot;color&quot;: &quot;#F4D6CC&quot;}, {&quot;y&quot;: 39974, &quot;color&quot;: &quot;#F4D6CC&quot;}, {&quot;y&quot;: 22762, &quot;color&quot;: &quot;#F4D6CC&quot;}, {&quot;y&quot;: 55867, &quot;color&quot;: &quot;#F4D6CC&quot;}, {&quot;y&quot;: 47779, &quot;color&quot;: &quot;#F4D6CC&quot;}, {&quot;y&quot;: 64112, &quot;color&quot;: &quot;#F4D6CC&quot;}, {&quot;y&quot;: 63353, &quot;color&quot;: &quot;#F4D6CC&quot;}, {&quot;y&quot;: 50709, &quot;color&quot;: &quot;#F4D6CC&quot;}, {&quot;y&quot;: 43959, &quot;color&quot;: &quot;#F4D6CC&quot;}, {&quot;y&quot;: 57458, &quot;color&quot;: &quot;#F4D6CC&quot;}, {&quot;y&quot;: 61528, &quot;color&quot;: &quot;#F4D6CC&quot;}, {&quot;y&quot;: 48716, &quot;color&quot;: &quot;#F4D6CC&quot;}, {&quot;y&quot;: 31828, &quot;color&quot;: &quot;#F4D6CC&quot;}, {&quot;y&quot;: 46232, &quot;color&quot;: &quot;#F4D6CC&quot;}, {&quot;y&quot;: 40989, &quot;color&quot;: &quot;#F4D6CC&quot;}, {&quot;y&quot;: 39817, &quot;color&quot;: &quot;#F4D6CC&quot;}, {&quot;y&quot;: 50242, &quot;color&quot;: &quot;#F4D6CC&quot;}, {&quot;y&quot;: 47244, &quot;color&quot;: &quot;#F4D6CC&quot;}, {&quot;y&quot;: 62528, &quot;color&quot;: &quot;#F4D6CC&quot;}, {&quot;y&quot;: 57136, &quot;color&quot;: &quot;#F4D6CC&quot;}, {&quot;y&quot;: 54895, &quot;color&quot;: &quot;#F4D6CC&quot;}, {&quot;y&quot;: 54674, &quot;color&quot;: &quot;#F4D6CC&quot;}, {&quot;y&quot;: 53063, &quot;color&quot;: &quot;#F4D6CC&quot;}, {&quot;y&quot;: 55841, &quot;color&quot;: &quot;#F4D6CC&quot;}, {&quot;y&quot;: 5415, &quot;color&quot;: &quot;#F4D6CC&quot;}, {&quot;y&quot;: 51515, &quot;color&quot;: &quot;#F4D6CC&quot;}, {&quot;y&quot;: 50097, &quot;color&quot;: &quot;#F4D6CC&quot;}, {&quot;y&quot;: 46508, &quot;color&quot;: &quot;#F4D6CC&quot;}, {&quot;y&quot;: 35208, &quot;color&quot;: &quot;#F4D6CC&quot;}, {&quot;y&quot;: 26725, &quot;color&quot;: &quot;#F4D6CC&quot;}, {&quot;y&quot;: 57282, &quot;color&quot;: &quot;#F4D6CC&quot;}, {&quot;y&quot;: 54369, &quot;color&quot;: &quot;#F4D6CC&quot;}, {&quot;y&quot;: 45382, &quot;color&quot;: &quot;#F4D6CC&quot;}, {&quot;y&quot;: 44675, &quot;color&quot;: &quot;#F4D6CC&quot;}, {&quot;y&quot;: 49025, &quot;color&quot;: &quot;#F4D6CC&quot;}, {&quot;y&quot;: 46020, &quot;color&quot;: &quot;#F4D6CC&quot;}, {&quot;y&quot;: 45159, &quot;color&quot;: &quot;#F4D6CC&quot;}, {&quot;y&quot;: 52340, &quot;color&quot;: &quot;#F4D6CC&quot;}, {&quot;y&quot;: 50125, &quot;color&quot;: &quot;#F4D6CC&quot;}, {&quot;y&quot;: 20627, &quot;color&quot;: &quot;#F4D6CC&quot;}, {&quot;y&quot;: 26548, &quot;color&quot;: &quot;#F4D6CC&quot;}, {&quot;y&quot;: 41523, &quot;color&quot;: &quot;#F4D6CC&quot;}, {&quot;y&quot;: 52096, &quot;color&quot;: &quot;#F4D6CC&quot;}, {&quot;y&quot;: 37249, &quot;color&quot;: &quot;#F4D6CC&quot;}, {&quot;y&quot;: 52541, &quot;color&quot;: &quot;#F4D6CC&quot;}, {&quot;y&quot;: 33119, &quot;color&quot;: &quot;#F4D6CC&quot;}, {&quot;y&quot;: 62276, &quot;color&quot;: &quot;#F4D6CC&quot;}, {&quot;y&quot;: 46734, &quot;color&quot;: &quot;#F4D6CC&quot;}, {&quot;y&quot;: 51345, &quot;color&quot;: &quot;#F4D6CC&quot;}, {&quot;y&quot;: 56202, &quot;color&quot;: &quot;#F4D6CC&quot;}, {&quot;y&quot;: 28075, &quot;color&quot;: &quot;#F4D6CC&quot;}, {&quot;y&quot;: 31330, &quot;color&quot;: &quot;#F4D6CC&quot;}, {&quot;y&quot;: 51289, &quot;color&quot;: &quot;#F4D6CC&quot;}, {&quot;y&quot;: 48159, &quot;color&quot;: &quot;#F4D6CC&quot;}, {&quot;y&quot;: 56903, &quot;color&quot;: &quot;#F4D6CC&quot;}, {&quot;y&quot;: 46891, &quot;color&quot;: &quot;#F4D6CC&quot;}, {&quot;y&quot;: 34892, &quot;color&quot;: &quot;#F4D6CC&quot;}, {&quot;y&quot;: 35481, &quot;color&quot;: &quot;#F4D6CC&quot;}, {&quot;y&quot;: 53395, &quot;color&quot;: &quot;#F4D6CC&quot;}, {&quot;y&quot;: 39419, &quot;color&quot;: &quot;#F4D6CC&quot;}, {&quot;y&quot;: 38752, &quot;color&quot;: &quot;#F4D6CC&quot;}, {&quot;y&quot;: 52585, &quot;color&quot;: &quot;#F4D6CC&quot;}, {&quot;y&quot;: 57566, &quot;color&quot;: &quot;#F4D6CC&quot;}, {&quot;y&quot;: 41901, &quot;color&quot;: &quot;#F4D6CC&quot;}, {&quot;y&quot;: 46334, &quot;color&quot;: &quot;#F4D6CC&quot;}, {&quot;y&quot;: 54343, &quot;color&quot;: &quot;#F4D6CC&quot;}, {&quot;y&quot;: 46910, &quot;color&quot;: &quot;#F4D6CC&quot;}, {&quot;y&quot;: 64495, &quot;color&quot;: &quot;#F4D6CC&quot;}, {&quot;y&quot;: 45416, &quot;color&quot;: &quot;#F4D6CC&quot;}, {&quot;y&quot;: 60723, &quot;color&quot;: &quot;#F4D6CC&quot;}, {&quot;y&quot;: 49132, &quot;color&quot;: &quot;#F4D6CC&quot;}, {&quot;y&quot;: 55264, &quot;color&quot;: &quot;#F4D6CC&quot;}, {&quot;y&quot;: 56988, &quot;color&quot;: &quot;#F4D6CC&quot;}, {&quot;y&quot;: 43094, &quot;color&quot;: &quot;#F4D6CC&quot;}, {&quot;y&quot;: 51655, &quot;color&quot;: &quot;#F4D6CC&quot;}, {&quot;y&quot;: 51298, &quot;color&quot;: &quot;#F4D6CC&quot;}, {&quot;y&quot;: 59976, &quot;color&quot;: &quot;#F4D6CC&quot;}, {&quot;y&quot;: 58379, &quot;color&quot;: &quot;#F4D6CC&quot;}, {&quot;y&quot;: 62723, &quot;color&quot;: &quot;#F4D6CC&quot;}, {&quot;y&quot;: 38480, &quot;color&quot;: &quot;#F4D6CC&quot;}, {&quot;y&quot;: 66757, &quot;color&quot;: &quot;#F4D6CC&quot;}, {&quot;y&quot;: 56493, &quot;color&quot;: &quot;#F4D6CC&quot;}, {&quot;y&quot;: 49549, &quot;color&quot;: &quot;#F4D6CC&quot;}, {&quot;y&quot;: 57117, &quot;color&quot;: &quot;#F4D6CC&quot;}, {&quot;y&quot;: 50224, &quot;color&quot;: &quot;#F4D6CC&quot;}, {&quot;y&quot;: 56427, &quot;color&quot;: &quot;#F4D6CC&quot;}, {&quot;y&quot;: 57781, &quot;color&quot;: &quot;#F4D6CC&quot;}, {&quot;y&quot;: 16537, &quot;color&quot;: &quot;#F4D6CC&quot;}, {&quot;y&quot;: 59126, &quot;color&quot;: &quot;#F4D6CC&quot;}, {&quot;y&quot;: 22318, &quot;color&quot;: &quot;#F4D6CC&quot;}, {&quot;y&quot;: 48674, &quot;color&quot;: &quot;#F4D6CC&quot;}, {&quot;y&quot;: 43489, &quot;color&quot;: &quot;#F4D6CC&quot;}, {&quot;y&quot;: 47659, &quot;color&quot;: &quot;#F4D6CC&quot;}, {&quot;y&quot;: 50009, &quot;color&quot;: &quot;#F4D6CC&quot;}], &quot;name&quot;: &quot;total calories per elf&quot;, &quot;showInLegend&quot;: false}], &quot;chart&quot;: {&quot;type&quot;: &quot;column&quot;, &quot;zoomType&quot;: &quot;x&quot;}, &quot;title&quot;: {&quot;text&quot;: &quot;Total disposable calories per elf&quot;}, &quot;xAxis&quot;: {&quot;categories&quot;: [&quot;Elf 1&quot;, &quot;Elf 2&quot;, &quot;Elf 3&quot;, &quot;Elf 4&quot;, &quot;Elf 5&quot;, &quot;Elf 6&quot;, &quot;Elf 7&quot;, &quot;Elf 8&quot;, &quot;Elf 9&quot;, &quot;Elf 10&quot;, &quot;Elf 11&quot;, &quot;Elf 12&quot;, &quot;Elf 13&quot;, &quot;Elf 14&quot;, &quot;Elf 15&quot;, &quot;Elf 16&quot;, &quot;Elf 17&quot;, &quot;Elf 18&quot;, &quot;Elf 19&quot;, &quot;Elf 20&quot;, &quot;Elf 21&quot;, &quot;Elf 22&quot;, &quot;Elf 23&quot;, &quot;Elf 24&quot;, &quot;Elf 25&quot;, &quot;Elf 26&quot;, &quot;Elf 27&quot;, &quot;Elf 28&quot;, &quot;Elf 29&quot;, &quot;Elf 30&quot;, &quot;Elf 31&quot;, &quot;Elf 32&quot;, &quot;Elf 33&quot;, &quot;Elf 34&quot;, &quot;Elf 35&quot;, &quot;Elf 36&quot;, &quot;Elf 37&quot;, &quot;Elf 38&quot;, &quot;Elf 39&quot;, &quot;Elf 40&quot;, &quot;Elf 41&quot;, &quot;Elf 42&quot;, &quot;Elf 43&quot;, &quot;Elf 44&quot;, &quot;Elf 45&quot;, &quot;Elf 46&quot;, &quot;Elf 47&quot;, &quot;Elf 48&quot;, &quot;Elf 49&quot;, &quot;Elf 50&quot;, &quot;Elf 51&quot;, &quot;Elf 52&quot;, &quot;Elf 53&quot;, &quot;Elf 54&quot;, &quot;Elf 55&quot;, &quot;Elf 56&quot;, &quot;Elf 57&quot;, &quot;Elf 58&quot;, &quot;Elf 59&quot;, &quot;Elf 60&quot;, &quot;Elf 61&quot;, &quot;Elf 62&quot;, &quot;Elf 63&quot;, &quot;Elf 64&quot;, &quot;Elf 65&quot;, &quot;Elf 66&quot;, &quot;Elf 67&quot;, &quot;Elf 68&quot;, &quot;Elf 69&quot;, &quot;Elf 70&quot;, &quot;Elf 71&quot;, &quot;Elf 72&quot;, &quot;Elf 73&quot;, &quot;Elf 74&quot;, &quot;Elf 75&quot;, &quot;Elf 76&quot;, &quot;Elf 77&quot;, &quot;Elf 78&quot;, &quot;Elf 79&quot;, &quot;Elf 80&quot;, &quot;Elf 81&quot;, &quot;Elf 82&quot;, &quot;Elf 83&quot;, &quot;Elf 84&quot;, &quot;Elf 85&quot;, &quot;Elf 86&quot;, &quot;Elf 87&quot;, &quot;Elf 88&quot;, &quot;Elf 89&quot;, &quot;Elf 90&quot;, &quot;Elf 91&quot;, &quot;Elf 92&quot;, &quot;Elf 93&quot;, &quot;Elf 94&quot;, &quot;Elf 95&quot;, &quot;Elf 96&quot;, &quot;Elf 97&quot;, &quot;Elf 98&quot;, &quot;Elf 99&quot;, &quot;Elf 100&quot;, &quot;Elf 101&quot;, &quot;Elf 102&quot;, &quot;Elf 103&quot;, &quot;Elf 104&quot;, &quot;Elf 105&quot;, &quot;Elf 106&quot;, &quot;Elf 107&quot;, &quot;Elf 108&quot;, &quot;Elf 109&quot;, &quot;Elf 110&quot;, &quot;Elf 111&quot;, &quot;Elf 112&quot;, &quot;Elf 113&quot;, &quot;Elf 114&quot;, &quot;Elf 115&quot;, &quot;Elf 116&quot;, &quot;Elf 117&quot;, &quot;Elf 118&quot;, &quot;Elf 119&quot;, &quot;Elf 120&quot;, &quot;Elf 121&quot;, &quot;Elf 122&quot;, &quot;Elf 123&quot;, &quot;Elf 124&quot;, &quot;Elf 125&quot;, &quot;Elf 126&quot;, &quot;Elf 127&quot;, &quot;Elf 128&quot;, &quot;Elf 129&quot;, &quot;Elf 130&quot;, &quot;Elf 131&quot;, &quot;Elf 132&quot;, &quot;Elf 133&quot;, &quot;Elf 134&quot;, &quot;Elf 135&quot;, &quot;Elf 136&quot;, &quot;Elf 137&quot;, &quot;Elf 138&quot;, &quot;Elf 139&quot;, &quot;Elf 140&quot;, &quot;Elf 141&quot;, &quot;Elf 142&quot;, &quot;Elf 143&quot;, &quot;Elf 144&quot;, &quot;Elf 145&quot;, &quot;Elf 146&quot;, &quot;Elf 147&quot;, &quot;Elf 148&quot;, &quot;Elf 149&quot;, &quot;Elf 150&quot;, &quot;Elf 151&quot;, &quot;Elf 152&quot;, &quot;Elf 153&quot;, &quot;Elf 154&quot;, &quot;Elf 155&quot;, &quot;Elf 156&quot;, &quot;Elf 157&quot;, &quot;Elf 158&quot;, &quot;Elf 159&quot;, &quot;Elf 160&quot;, &quot;Elf 161&quot;, &quot;Elf 162&quot;, &quot;Elf 163&quot;, &quot;Elf 164&quot;, &quot;Elf 165&quot;, &quot;Elf 166&quot;, &quot;Elf 167&quot;, &quot;Elf 168&quot;, &quot;Elf 169&quot;, &quot;Elf 170&quot;, &quot;Elf 171&quot;, &quot;Elf 172&quot;, &quot;Elf 173&quot;, &quot;Elf 174&quot;, &quot;Elf 175&quot;, &quot;Elf 176&quot;, &quot;Elf 177&quot;, &quot;Elf 178&quot;, &quot;Elf 179&quot;, &quot;Elf 180&quot;, &quot;Elf 181&quot;, &quot;Elf 182&quot;, &quot;Elf 183&quot;, &quot;Elf 184&quot;, &quot;Elf 185&quot;, &quot;Elf 186&quot;, &quot;Elf 187&quot;, &quot;Elf 188&quot;, &quot;Elf 189&quot;, &quot;Elf 190&quot;, &quot;Elf 191&quot;, &quot;Elf 192&quot;, &quot;Elf 193&quot;, &quot;Elf 194&quot;, &quot;Elf 195&quot;, &quot;Elf 196&quot;, &quot;Elf 197&quot;, &quot;Elf 198&quot;, &quot;Elf 199&quot;, &quot;Elf 200&quot;, &quot;Elf 201&quot;, &quot;Elf 202&quot;, &quot;Elf 203&quot;, &quot;Elf 204&quot;, &quot;Elf 205&quot;, &quot;Elf 206&quot;, &quot;Elf 207&quot;, &quot;Elf 208&quot;, &quot;Elf 209&quot;, &quot;Elf 210&quot;, &quot;Elf 211&quot;, &quot;Elf 212&quot;, &quot;Elf 213&quot;, &quot;Elf 214&quot;, &quot;Elf 215&quot;, &quot;Elf 216&quot;, &quot;Elf 217&quot;, &quot;Elf 218&quot;, &quot;Elf 219&quot;, &quot;Elf 220&quot;, &quot;Elf 221&quot;, &quot;Elf 222&quot;, &quot;Elf 223&quot;, &quot;Elf 224&quot;, &quot;Elf 225&quot;, &quot;Elf 226&quot;, &quot;Elf 227&quot;, &quot;Elf 228&quot;, &quot;Elf 229&quot;, &quot;Elf 230&quot;, &quot;Elf 231&quot;, &quot;Elf 232&quot;, &quot;Elf 233&quot;, &quot;Elf 234&quot;, &quot;Elf 235&quot;, &quot;Elf 236&quot;, &quot;Elf 237&quot;, &quot;Elf 238&quot;, &quot;Elf 239&quot;, &quot;Elf 240&quot;, &quot;Elf 241&quot;, &quot;Elf 242&quot;, &quot;Elf 243&quot;, &quot;Elf 244&quot;, &quot;Elf 245&quot;, &quot;Elf 246&quot;, &quot;Elf 247&quot;, &quot;Elf 248&quot;, &quot;Elf 249&quot;, &quot;Elf 250&quot;], &quot;visible&quot;: false}, &quot;tooltip&quot;: {&quot;valueSuffix&quot;: &quot; calories&quot;}}, &quot;width&quot;: &quot;100%&quot;, &quot;height&quot;: &quot;400px&quot;}].forEach(function (plot, i) {\n",
       "                var container = createElement(\n",
       "                    &quot;div&quot;, \n",
       "                    {&quot;id&quot;:&quot;container-&quot; + i, &quot;style&quot;:&quot;width:&quot; +plot.width +&quot;;height:&quot; + plot.height + &quot;;&quot;}\n",
       "                ); document.createElement(&quot;div&quot;)\n",
       "                \n",
       "                document.getElementById(&quot;root&quot;).appendChild(container)\n",
       "                \n",
       "                try{\n",
       "                    Highcharts.chart(&quot;container-&quot; + i, plot.chart); \n",
       "                }\n",
       "                catch(error){\n",
       "                    document.getElementById(&quot;root&quot;).removeChild(container);\n",
       "                    \n",
       "                    var container = createElement(\n",
       "                        &quot;div&quot;,\n",
       "                        {\n",
       "                            &quot;style&quot;:{\n",
       "                                &quot;background-color&quot;:&quot;rgba(255, 82, 82, 0.1)&quot;, \n",
       "                                &quot;border&quot;:&quot;1px solid rgba(255, 82, 82, 1)&quot;,\n",
       "                                &quot;box-sizing&quot;:&quot;border-box&quot;,\n",
       "                                &quot;padding&quot;:&quot;8px&quot;,\n",
       "                                &quot;width&quot;:&quot;100%&quot;\n",
       "\n",
       "                            }\n",
       "                        },\n",
       "                        [\n",
       "                            createElement(\n",
       "                                &quot;p&quot;, \n",
       "                                {&quot;style&quot;:&quot;font-family:sans-serif;margin:0;font-size:0.9rem;border-bottom:1px dashed red;&quot;}, \n",
       "                                [&quot;There was an error rendering your chart. Check the error message below and your chart definition&quot;]\n",
       "                            ),\n",
       "                                createElement(\n",
       "                                &quot;p&quot;, \n",
       "                                {&quot;style&quot;:&quot;font-family:sans-serif;font-family:Monospace;&quot;}, \n",
       "                                [error.message]\n",
       "                            ),\n",
       "                                createElement(&quot;p&quot;, {&quot;style&quot;:&quot;font-family:sans-serif;font-size:0.9rem;border-bottom:1px dashed red;&quot;}, [\n",
       "                                &quot;Chart definition&quot;\n",
       "                            ]),\n",
       "                            createElement(&quot;code&quot;, null, [\n",
       "                                createElement(&quot;pre&quot;, null, JSON.stringify(plot, null, 2))\n",
       "                            ]),\n",
       "                            createElement(\n",
       "                                &quot;p&quot;,\n",
       "                                {&quot;style&quot;:&quot;font-family:sans-serif;margin:0;font-size:0.9rem;border-bottom:1px dashed red;&quot;}, \n",
       "                                &quot;If you believe this a bug, please report it on the easychart github page&quot;\n",
       "                            )\n",
       "                        ]\n",
       "                    )\n",
       "                    document.getElementById(&quot;root&quot;).appendChild(\n",
       "                        container\n",
       "                    )\n",
       "                }  \n",
       "            })\n",
       "        });\n",
       "    &lt;/script&gt;\n",
       "&lt;/body&gt;\n",
       "\n",
       "&lt;/html&gt;\" height=\"400px\" width=\"100%\"></iframe>"
      ],
      "text/plain": [
       "Tree({'series': [{'data': [{'y': 55684, 'color': '#F4D6CC'}, {'y': 43399, 'color': '#F4D6CC'}, {'y': 48846, 'color': '#F4D6CC'}, {'y': 48058, 'color': '#F4D6CC'}, {'y': 52061, 'color': '#F4D6CC'}, {'y': 25258, 'color': '#F4D6CC'}, {'y': 36422, 'color': '#F4D6CC'}, {'y': 51680, 'color': '#F4D6CC'}, {'y': 37159, 'color': '#F4D6CC'}, {'y': 69693, 'color': '#C83E4D'}, {'y': 36461, 'color': '#F4D6CC'}, {'y': 45534, 'color': '#F4D6CC'}, {'y': 32275, 'color': '#F4D6CC'}, {'y': 39826, 'color': '#F4D6CC'}, {'y': 38710, 'color': '#F4D6CC'}, {'y': 57164, 'color': '#F4D6CC'}, {'y': 47483, 'color': '#F4D6CC'}, {'y': 40489, 'color': '#F4D6CC'}, {'y': 54189, 'color': '#F4D6CC'}, {'y': 42632, 'color': '#F4D6CC'}, {'y': 40357, 'color': '#F4D6CC'}, {'y': 59317, 'color': '#F4D6CC'}, {'y': 44056, 'color': '#F4D6CC'}, {'y': 61453, 'color': '#F4D6CC'}, {'y': 41744, 'color': '#F4D6CC'}, {'y': 41405, 'color': '#F4D6CC'}, {'y': 45176, 'color': '#F4D6CC'}, {'y': 39270, 'color': '#F4D6CC'}, {'y': 45546, 'color': '#F4D6CC'}, {'y': 38821, 'color': '#F4D6CC'}, {'y': 52793, 'color': '#F4D6CC'}, {'y': 47732, 'color': '#F4D6CC'}, {'y': 38245, 'color': '#F4D6CC'}, {'y': 57128, 'color': '#F4D6CC'}, {'y': 47990, 'color': '#F4D6CC'}, {'y': 58422, 'color': '#F4D6CC'}, {'y': 49730, 'color': '#F4D6CC'}, {'y': 39679, 'color': '#F4D6CC'}, {'y': 57054, 'color': '#F4D6CC'}, {'y': 62393, 'color': '#F4D6CC'}, {'y': 47153, 'color': '#F4D6CC'}, {'y': 60154, 'color': '#F4D6CC'}, {'y': 53802, 'color': '#F4D6CC'}, {'y': 55229, 'color': '#F4D6CC'}, {'y': 33266, 'color': '#F4D6CC'}, {'y': 25500, 'color': '#F4D6CC'}, {'y': 45074, 'color': '#F4D6CC'}, {'y': 52151, 'color': '#F4D6CC'}, {'y': 62183, 'color': '#F4D6CC'}, {'y': 28605, 'color': '#F4D6CC'}, {'y': 47695, 'color': '#F4D6CC'}, {'y': 60851, 'color': '#F4D6CC'}, {'y': 57942, 'color': '#F4D6CC'}, {'y': 31083, 'color': '#F4D6CC'}, {'y': 61793, 'color': '#F4D6CC'}, {'y': 53475, 'color': '#F4D6CC'}, {'y': 35054, 'color': '#F4D6CC'}, {'y': 50458, 'color': '#F4D6CC'}, {'y': 48203, 'color': '#F4D6CC'}, {'y': 9295, 'color': '#F4D6CC'}, {'y': 41673, 'color': '#F4D6CC'}, {'y': 48420, 'color': '#F4D6CC'}, {'y': 59818, 'color': '#F4D6CC'}, {'y': 54694, 'color': '#F4D6CC'}, {'y': 50723, 'color': '#F4D6CC'}, {'y': 51247, 'color': '#F4D6CC'}, {'y': 38155, 'color': '#F4D6CC'}, {'y': 53849, 'color': '#F4D6CC'}, {'y': 55991, 'color': '#F4D6CC'}, {'y': 38308, 'color': '#F4D6CC'}, {'y': 55962, 'color': '#F4D6CC'}, {'y': 50350, 'color': '#F4D6CC'}, {'y': 14019, 'color': '#F4D6CC'}, {'y': 47075, 'color': '#F4D6CC'}, {'y': 8819, 'color': '#F4D6CC'}, {'y': 44131, 'color': '#F4D6CC'}, {'y': 42089, 'color': '#F4D6CC'}, {'y': 55031, 'color': '#F4D6CC'}, {'y': 56165, 'color': '#F4D6CC'}, {'y': 49400, 'color': '#F4D6CC'}, {'y': 63583, 'color': '#F4D6CC'}, {'y': 60501, 'color': '#F4D6CC'}, {'y': 32443, 'color': '#F4D6CC'}, {'y': 46023, 'color': '#F4D6CC'}, {'y': 48724, 'color': '#F4D6CC'}, {'y': 61245, 'color': '#F4D6CC'}, {'y': 62745, 'color': '#F4D6CC'}, {'y': 7086, 'color': '#F4D6CC'}, {'y': 47123, 'color': '#F4D6CC'}, {'y': 51170, 'color': '#F4D6CC'}, {'y': 64324, 'color': '#F4D6CC'}, {'y': 45349, 'color': '#F4D6CC'}, {'y': 42175, 'color': '#F4D6CC'}, {'y': 48229, 'color': '#F4D6CC'}, {'y': 50017, 'color': '#F4D6CC'}, {'y': 46211, 'color': '#F4D6CC'}, {'y': 46917, 'color': '#F4D6CC'}, {'y': 46957, 'color': '#F4D6CC'}, {'y': 32368, 'color': '#F4D6CC'}, {'y': 39829, 'color': '#F4D6CC'}, {'y': 47430, 'color': '#F4D6CC'}, {'y': 50789, 'color': '#F4D6CC'}, {'y': 54867, 'color': '#F4D6CC'}, {'y': 54477, 'color': '#F4D6CC'}, {'y': 54743, 'color': '#F4D6CC'}, {'y': 49995, 'color': '#F4D6CC'}, {'y': 52787, 'color': '#F4D6CC'}, {'y': 49001, 'color': '#F4D6CC'}, {'y': 44667, 'color': '#F4D6CC'}, {'y': 57306, 'color': '#F4D6CC'}, {'y': 26098, 'color': '#F4D6CC'}, {'y': 35932, 'color': '#F4D6CC'}, {'y': 62988, 'color': '#F4D6CC'}, {'y': 55205, 'color': '#F4D6CC'}, {'y': 51243, 'color': '#F4D6CC'}, {'y': 51038, 'color': '#F4D6CC'}, {'y': 45780, 'color': '#F4D6CC'}, {'y': 5996, 'color': '#F4D6CC'}, {'y': 61710, 'color': '#F4D6CC'}, {'y': 47285, 'color': '#F4D6CC'}, {'y': 48612, 'color': '#F4D6CC'}, {'y': 56074, 'color': '#F4D6CC'}, {'y': 28917, 'color': '#F4D6CC'}, {'y': 39343, 'color': '#F4D6CC'}, {'y': 57802, 'color': '#F4D6CC'}, {'y': 58895, 'color': '#F4D6CC'}, {'y': 55720, 'color': '#F4D6CC'}, {'y': 29731, 'color': '#F4D6CC'}, {'y': 13617, 'color': '#F4D6CC'}, {'y': 48410, 'color': '#F4D6CC'}, {'y': 45280, 'color': '#F4D6CC'}, {'y': 59611, 'color': '#F4D6CC'}, {'y': 36710, 'color': '#F4D6CC'}, {'y': 48386, 'color': '#F4D6CC'}, {'y': 57172, 'color': '#F4D6CC'}, {'y': 59689, 'color': '#F4D6CC'}, {'y': 55840, 'color': '#F4D6CC'}, {'y': 30452, 'color': '#F4D6CC'}, {'y': 45466, 'color': '#F4D6CC'}, {'y': 38059, 'color': '#F4D6CC'}, {'y': 39662, 'color': '#F4D6CC'}, {'y': 38257, 'color': '#F4D6CC'}, {'y': 55571, 'color': '#F4D6CC'}, {'y': 57943, 'color': '#F4D6CC'}, {'y': 35371, 'color': '#F4D6CC'}, {'y': 51734, 'color': '#F4D6CC'}, {'y': 55339, 'color': '#F4D6CC'}, {'y': 37657, 'color': '#F4D6CC'}, {'y': 57704, 'color': '#F4D6CC'}, {'y': 43965, 'color': '#F4D6CC'}, {'y': 44366, 'color': '#F4D6CC'}, {'y': 45734, 'color': '#F4D6CC'}, {'y': 48225, 'color': '#F4D6CC'}, {'y': 42556, 'color': '#F4D6CC'}, {'y': 32080, 'color': '#F4D6CC'}, {'y': 57954, 'color': '#F4D6CC'}, {'y': 36492, 'color': '#F4D6CC'}, {'y': 39974, 'color': '#F4D6CC'}, {'y': 22762, 'color': '#F4D6CC'}, {'y': 55867, 'color': '#F4D6CC'}, {'y': 47779, 'color': '#F4D6CC'}, {'y': 64112, 'color': '#F4D6CC'}, {'y': 63353, 'color': '#F4D6CC'}, {'y': 50709, 'color': '#F4D6CC'}, {'y': 43959, 'color': '#F4D6CC'}, {'y': 57458, 'color': '#F4D6CC'}, {'y': 61528, 'color': '#F4D6CC'}, {'y': 48716, 'color': '#F4D6CC'}, {'y': 31828, 'color': '#F4D6CC'}, {'y': 46232, 'color': '#F4D6CC'}, {'y': 40989, 'color': '#F4D6CC'}, {'y': 39817, 'color': '#F4D6CC'}, {'y': 50242, 'color': '#F4D6CC'}, {'y': 47244, 'color': '#F4D6CC'}, {'y': 62528, 'color': '#F4D6CC'}, {'y': 57136, 'color': '#F4D6CC'}, {'y': 54895, 'color': '#F4D6CC'}, {'y': 54674, 'color': '#F4D6CC'}, {'y': 53063, 'color': '#F4D6CC'}, {'y': 55841, 'color': '#F4D6CC'}, {'y': 5415, 'color': '#F4D6CC'}, {'y': 51515, 'color': '#F4D6CC'}, {'y': 50097, 'color': '#F4D6CC'}, {'y': 46508, 'color': '#F4D6CC'}, {'y': 35208, 'color': '#F4D6CC'}, {'y': 26725, 'color': '#F4D6CC'}, {'y': 57282, 'color': '#F4D6CC'}, {'y': 54369, 'color': '#F4D6CC'}, {'y': 45382, 'color': '#F4D6CC'}, {'y': 44675, 'color': '#F4D6CC'}, {'y': 49025, 'color': '#F4D6CC'}, {'y': 46020, 'color': '#F4D6CC'}, {'y': 45159, 'color': '#F4D6CC'}, {'y': 52340, 'color': '#F4D6CC'}, {'y': 50125, 'color': '#F4D6CC'}, {'y': 20627, 'color': '#F4D6CC'}, {'y': 26548, 'color': '#F4D6CC'}, {'y': 41523, 'color': '#F4D6CC'}, {'y': 52096, 'color': '#F4D6CC'}, {'y': 37249, 'color': '#F4D6CC'}, {'y': 52541, 'color': '#F4D6CC'}, {'y': 33119, 'color': '#F4D6CC'}, {'y': 62276, 'color': '#F4D6CC'}, {'y': 46734, 'color': '#F4D6CC'}, {'y': 51345, 'color': '#F4D6CC'}, {'y': 56202, 'color': '#F4D6CC'}, {'y': 28075, 'color': '#F4D6CC'}, {'y': 31330, 'color': '#F4D6CC'}, {'y': 51289, 'color': '#F4D6CC'}, {'y': 48159, 'color': '#F4D6CC'}, {'y': 56903, 'color': '#F4D6CC'}, {'y': 46891, 'color': '#F4D6CC'}, {'y': 34892, 'color': '#F4D6CC'}, {'y': 35481, 'color': '#F4D6CC'}, {'y': 53395, 'color': '#F4D6CC'}, {'y': 39419, 'color': '#F4D6CC'}, {'y': 38752, 'color': '#F4D6CC'}, {'y': 52585, 'color': '#F4D6CC'}, {'y': 57566, 'color': '#F4D6CC'}, {'y': 41901, 'color': '#F4D6CC'}, {'y': 46334, 'color': '#F4D6CC'}, {'y': 54343, 'color': '#F4D6CC'}, {'y': 46910, 'color': '#F4D6CC'}, {'y': 64495, 'color': '#F4D6CC'}, {'y': 45416, 'color': '#F4D6CC'}, {'y': 60723, 'color': '#F4D6CC'}, {'y': 49132, 'color': '#F4D6CC'}, {'y': 55264, 'color': '#F4D6CC'}, {'y': 56988, 'color': '#F4D6CC'}, {'y': 43094, 'color': '#F4D6CC'}, {'y': 51655, 'color': '#F4D6CC'}, {'y': 51298, 'color': '#F4D6CC'}, {'y': 59976, 'color': '#F4D6CC'}, {'y': 58379, 'color': '#F4D6CC'}, {'y': 62723, 'color': '#F4D6CC'}, {'y': 38480, 'color': '#F4D6CC'}, {'y': 66757, 'color': '#F4D6CC'}, {'y': 56493, 'color': '#F4D6CC'}, {'y': 49549, 'color': '#F4D6CC'}, {'y': 57117, 'color': '#F4D6CC'}, {'y': 50224, 'color': '#F4D6CC'}, {'y': 56427, 'color': '#F4D6CC'}, {'y': 57781, 'color': '#F4D6CC'}, {'y': 16537, 'color': '#F4D6CC'}, {'y': 59126, 'color': '#F4D6CC'}, {'y': 22318, 'color': '#F4D6CC'}, {'y': 48674, 'color': '#F4D6CC'}, {'y': 43489, 'color': '#F4D6CC'}, {'y': 47659, 'color': '#F4D6CC'}, {'y': 50009, 'color': '#F4D6CC'}], 'name': 'total calories per elf', 'showInLegend': False}], 'chart': {'type': 'column', 'zoomType': 'x'}, 'title': {'text': 'Total disposable calories per elf'}, 'xAxis': {'categories': ['Elf 1', 'Elf 2', 'Elf 3', 'Elf 4', 'Elf 5', 'Elf 6', 'Elf 7', 'Elf 8', 'Elf 9', 'Elf 10', 'Elf 11', 'Elf 12', 'Elf 13', 'Elf 14', 'Elf 15', 'Elf 16', 'Elf 17', 'Elf 18', 'Elf 19', 'Elf 20', 'Elf 21', 'Elf 22', 'Elf 23', 'Elf 24', 'Elf 25', 'Elf 26', 'Elf 27', 'Elf 28', 'Elf 29', 'Elf 30', 'Elf 31', 'Elf 32', 'Elf 33', 'Elf 34', 'Elf 35', 'Elf 36', 'Elf 37', 'Elf 38', 'Elf 39', 'Elf 40', 'Elf 41', 'Elf 42', 'Elf 43', 'Elf 44', 'Elf 45', 'Elf 46', 'Elf 47', 'Elf 48', 'Elf 49', 'Elf 50', 'Elf 51', 'Elf 52', 'Elf 53', 'Elf 54', 'Elf 55', 'Elf 56', 'Elf 57', 'Elf 58', 'Elf 59', 'Elf 60', 'Elf 61', 'Elf 62', 'Elf 63', 'Elf 64', 'Elf 65', 'Elf 66', 'Elf 67', 'Elf 68', 'Elf 69', 'Elf 70', 'Elf 71', 'Elf 72', 'Elf 73', 'Elf 74', 'Elf 75', 'Elf 76', 'Elf 77', 'Elf 78', 'Elf 79', 'Elf 80', 'Elf 81', 'Elf 82', 'Elf 83', 'Elf 84', 'Elf 85', 'Elf 86', 'Elf 87', 'Elf 88', 'Elf 89', 'Elf 90', 'Elf 91', 'Elf 92', 'Elf 93', 'Elf 94', 'Elf 95', 'Elf 96', 'Elf 97', 'Elf 98', 'Elf 99', 'Elf 100', 'Elf 101', 'Elf 102', 'Elf 103', 'Elf 104', 'Elf 105', 'Elf 106', 'Elf 107', 'Elf 108', 'Elf 109', 'Elf 110', 'Elf 111', 'Elf 112', 'Elf 113', 'Elf 114', 'Elf 115', 'Elf 116', 'Elf 117', 'Elf 118', 'Elf 119', 'Elf 120', 'Elf 121', 'Elf 122', 'Elf 123', 'Elf 124', 'Elf 125', 'Elf 126', 'Elf 127', 'Elf 128', 'Elf 129', 'Elf 130', 'Elf 131', 'Elf 132', 'Elf 133', 'Elf 134', 'Elf 135', 'Elf 136', 'Elf 137', 'Elf 138', 'Elf 139', 'Elf 140', 'Elf 141', 'Elf 142', 'Elf 143', 'Elf 144', 'Elf 145', 'Elf 146', 'Elf 147', 'Elf 148', 'Elf 149', 'Elf 150', 'Elf 151', 'Elf 152', 'Elf 153', 'Elf 154', 'Elf 155', 'Elf 156', 'Elf 157', 'Elf 158', 'Elf 159', 'Elf 160', 'Elf 161', 'Elf 162', 'Elf 163', 'Elf 164', 'Elf 165', 'Elf 166', 'Elf 167', 'Elf 168', 'Elf 169', 'Elf 170', 'Elf 171', 'Elf 172', 'Elf 173', 'Elf 174', 'Elf 175', 'Elf 176', 'Elf 177', 'Elf 178', 'Elf 179', 'Elf 180', 'Elf 181', 'Elf 182', 'Elf 183', 'Elf 184', 'Elf 185', 'Elf 186', 'Elf 187', 'Elf 188', 'Elf 189', 'Elf 190', 'Elf 191', 'Elf 192', 'Elf 193', 'Elf 194', 'Elf 195', 'Elf 196', 'Elf 197', 'Elf 198', 'Elf 199', 'Elf 200', 'Elf 201', 'Elf 202', 'Elf 203', 'Elf 204', 'Elf 205', 'Elf 206', 'Elf 207', 'Elf 208', 'Elf 209', 'Elf 210', 'Elf 211', 'Elf 212', 'Elf 213', 'Elf 214', 'Elf 215', 'Elf 216', 'Elf 217', 'Elf 218', 'Elf 219', 'Elf 220', 'Elf 221', 'Elf 222', 'Elf 223', 'Elf 224', 'Elf 225', 'Elf 226', 'Elf 227', 'Elf 228', 'Elf 229', 'Elf 230', 'Elf 231', 'Elf 232', 'Elf 233', 'Elf 234', 'Elf 235', 'Elf 236', 'Elf 237', 'Elf 238', 'Elf 239', 'Elf 240', 'Elf 241', 'Elf 242', 'Elf 243', 'Elf 244', 'Elf 245', 'Elf 246', 'Elf 247', 'Elf 248', 'Elf 249', 'Elf 250'], 'visible': False}, 'tooltip': {'valueSuffix': ' calories'}})"
      ]
     },
     "execution_count": 4,
     "metadata": {},
     "output_type": "execute_result"
    }
   ],
   "source": [
    "import easychart\n",
    "\n",
    "calories = [sum(chunk) for chunk in data]\n",
    "\n",
    "chart = easychart.new(\"column\")\n",
    "chart.title = \"Total disposable calories per elf\"\n",
    "chart.categories = [f\"Elf {i+1}\" for i in range(len(data))]\n",
    "\n",
    "chart.plot(\n",
    "    [\n",
    "        {\n",
    "            \"y\":c,\n",
    "            \"color\":\"#C83E4D\" if c == max(calories) else \"#F4D6CC\"\n",
    "        }\n",
    "        for c in calories\n",
    "    ], \n",
    "    name=\"total calories per elf\", \n",
    "    legend=False,\n",
    ")\n",
    "\n",
    "chart.tooltip = \"{value} calories\"\n",
    "chart.xAxis.visible = False\n",
    "chart"
   ]
  },
  {
   "cell_type": "code",
   "execution_count": null,
   "id": "dbe9e1dc",
   "metadata": {},
   "outputs": [],
   "source": []
  }
 ],
 "metadata": {
  "kernelspec": {
   "display_name": "Python 3 (ipykernel)",
   "language": "python",
   "name": "python3"
  },
  "language_info": {
   "codemirror_mode": {
    "name": "ipython",
    "version": 3
   },
   "file_extension": ".py",
   "mimetype": "text/x-python",
   "name": "python",
   "nbconvert_exporter": "python",
   "pygments_lexer": "ipython3",
   "version": "3.9.1"
  }
 },
 "nbformat": 4,
 "nbformat_minor": 5
}
