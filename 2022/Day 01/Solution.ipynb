{
 "cells": [
  {
   "cell_type": "code",
   "execution_count": 1,
   "id": "3f0bf173",
   "metadata": {
    "ExecuteTime": {
     "end_time": "2022-12-01T19:05:58.257470Z",
     "start_time": "2022-12-01T19:05:58.254340Z"
    }
   },
   "outputs": [],
   "source": [
    "with open(\"./input.txt\", \"r\") as file: \n",
    "    data = [\n",
    "        [int(x) for x in chunk.split(\"\\n\") ]\n",
    "        for chunk \n",
    "        in file.read().strip().split(\"\\n\\n\")\n",
    "    ]"
   ]
  },
  {
   "cell_type": "markdown",
   "id": "e5b02eac",
   "metadata": {},
   "source": [
    "# Part 1"
   ]
  },
  {
   "cell_type": "code",
   "execution_count": 2,
   "id": "ba175fbf",
   "metadata": {
    "ExecuteTime": {
     "end_time": "2022-12-01T19:05:58.260931Z",
     "start_time": "2022-12-01T19:05:58.258483Z"
    }
   },
   "outputs": [
    {
     "name": "stdout",
     "output_type": "stream",
     "text": [
      "The elf with the most calories had 69693 calories\n"
     ]
    }
   ],
   "source": [
    "print(\n",
    "    \"The elf with the most calories had {} calories\".format(\n",
    "        max(sum(chunk) for chunk in data)\n",
    "    )\n",
    ")"
   ]
  },
  {
   "cell_type": "markdown",
   "id": "960648bb",
   "metadata": {},
   "source": [
    "# Part 2"
   ]
  },
  {
   "cell_type": "code",
   "execution_count": 3,
   "id": "d7a945c9",
   "metadata": {
    "ExecuteTime": {
     "end_time": "2022-12-01T19:05:58.264626Z",
     "start_time": "2022-12-01T19:05:58.262429Z"
    }
   },
   "outputs": [
    {
     "name": "stdout",
     "output_type": "stream",
     "text": [
      "The 3 elves with the most calories had a total of 200945 calories\n"
     ]
    }
   ],
   "source": [
    "print(\n",
    "    \"The 3 elves with the most calories had a total of {} calories\".format(\n",
    "        sum(sorted(sum(chunk) for chunk in data)[-3:])\n",
    "    )\n",
    ")"
   ]
  }
 ],
 "metadata": {
  "kernelspec": {
   "display_name": "Python 3 (ipykernel)",
   "language": "python",
   "name": "python3"
  },
  "language_info": {
   "codemirror_mode": {
    "name": "ipython",
    "version": 3
   },
   "file_extension": ".py",
   "mimetype": "text/x-python",
   "name": "python",
   "nbconvert_exporter": "python",
   "pygments_lexer": "ipython3",
   "version": "3.9.1"
  }
 },
 "nbformat": 4,
 "nbformat_minor": 5
}
