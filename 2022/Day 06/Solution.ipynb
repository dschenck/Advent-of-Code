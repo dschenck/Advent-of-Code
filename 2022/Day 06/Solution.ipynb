{
 "cells": [
  {
   "cell_type": "code",
   "execution_count": 1,
   "id": "a0192025",
   "metadata": {
    "ExecuteTime": {
     "end_time": "2022-12-06T21:32:02.714885Z",
     "start_time": "2022-12-06T21:32:02.712352Z"
    }
   },
   "outputs": [],
   "source": [
    "with open(\"./input.txt\", \"r\") as file:\n",
    "    data = file.read().strip()"
   ]
  },
  {
   "cell_type": "markdown",
   "id": "036ae6ae",
   "metadata": {},
   "source": [
    "# Part 1"
   ]
  },
  {
   "cell_type": "code",
   "execution_count": 2,
   "id": "1b84c197",
   "metadata": {
    "ExecuteTime": {
     "end_time": "2022-12-06T21:32:02.723093Z",
     "start_time": "2022-12-06T21:32:02.716117Z"
    }
   },
   "outputs": [
    {
     "data": {
      "text/plain": [
       "(1300, 'dbpw')"
      ]
     },
     "execution_count": 2,
     "metadata": {},
     "output_type": "execute_result"
    }
   ],
   "source": [
    "def solve(data, size):\n",
    "    for i in range(size, len(data)):\n",
    "        if len(set(data[i - size : i])) == size:\n",
    "            return i, data[i - size : i]\n",
    "    raise Exception(\"No start-of-message marker found\")\n",
    "\n",
    "\n",
    "solve(data, 4)"
   ]
  },
  {
   "cell_type": "markdown",
   "id": "eb3fcb9e",
   "metadata": {},
   "source": [
    "# Part 2"
   ]
  },
  {
   "cell_type": "code",
   "execution_count": 3,
   "id": "1d48a6ff",
   "metadata": {
    "ExecuteTime": {
     "end_time": "2022-12-06T21:32:02.729474Z",
     "start_time": "2022-12-06T21:32:02.724701Z"
    }
   },
   "outputs": [
    {
     "data": {
      "text/plain": [
       "(3986, 'lcfjqpdwznsbrh')"
      ]
     },
     "execution_count": 3,
     "metadata": {},
     "output_type": "execute_result"
    }
   ],
   "source": [
    "solve(data, 14)"
   ]
  }
 ],
 "metadata": {
  "kernelspec": {
   "display_name": "Python 3 (ipykernel)",
   "language": "python",
   "name": "python3"
  },
  "language_info": {
   "codemirror_mode": {
    "name": "ipython",
    "version": 3
   },
   "file_extension": ".py",
   "mimetype": "text/x-python",
   "name": "python",
   "nbconvert_exporter": "python",
   "pygments_lexer": "ipython3",
   "version": "3.9.1"
  }
 },
 "nbformat": 4,
 "nbformat_minor": 5
}
