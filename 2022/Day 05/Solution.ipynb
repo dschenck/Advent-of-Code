{
 "cells": [
  {
   "cell_type": "code",
   "execution_count": 1,
   "id": "7c77dc12",
   "metadata": {
    "ExecuteTime": {
     "end_time": "2022-12-05T08:55:20.776845Z",
     "start_time": "2022-12-05T08:55:20.774484Z"
    }
   },
   "outputs": [],
   "source": [
    "with open(\"./input.txt\", \"r\") as file: \n",
    "    data = file.read().strip()"
   ]
  },
  {
   "cell_type": "markdown",
   "id": "6f1c9db5",
   "metadata": {},
   "source": [
    "# Part 1"
   ]
  },
  {
   "cell_type": "code",
   "execution_count": 2,
   "id": "8d26d0b9",
   "metadata": {
    "ExecuteTime": {
     "end_time": "2022-12-05T08:55:20.791047Z",
     "start_time": "2022-12-05T08:55:20.778886Z"
    }
   },
   "outputs": [
    {
     "data": {
      "text/plain": [
       "'GFTNRBZPF'"
      ]
     },
     "execution_count": 2,
     "metadata": {},
     "output_type": "execute_result"
    }
   ],
   "source": [
    "import re\n",
    "\n",
    "def parse(data):\n",
    "    \"\"\"\n",
    "    Parses the input file and returns the header\n",
    "    as 9 lists of letters and the instructions in\n",
    "    the body as a list of 3 integers (e.g. [2, 3, 6])\n",
    "    \n",
    "    Example\n",
    "    ----------------------------------------\n",
    "    H |     [J]             [F] [M]            \n",
    "    E | [Z] [F]     [G] [Q] [F]            \n",
    "    A | [G] [P]     [H] [Z] [S] [Q]        \n",
    "    D | [V] [W] [Z] [P] [D] [G] [P]        \n",
    "    E | [T] [D] [S] [Z] [N] [W] [B] [N]    \n",
    "    R | [D] [M] [R] [J] [J] [P] [V] [P] [J]\n",
    "    | | [B] [R] [C] [T] [C] [V] [C] [B] [P]\n",
    "    | | [N] [S] [V] [R] [T] [N] [G] [Z] [W]\n",
    "    | |  1   2   3   4   5   6   7   8   9 \n",
    "\n",
    "    B | move 2 from 4 to 6\n",
    "    O | move 1 from 9 to 5\n",
    "    D | move 2 from 4 to 6\n",
    "    Y | move 1 from 9 to 5\n",
    "    | | move 3 from 2 to 4\n",
    "    | | move 8 from 4 to 7\n",
    "    \"\"\"\n",
    "    #split the top section from the bottom section\n",
    "    header, body = data.split(\"\\n\\n\")\n",
    "    \n",
    "    #parse the header\n",
    "    columns = [[] for _ in range(9)]\n",
    "    \n",
    "    for row in header.split(\"\\n\")[:-1]: \n",
    "        for i, token in enumerate(row): \n",
    "            if i % 4 == 1 and token != \" \": \n",
    "                columns[i // 4].append(token)\n",
    "                \n",
    "    # reverse columns\n",
    "    columns = [[c for c in column[::-1]] for column in columns]\n",
    "    \n",
    "    # parse the instructions\n",
    "    instructions = []\n",
    "    for line in body.split(\"\\n\"):\n",
    "        regex = re.search(\"move (\\d{1,2}) from (\\d{1,2}) to (\\d{1,2})\", line)\n",
    "        instructions.append([int(x) for x in regex.groups()])\n",
    "        \n",
    "    return columns, instructions\n",
    "        \n",
    "def restack_by_CrateMover9000(stacks, instructions): \n",
    "    # make a copy to ensure we are not changing \n",
    "    # the original stacks\n",
    "    stacks = [[*stack] for stack in stacks]\n",
    "    \n",
    "    for quantity, origin, target in instructions: \n",
    "        for _ in range(quantity):\n",
    "            stacks[target - 1].append(stacks[origin - 1].pop(-1))\n",
    "    \n",
    "    return stacks\n",
    "\n",
    "def solve(data):\n",
    "    stacks, instructions = parse(data)\n",
    "    \n",
    "    newstacks = restack_by_CrateMover9000(stacks, instructions)\n",
    "    \n",
    "    return \"\".join(stack[-1] for stack in newstacks)\n",
    "\n",
    "solve(data)"
   ]
  },
  {
   "cell_type": "markdown",
   "id": "c956208b",
   "metadata": {
    "ExecuteTime": {
     "end_time": "2022-12-05T08:45:58.330327Z",
     "start_time": "2022-12-05T08:45:58.323828Z"
    }
   },
   "source": [
    "# Part 2"
   ]
  },
  {
   "cell_type": "code",
   "execution_count": 3,
   "id": "b38d9dde",
   "metadata": {
    "ExecuteTime": {
     "end_time": "2022-12-05T08:55:20.798545Z",
     "start_time": "2022-12-05T08:55:20.792773Z"
    }
   },
   "outputs": [
    {
     "data": {
      "text/plain": [
       "'VRQWPDSGP'"
      ]
     },
     "execution_count": 3,
     "metadata": {},
     "output_type": "execute_result"
    }
   ],
   "source": [
    "def restack_by_CrateMover9001(stacks, instructions): \n",
    "    # make a copy to ensure we are not changing \n",
    "    # the original stacks\n",
    "    stacks = [[*stack] for stack in stacks]\n",
    "    \n",
    "    for quantity, origin, target in instructions:\n",
    "        # slice and remove the x crates from the origin\n",
    "        substack = stacks[origin - 1][-quantity:]\n",
    "        stacks[origin - 1] = stacks[origin - 1][:-quantity]\n",
    "        \n",
    "        # add them back to the target\n",
    "        stacks[target - 1].extend(substack)\n",
    "        \n",
    "    return stacks\n",
    "\n",
    "def solve(data):\n",
    "    stacks, instructions = parse(data)\n",
    "    \n",
    "    newstacks = restack_by_CrateMover9001(stacks, instructions)\n",
    "    \n",
    "    return \"\".join(stack[-1] for stack in newstacks)\n",
    "\n",
    "solve(data)"
   ]
  }
 ],
 "metadata": {
  "kernelspec": {
   "display_name": "Python 3 (ipykernel)",
   "language": "python",
   "name": "python3"
  },
  "language_info": {
   "codemirror_mode": {
    "name": "ipython",
    "version": 3
   },
   "file_extension": ".py",
   "mimetype": "text/x-python",
   "name": "python",
   "nbconvert_exporter": "python",
   "pygments_lexer": "ipython3",
   "version": "3.9.1"
  }
 },
 "nbformat": 4,
 "nbformat_minor": 5
}
