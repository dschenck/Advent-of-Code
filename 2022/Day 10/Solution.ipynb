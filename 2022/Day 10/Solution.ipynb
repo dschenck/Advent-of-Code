{
 "cells": [
  {
   "cell_type": "code",
   "execution_count": 1,
   "id": "02ef8ba8",
   "metadata": {
    "ExecuteTime": {
     "end_time": "2022-12-10T11:29:41.128905Z",
     "start_time": "2022-12-10T11:29:41.125454Z"
    }
   },
   "outputs": [],
   "source": [
    "def parse(instruction):\n",
    "    if instruction == \"noop\":\n",
    "        return {\"type\":\"noop\"}\n",
    "    return {\"type\":\"addx\", \"value\":int(instruction.split(\" \")[-1])}\n",
    "\n",
    "with open(\"./input.txt\", \"r\") as file:  \n",
    "    data = [parse(line) for line in file.read().strip().split(\"\\n\")]"
   ]
  },
  {
   "cell_type": "markdown",
   "id": "5127d782",
   "metadata": {},
   "source": [
    "# Part 1"
   ]
  },
  {
   "cell_type": "code",
   "execution_count": 2,
   "id": "fa05f30d",
   "metadata": {
    "ExecuteTime": {
     "end_time": "2022-12-10T11:29:41.139512Z",
     "start_time": "2022-12-10T11:29:41.130156Z"
    }
   },
   "outputs": [
    {
     "data": {
      "text/plain": [
       "13720"
      ]
     },
     "execution_count": 2,
     "metadata": {},
     "output_type": "execute_result"
    }
   ],
   "source": [
    "class CPU: \n",
    "    def __init__(self, register=1, listeners=None):\n",
    "        self.register  = register\n",
    "        self.clock     = 0\n",
    "        self.listeners = listeners or [] \n",
    "        \n",
    "    def tick(self):\n",
    "        self.clock += 1\n",
    "        \n",
    "        for listener in self.listeners: \n",
    "            listener(self)\n",
    "        \n",
    "    def handle(self, instruction):\n",
    "        if instruction[\"type\"] == \"noop\":\n",
    "            self.tick()\n",
    "            \n",
    "        if instruction[\"type\"] == \"addx\": \n",
    "            self.tick()\n",
    "            self.tick()\n",
    "            self.register += instruction[\"value\"]\n",
    "            \n",
    "    def run(self, instructions):\n",
    "        for instruction in instructions: \n",
    "            self.handle(instruction)\n",
    "        \n",
    "def run(data): \n",
    "    history = []\n",
    "    \n",
    "    # on each tick, record the value of the register\n",
    "    # and the clock\n",
    "    machine = CPU(\n",
    "        listeners = [\n",
    "            lambda cpu: history.append({\n",
    "                \"register\":cpu.register, \n",
    "                \"clock\":cpu.clock,\n",
    "                \"signal\":cpu.register * cpu.clock\n",
    "            })\n",
    "        ]\n",
    "    )\n",
    "    \n",
    "    # process all the instructions\n",
    "    machine.run(data)\n",
    "        \n",
    "    # snapshots \n",
    "    timestamps = [20, 60, 100, 140, 180, 220]\n",
    "    \n",
    "    return sum([\n",
    "        x[\"signal\"] for x in history if x[\"clock\"] in timestamps]\n",
    "    )\n",
    "    \n",
    "\n",
    "    \n",
    "run(data)  "
   ]
  },
  {
   "cell_type": "markdown",
   "id": "91bb2330",
   "metadata": {},
   "source": [
    "# Part 2"
   ]
  },
  {
   "cell_type": "code",
   "execution_count": 3,
   "id": "b2b9c1af",
   "metadata": {
    "ExecuteTime": {
     "end_time": "2022-12-10T11:29:41.146926Z",
     "start_time": "2022-12-10T11:29:41.141410Z"
    }
   },
   "outputs": [
    {
     "name": "stdout",
     "output_type": "stream",
     "text": [
      "####.###..#..#.###..#..#.####..##..#..#.\n",
      "#....#..#.#..#.#..#.#..#....#.#..#.#..#.\n",
      "###..###..#..#.#..#.####...#..#....####.\n",
      "#....#..#.#..#.###..#..#..#...#....#..#.\n",
      "#....#..#.#..#.#.#..#..#.#....#..#.#..#.\n",
      "#....###...##..#..#.#..#.####..##..#..#.\n"
     ]
    }
   ],
   "source": [
    "class CRT: \n",
    "    def __init__(self):\n",
    "        self.screen     = []\n",
    "        self.position   = 0\n",
    "        self.cpu = CPU(1, [\n",
    "            lambda cpu: self.draw(), \n",
    "            lambda cpu: self.move()\n",
    "        ])\n",
    "        \n",
    "    @property\n",
    "    def sprite(self):\n",
    "        \"\"\"\n",
    "        Returns the position of the 3-pixel wide sprite\n",
    "        \"\"\"\n",
    "        return (self.cpu.register - 1, self.cpu.register, self.cpu.register + 1)\n",
    "        \n",
    "    def draw(self):\n",
    "        if self.position in self.sprite: \n",
    "            self.screen.append(\"#\")\n",
    "        else: \n",
    "            self.screen.append(\".\")\n",
    "    \n",
    "    def move(self):\n",
    "        self.position = (self.position + 1) % 40\n",
    "        \n",
    "    def display(self): \n",
    "        def chunk(iterable, width): \n",
    "            for i in range(0, len(self.screen), width):\n",
    "                yield self.screen[i:i+width]\n",
    "        \n",
    "        return \"\\n\".join([\"\".join(line) for line in (chunk(self.screen, 40))])\n",
    "        \n",
    "crt = CRT()\n",
    "crt.cpu.run(data)\n",
    "print(crt.display())"
   ]
  }
 ],
 "metadata": {
  "kernelspec": {
   "display_name": "Python 3 (ipykernel)",
   "language": "python",
   "name": "python3"
  },
  "language_info": {
   "codemirror_mode": {
    "name": "ipython",
    "version": 3
   },
   "file_extension": ".py",
   "mimetype": "text/x-python",
   "name": "python",
   "nbconvert_exporter": "python",
   "pygments_lexer": "ipython3",
   "version": "3.9.1"
  }
 },
 "nbformat": 4,
 "nbformat_minor": 5
}
