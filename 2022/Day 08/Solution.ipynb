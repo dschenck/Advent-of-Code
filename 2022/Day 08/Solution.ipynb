{
 "cells": [
  {
   "cell_type": "code",
   "execution_count": 1,
   "id": "00f2f46a",
   "metadata": {
    "ExecuteTime": {
     "end_time": "2022-12-08T10:07:38.864704Z",
     "start_time": "2022-12-08T10:07:38.861054Z"
    }
   },
   "outputs": [],
   "source": [
    "with open(\"./input.txt\", \"r\") as file: \n",
    "    data = [\n",
    "        [int(x) for x in row] for row \n",
    "        in file.read().strip().split(\"\\n\")\n",
    "    ]"
   ]
  },
  {
   "cell_type": "markdown",
   "id": "940c1622",
   "metadata": {},
   "source": [
    "# Part 1"
   ]
  },
  {
   "cell_type": "code",
   "execution_count": 2,
   "id": "baf055b2",
   "metadata": {
    "ExecuteTime": {
     "end_time": "2022-12-08T10:07:38.901651Z",
     "start_time": "2022-12-08T10:07:38.865603Z"
    }
   },
   "outputs": [
    {
     "data": {
      "text/plain": [
       "1803"
      ]
     },
     "execution_count": 2,
     "metadata": {},
     "output_type": "execute_result"
    }
   ],
   "source": [
    "import pandas as pd \n",
    "import functools \n",
    "\n",
    "def solve(data): \n",
    "    data = pd.DataFrame(data) \n",
    "    \n",
    "    # cumulative maximum heights in each directions\n",
    "    # right (r), left (l), top (t) and bottom (b)\n",
    "    # \n",
    "    # we shift by 1 in each direction + fill the first item with -1\n",
    "    # because the outer-most tree is always visible from the outside\n",
    "    cumheights = {\n",
    "        \"l\": data.shift(1, axis=1).fillna(-1).cummax(axis=1), \n",
    "        \"r\": data.iloc[:,::-1].cummax(axis=1).shift(1, axis=1).fillna(-1).iloc[:,::-1],\n",
    "        \"t\": data.shift(1,axis=0).fillna(-1).cummax(axis=0),\n",
    "        \"b\": data.iloc[::-1].shift(1,axis=0).fillna(-1).cummax(axis=0).iloc[::-1]\n",
    "    }\n",
    "    \n",
    "    # return map of points which higher (gt, strict) than the cumulative\n",
    "    # heights in each direction\n",
    "    mapping = functools.reduce(\n",
    "        lambda acc, cumheight: acc | data.gt(cumheight), \n",
    "        cumheights.values(), \n",
    "        data.applymap(lambda x: False)\n",
    "    ) \n",
    "    \n",
    "    return mapping.sum().sum()\n",
    "    \n",
    "solve(data)"
   ]
  },
  {
   "cell_type": "markdown",
   "id": "f06db348",
   "metadata": {},
   "source": [
    "# Part 2"
   ]
  },
  {
   "cell_type": "code",
   "execution_count": 3,
   "id": "d823cad8",
   "metadata": {
    "ExecuteTime": {
     "end_time": "2022-12-08T10:07:38.944470Z",
     "start_time": "2022-12-08T10:07:38.903558Z"
    }
   },
   "outputs": [
    {
     "data": {
      "text/plain": [
       "268912"
      ]
     },
     "execution_count": 3,
     "metadata": {},
     "output_type": "execute_result"
    }
   ],
   "source": [
    "def solve(data):\n",
    "    # number of rows, number of columns\n",
    "    rows, columns = (len(data), len(data[1]))\n",
    "\n",
    "    # array\n",
    "    scores = [[0 for _ in range(columns)] for _ in range(rows)]\n",
    "\n",
    "    for r in range(rows):\n",
    "        for c in range(columns):\n",
    "            distances = {}\n",
    "\n",
    "            # count number of trees to the left that\n",
    "            # are lower than the current tree\n",
    "            for x in range(c - 1, -1, -1):\n",
    "                if data[r][x] >= data[r][c]:\n",
    "                    distances.update({\"left\": c - x})\n",
    "                    break\n",
    "            else:\n",
    "                distances.update({\"left\": c})\n",
    "\n",
    "            # compute number of trees to the right\n",
    "            for x in range(c + 1, columns):\n",
    "                if data[r][x] >= data[r][c]:\n",
    "                    distances.update({\"right\": x - c})\n",
    "                    break\n",
    "            else:\n",
    "                distances.update({\"right\": columns - c - 1})\n",
    "\n",
    "            # compute number of tree above\n",
    "            for y in range(r - 1, -1, -1):\n",
    "                if data[y][c] >= data[r][c]:\n",
    "                    distances.update({\"above\": r - y})\n",
    "                    break\n",
    "            else:\n",
    "                distances.update({\"above\": r})\n",
    "\n",
    "            # compute number of trees below\n",
    "            for y in range(r + 1, rows):\n",
    "                if data[y][c] >= data[r][c]:\n",
    "                    distances.update({\"below\": y - r})\n",
    "                    break\n",
    "            else:\n",
    "                distances.update({\"below\": rows - r - 1})\n",
    "\n",
    "            scores[r][c] = functools.reduce(\n",
    "                lambda acc, curr: acc * curr, \n",
    "                distances.values(), \n",
    "                1\n",
    "            )\n",
    "    \n",
    "    # return the highest scenic score\n",
    "    maximum = pd.DataFrame(scores).max().max()\n",
    "\n",
    "    return maximum\n",
    "\n",
    "solve(data)"
   ]
  }
 ],
 "metadata": {
  "kernelspec": {
   "display_name": "Python 3 (ipykernel)",
   "language": "python",
   "name": "python3"
  },
  "language_info": {
   "codemirror_mode": {
    "name": "ipython",
    "version": 3
   },
   "file_extension": ".py",
   "mimetype": "text/x-python",
   "name": "python",
   "nbconvert_exporter": "python",
   "pygments_lexer": "ipython3",
   "version": "3.9.1"
  }
 },
 "nbformat": 4,
 "nbformat_minor": 5
}
