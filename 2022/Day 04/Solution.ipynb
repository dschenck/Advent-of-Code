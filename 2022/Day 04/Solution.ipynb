{
 "cells": [
  {
   "cell_type": "code",
   "execution_count": 1,
   "id": "47bdbb2d",
   "metadata": {
    "ExecuteTime": {
     "end_time": "2022-12-04T15:53:34.366557Z",
     "start_time": "2022-12-04T15:53:34.361955Z"
    }
   },
   "outputs": [],
   "source": [
    "with open(\"./input.txt\", \"r\") as file: \n",
    "    data = [\n",
    "        [\n",
    "            [int(x) for x in r.split(\"-\")]\n",
    "            for r in row.split(\",\")\n",
    "        ]\n",
    "        for row in file.read().strip().split(\"\\n\")\n",
    "    ]"
   ]
  },
  {
   "cell_type": "markdown",
   "id": "6c463835",
   "metadata": {},
   "source": [
    "# Part 1"
   ]
  },
  {
   "cell_type": "code",
   "execution_count": 2,
   "id": "b6c831c9",
   "metadata": {
    "ExecuteTime": {
     "end_time": "2022-12-04T15:53:34.376378Z",
     "start_time": "2022-12-04T15:53:34.367504Z"
    }
   },
   "outputs": [
    {
     "data": {
      "text/plain": [
       "462"
      ]
     },
     "execution_count": 2,
     "metadata": {},
     "output_type": "execute_result"
    }
   ],
   "source": [
    "def range_contains_other(this, that): \n",
    "    return this.start <= that.start and this.stop >= that.stop\n",
    "\n",
    "def solve(data): \n",
    "    count = 0\n",
    "    \n",
    "    for row in data:\n",
    "        this = range(row[0][0], row[0][1] + 1)\n",
    "        that = range(row[1][0], row[1][1] + 1)\n",
    "        \n",
    "        if range_contains_other(this, that): \n",
    "            count += 1\n",
    "        elif range_contains_other(that, this): \n",
    "            count += 1\n",
    "    \n",
    "    return count\n",
    "\n",
    "solve(data)"
   ]
  },
  {
   "cell_type": "markdown",
   "id": "c50ffbe4",
   "metadata": {},
   "source": [
    "# Part 2"
   ]
  },
  {
   "cell_type": "code",
   "execution_count": 3,
   "id": "6af9529a",
   "metadata": {
    "ExecuteTime": {
     "end_time": "2022-12-04T15:53:34.383662Z",
     "start_time": "2022-12-04T15:53:34.378388Z"
    }
   },
   "outputs": [
    {
     "data": {
      "text/plain": [
       "835"
      ]
     },
     "execution_count": 3,
     "metadata": {},
     "output_type": "execute_result"
    }
   ],
   "source": [
    "def ranges_overlap(this, that):\n",
    "    if this.start <= that.start <= this.stop:\n",
    "        return True\n",
    "    if this.start <= that.stop <= this.stop:\n",
    "        return True\n",
    "    return False\n",
    "\n",
    "def solve(data):\n",
    "    count = 0\n",
    "\n",
    "    for row in data:\n",
    "        this = range(row[0][0], row[0][1])\n",
    "        that = range(row[1][0], row[1][1])\n",
    "\n",
    "        if ranges_overlap(this, that):\n",
    "            count += 1\n",
    "        elif ranges_overlap(that, this):\n",
    "            count += 1\n",
    "\n",
    "    return count\n",
    "\n",
    "\n",
    "solve(data)"
   ]
  }
 ],
 "metadata": {
  "kernelspec": {
   "display_name": "Python 3 (ipykernel)",
   "language": "python",
   "name": "python3"
  },
  "language_info": {
   "codemirror_mode": {
    "name": "ipython",
    "version": 3
   },
   "file_extension": ".py",
   "mimetype": "text/x-python",
   "name": "python",
   "nbconvert_exporter": "python",
   "pygments_lexer": "ipython3",
   "version": "3.9.1"
  }
 },
 "nbformat": 4,
 "nbformat_minor": 5
}
