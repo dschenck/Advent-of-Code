{
 "cells": [
  {
   "cell_type": "code",
   "execution_count": 1,
   "id": "10393f41",
   "metadata": {
    "ExecuteTime": {
     "end_time": "2022-12-11T20:20:04.939775Z",
     "start_time": "2022-12-11T20:20:04.937327Z"
    }
   },
   "outputs": [],
   "source": [
    "with open(\"./input.txt\", \"r\") as file: \n",
    "    data = [\n",
    "        chunk.split(\"\\n\") for chunk \n",
    "        in file.read().strip().split(\"\\n\\n\")\n",
    "    ]"
   ]
  },
  {
   "cell_type": "markdown",
   "id": "5c8a6e10",
   "metadata": {},
   "source": [
    "# Part 1"
   ]
  },
  {
   "cell_type": "code",
   "execution_count": 2,
   "id": "a6172358",
   "metadata": {
    "ExecuteTime": {
     "end_time": "2022-12-11T20:20:04.977536Z",
     "start_time": "2022-12-11T20:20:04.940884Z"
    },
    "code_folding": []
   },
   "outputs": [
    {
     "name": "stderr",
     "output_type": "stream",
     "text": [
      "100%|████████████████████████████████████████| 20/20 [00:00<00:00, 10297.82it/s]\n"
     ]
    },
    {
     "data": {
      "text/plain": [
       "88208"
      ]
     },
     "execution_count": 2,
     "metadata": {},
     "output_type": "execute_result"
    }
   ],
   "source": [
    "import re\n",
    "import tqdm\n",
    "import functools\n",
    "\n",
    "class Monkey: \n",
    "    def __init__(self, name, items, operate, divisor, outcomes): \n",
    "        \"\"\"\n",
    "        Parameters\n",
    "        \n",
    "        items : list[int]\n",
    "            List of items\n",
    "        operate : func\n",
    "            Transforms the item: lambda item: item\n",
    "        test : func\n",
    "            Tests the item : lambda item: True\n",
    "        outcomes : dict\n",
    "            Mapping of outcomes: {True: xx, False: yy}\n",
    "        \"\"\"\n",
    "        self.name     = name\n",
    "        self.items    = items\n",
    "        self.operate  = operate\n",
    "        self.divisor  = divisor\n",
    "        self.outcomes = outcomes\n",
    "        self.count    = 0 \n",
    "    \n",
    "    def __repr__(self):\n",
    "        return f\"{self.name}: {','.join([str(i) for i in self.items])} ({self.count} inspections)\"\n",
    "    \n",
    "    def append(self, value):\n",
    "        self.items.append(value)\n",
    "    \n",
    "    def test(self, value):\n",
    "        return value % self.divisor == 0\n",
    "    \n",
    "    def play(self, peers):\n",
    "        while len(self.items) > 0: \n",
    "            item = self.operate(self.items.pop(0))\n",
    "            peers[self.outcomes[self.test(item)]].append(item)\n",
    "            self.count += 1\n",
    "            \n",
    "        return self\n",
    "    \n",
    "    @classmethod\n",
    "    def parse(cls, data, level=1): \n",
    "        name  = data[0][:-1]\n",
    "        items = [int(x) for x in data[1].split(\":\")[1].split(\",\")]\n",
    "        \n",
    "        match = re.search(\n",
    "            \"Operation: new = old (?P<operation>[\\*\\+]) (?P<operand>(\\d+|old))\", \n",
    "            data[2]\n",
    "        )\n",
    "        \n",
    "        operations = {\n",
    "            \"+\":lambda x, y: x + y,\n",
    "            \"*\":lambda x, y: x * y\n",
    "        }\n",
    "        \n",
    "        postoperate = {\n",
    "            1:lambda x: int(x / 3),\n",
    "            2:lambda x: x\n",
    "        }\n",
    "        \n",
    "        operate = lambda value: postoperate[level](\n",
    "            operations[match.group(\"operation\")](\n",
    "                value, \n",
    "                value if match.group(\"operand\") == \"old\" else int(match.group(\"operand\"))\n",
    "            )\n",
    "        )\n",
    "        \n",
    "        divisor = int(data[3].split(\" \")[-1])\n",
    "        \n",
    "        outcomes = {\n",
    "            True: f\"Monkey {data[4][-1]}\",\n",
    "            False: f\"Monkey {data[5][-1]}\"\n",
    "        }\n",
    "        \n",
    "        return cls(name, items, operate, divisor, outcomes)\n",
    "        \n",
    "            \n",
    "class Game: \n",
    "    def __init__(self, monkeys):\n",
    "        self.monkeys = {monkey.name:monkey for monkey in monkeys}\n",
    "        \n",
    "    def play(self, rounds=1): \n",
    "        for r in tqdm.tqdm(range(rounds)):\n",
    "            for monkey in self.monkeys.values():\n",
    "                monkey.play(self.monkeys)\n",
    "                \n",
    "        return self\n",
    "    \n",
    "    @classmethod\n",
    "    def parse(cls, data):\n",
    "        monkeys = []\n",
    "        for chunk in data: \n",
    "            monkeys.append(Monkey.parse(chunk, level=1))\n",
    "        return cls(monkeys)\n",
    "    \n",
    "    @property\n",
    "    def score(self):\n",
    "        return functools.reduce(\n",
    "            lambda acc, curr : acc * curr.count, \n",
    "            sorted(self.monkeys.values(), key=lambda m: m.count, reverse=True)[0:2],\n",
    "            1\n",
    "        )\n",
    "        \n",
    "game = Game.parse(data)\n",
    "game.play(rounds=20)\n",
    "game.score"
   ]
  },
  {
   "cell_type": "code",
   "execution_count": 3,
   "id": "419a7ccd",
   "metadata": {
    "ExecuteTime": {
     "end_time": "2022-12-11T20:20:04.987351Z",
     "start_time": "2022-12-11T20:20:04.980224Z"
    },
    "code_folding": []
   },
   "outputs": [],
   "source": [
    "class Divisible: \n",
    "    @classmethod\n",
    "    def create(cls, value, divisors):\n",
    "        return cls(\n",
    "            [value % divisor for divisor in divisors], \n",
    "            divisors\n",
    "        )\n",
    "    \n",
    "    def __init__(self, remainders, divisors): \n",
    "        self.remainders = remainders\n",
    "        self.divisors   = divisors\n",
    "    \n",
    "    def __add__(self, value):\n",
    "        remainders = [\n",
    "            (value + remainder) % divisor \n",
    "            for remainder, divisor \n",
    "            in zip(self.remainders, self.divisors)\n",
    "        ]\n",
    "        \n",
    "        return Divisible(remainders, self.divisors)\n",
    "        \n",
    "    def __mul__(self, value): \n",
    "        remainders = [\n",
    "            (value * remainder) % divisor\n",
    "            for remainder, divisor \n",
    "            in zip(self.remainders, self.divisors)\n",
    "        ]\n",
    "        \n",
    "        return Divisible(remainders, self.divisors)\n",
    "    \n",
    "    def __mod__(self, divisor): \n",
    "        if divisor not in self.divisors: \n",
    "            raise ValueError(f\"Divisor {divisor} not in number divisors\")\n",
    "        return self.remainders[self.divisors.index(divisor)]\n",
    "    \n",
    "    def __repr__(self):\n",
    "        representation = \", \".join(f\"{divisor}:{remainder}\" for remainder, divisor \n",
    "            in zip(self.remainders, self.divisors))\n",
    "        \n",
    "        return f\"<Divisible '{representation}'>\"\n",
    "    \n",
    "class Newgame(Game): \n",
    "    def __init__(self, monkeys): \n",
    "        divisors = [monkey.divisor for monkey in monkeys]\n",
    "        \n",
    "        for monkey in monkeys: \n",
    "            monkey.items = [Divisible.create(i, divisors) for i in monkey.items]\n",
    "        \n",
    "        super().__init__(monkeys)\n",
    "        \n",
    "    @classmethod\n",
    "    def parse(cls, data):\n",
    "        monkeys = []\n",
    "        for chunk in data: \n",
    "            monkeys.append(Monkey.parse(chunk, level=2))\n",
    "        return cls(monkeys)\n",
    "    \n",
    "    def __repr__(self):\n",
    "        return \"\\n\".join([str(monkey) for monkey in self.monkeys.values()])\n"
   ]
  },
  {
   "cell_type": "code",
   "execution_count": 4,
   "id": "f3d1d398",
   "metadata": {
    "ExecuteTime": {
     "end_time": "2022-12-11T20:20:08.214289Z",
     "start_time": "2022-12-11T20:20:04.988584Z"
    }
   },
   "outputs": [
    {
     "name": "stderr",
     "output_type": "stream",
     "text": [
      "100%|███████████████████████████████████| 10000/10000 [00:03<00:00, 3103.99it/s]\n"
     ]
    },
    {
     "data": {
      "text/plain": [
       "21115867968"
      ]
     },
     "execution_count": 4,
     "metadata": {},
     "output_type": "execute_result"
    }
   ],
   "source": [
    "game = Newgame.parse(data)\n",
    "game.play(10000)\n",
    "game.score"
   ]
  }
 ],
 "metadata": {
  "kernelspec": {
   "display_name": "Python 3 (ipykernel)",
   "language": "python",
   "name": "python3"
  },
  "language_info": {
   "codemirror_mode": {
    "name": "ipython",
    "version": 3
   },
   "file_extension": ".py",
   "mimetype": "text/x-python",
   "name": "python",
   "nbconvert_exporter": "python",
   "pygments_lexer": "ipython3",
   "version": "3.9.1"
  }
 },
 "nbformat": 4,
 "nbformat_minor": 5
}
