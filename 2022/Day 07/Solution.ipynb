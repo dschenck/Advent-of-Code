{
 "cells": [
  {
   "cell_type": "code",
   "execution_count": 1,
   "id": "39e23fa2",
   "metadata": {
    "ExecuteTime": {
     "end_time": "2022-12-07T16:19:14.789813Z",
     "start_time": "2022-12-07T16:19:14.786857Z"
    }
   },
   "outputs": [],
   "source": [
    "with open(\"./input.txt\", \"r\") as file: \n",
    "    data = file.read().strip().split(\"\\n\")"
   ]
  },
  {
   "cell_type": "markdown",
   "id": "ded8cef7",
   "metadata": {},
   "source": [
    "# Part 1"
   ]
  },
  {
   "cell_type": "code",
   "execution_count": 2,
   "id": "6021094f",
   "metadata": {
    "ExecuteTime": {
     "end_time": "2022-12-07T16:19:14.809897Z",
     "start_time": "2022-12-07T16:19:14.791192Z"
    }
   },
   "outputs": [
    {
     "data": {
      "text/plain": [
       "1723892"
      ]
     },
     "execution_count": 2,
     "metadata": {},
     "output_type": "execute_result"
    }
   ],
   "source": [
    "import re\n",
    "\n",
    "class FSItem: \n",
    "    \"\"\"\n",
    "    Filesystem item (folder, file)\n",
    "    \"\"\"\n",
    "    def __init__(self, parent, name): \n",
    "        self.parent = parent\n",
    "        self.name   = name\n",
    "        \n",
    "    @property\n",
    "    def path(self):\n",
    "        if self.parent is None: \n",
    "            return self.name\n",
    "        return f\"{self.parent.path}/{self.name}\"\n",
    "    \n",
    "    @property\n",
    "    def root(self):\n",
    "        if self.parent is None: \n",
    "            return self\n",
    "        return self.parent.root\n",
    "    \n",
    "    def __repr__(self):\n",
    "        return f\"{self.path} ({type(self).__name__}, {self.size})\"\n",
    "\n",
    "class File(FSItem): \n",
    "    def __init__(self, parent, name, size): \n",
    "        self.parent = parent\n",
    "        self.name   = name\n",
    "        self.size   = size\n",
    "\n",
    "class Folder(FSItem): \n",
    "    def __init__(self, parent, name):\n",
    "        self.parent = parent\n",
    "        self.name   = name\n",
    "        self.items  = {}\n",
    "        \n",
    "    def get(self, path):\n",
    "        if path == \"/\":\n",
    "            return self.root\n",
    "        if path == \"..\": \n",
    "            return self.parent\n",
    "        return self.items.setdefault(path, Folder(self, path))\n",
    "    \n",
    "    def ls(self):\n",
    "        return [item.name for item in self.items.values()]\n",
    "        \n",
    "    def mkdir(self, name):\n",
    "        self.items[name] = Folder(self, name)\n",
    "        \n",
    "    def touch(self, name, size):\n",
    "        self.items[name] = File(self, name, size)\n",
    "        \n",
    "    def exists(self, name):\n",
    "        return name in self.children\n",
    "    \n",
    "    def __len__(self):\n",
    "        return len(self.items)\n",
    "    \n",
    "    @property\n",
    "    def size(self):\n",
    "        if len(self) == 0: \n",
    "            return 0\n",
    "        \n",
    "        return sum([item.size for item in self.items.values()])\n",
    "    \n",
    "    def find(self, callback):\n",
    "        matches = []\n",
    "        \n",
    "        if callback(self): \n",
    "            matches.append(self)\n",
    "            \n",
    "        for item in self.items.values():\n",
    "            if isinstance(item, Folder):\n",
    "                matches.extend(item.find(callback))\n",
    "            elif callback(item): \n",
    "                matches.append(item)\n",
    "                \n",
    "        return matches\n",
    "            \n",
    "        \n",
    "class Shell: \n",
    "    def __init__(self):\n",
    "        self.root = Folder(None, \"/\")\n",
    "        self.cdir = self.root\n",
    "        \n",
    "    def execute(self, command): \n",
    "        if command.startswith(\"$ cd\"): \n",
    "            self.cdir = self.cdir.get(path=command[5:])\n",
    "    \n",
    "class Program: \n",
    "    def __init__(self, shell=None):\n",
    "        self.shell = shell or Shell()\n",
    "        \n",
    "    def parse(self, stdout):\n",
    "        for line in stdout: \n",
    "            if line.startswith(\"$\"): \n",
    "                self.shell.execute(line)\n",
    "                continue\n",
    "                \n",
    "            search = re.match(\"(\\d+) ([A-Za-z\\.]+)\", line)\n",
    "\n",
    "            if search:\n",
    "                size, filename = search.groups()\n",
    "                self.shell.cdir.touch(filename, int(size))\n",
    "        \n",
    "        return self\n",
    "    \n",
    "def solve(data): \n",
    "    program = Program()\n",
    "    program.parse(data)\n",
    "    \n",
    "    return sum(\n",
    "        [\n",
    "            folder.size \n",
    "            for folder \n",
    "            in program.shell.root.find(\n",
    "                lambda i: isinstance(i, Folder) and i.size <= 100000\n",
    "            )\n",
    "        ]\n",
    "    )\n",
    "\n",
    "solve(data)"
   ]
  },
  {
   "cell_type": "markdown",
   "id": "446df672",
   "metadata": {},
   "source": [
    "# Part 2"
   ]
  },
  {
   "cell_type": "code",
   "execution_count": 3,
   "id": "87ff7d70",
   "metadata": {
    "ExecuteTime": {
     "end_time": "2022-12-07T16:19:14.819021Z",
     "start_time": "2022-12-07T16:19:14.811866Z"
    }
   },
   "outputs": [
    {
     "data": {
      "text/plain": [
       "8474158"
      ]
     },
     "execution_count": 3,
     "metadata": {},
     "output_type": "execute_result"
    }
   ],
   "source": [
    "def solve(data): \n",
    "    program = Program()\n",
    "    program.parse(data)\n",
    "    \n",
    "    total_disk_size  = 70000000\n",
    "    total_used_space = program.shell.root.size \n",
    "    total_free_space = total_disk_size - total_used_space\n",
    "    \n",
    "    required_space = 30000000\n",
    "    total_missing_space = max(0, required_space - total_free_space)\n",
    "    \n",
    "    # find all folders which are at least this big\n",
    "    eligible_folders = program.shell.root.find(\n",
    "        lambda i: isinstance(i, Folder) and i.size >= total_missing_space\n",
    "    )\n",
    "    \n",
    "    # sort in order\n",
    "    sorted_eligible_folders = sorted(eligible_folders, key=lambda f: f.size)\n",
    "    \n",
    "    # return the first (= smallest) folder which, if deleted, would allow to free\n",
    "    # up the total_missing_space\n",
    "    return sorted_eligible_folders[0].size\n",
    "\n",
    "solve(data)"
   ]
  }
 ],
 "metadata": {
  "kernelspec": {
   "display_name": "Python 3 (ipykernel)",
   "language": "python",
   "name": "python3"
  },
  "language_info": {
   "codemirror_mode": {
    "name": "ipython",
    "version": 3
   },
   "file_extension": ".py",
   "mimetype": "text/x-python",
   "name": "python",
   "nbconvert_exporter": "python",
   "pygments_lexer": "ipython3",
   "version": "3.9.1"
  }
 },
 "nbformat": 4,
 "nbformat_minor": 5
}
