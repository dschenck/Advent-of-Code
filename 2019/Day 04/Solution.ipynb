{
 "cells": [
  {
   "cell_type": "code",
   "execution_count": 1,
   "metadata": {
    "collapsed": true
   },
   "outputs": [],
   "source": [
    "bounds = (273025, 767253)"
   ]
  },
  {
   "cell_type": "markdown",
   "metadata": {},
   "source": [
    "## Part 1"
   ]
  },
  {
   "cell_type": "code",
   "execution_count": 2,
   "metadata": {
    "collapsed": false
   },
   "outputs": [
    {
     "data": {
      "text/plain": [
       "910"
      ]
     },
     "execution_count": 2,
     "metadata": {},
     "output_type": "execute_result"
    }
   ],
   "source": [
    "def isvalid(number): \n",
    "    double, string = False, str(number)\n",
    "    for i, char in enumerate(string):\n",
    "        if i == 0: \n",
    "            continue\n",
    "        if int(char) < int(string[i-1]): \n",
    "            return False\n",
    "        if char == string[i-1]: \n",
    "            double = True\n",
    "    return double\n",
    "\n",
    "def solve(bounds): \n",
    "    count = 0\n",
    "    for n in range(bounds[0], bounds[1]+1): \n",
    "        if isvalid(n): \n",
    "            count += 1\n",
    "    return count\n",
    "\n",
    "solve(bounds)"
   ]
  },
  {
   "cell_type": "markdown",
   "metadata": {},
   "source": [
    "## Part 2"
   ]
  },
  {
   "cell_type": "code",
   "execution_count": 3,
   "metadata": {
    "collapsed": false
   },
   "outputs": [
    {
     "data": {
      "text/plain": [
       "598"
      ]
     },
     "execution_count": 3,
     "metadata": {},
     "output_type": "execute_result"
    }
   ],
   "source": [
    "def isvalid(number): \n",
    "    double, string = False, str(number)\n",
    "    for i, char in enumerate(string):\n",
    "        if i == 0: \n",
    "            continue\n",
    "        if int(char) < int(string[i-1]): \n",
    "            return False\n",
    "        if char == string[i-1]: \n",
    "            double = True\n",
    "    if not double:\n",
    "        return False\n",
    "    for char in set(string): \n",
    "        if (\"{0}\"*2).format(char) in string and (\"{0}\"*3).format(char) not in string: \n",
    "            return True\n",
    "    return False\n",
    "\n",
    "def solve(bounds): \n",
    "    count = 0\n",
    "    for n in range(bounds[0], bounds[1]+1): \n",
    "        if isvalid(n): \n",
    "            count += 1\n",
    "    return count\n",
    "\n",
    "solve(bounds)"
   ]
  }
 ],
 "metadata": {
  "kernelspec": {
   "display_name": "Python 3",
   "language": "python",
   "name": "python3"
  },
  "language_info": {
   "codemirror_mode": {
    "name": "ipython",
    "version": 3
   },
   "file_extension": ".py",
   "mimetype": "text/x-python",
   "name": "python",
   "nbconvert_exporter": "python",
   "pygments_lexer": "ipython3",
   "version": "3.6.1"
  }
 },
 "nbformat": 4,
 "nbformat_minor": 2
}
