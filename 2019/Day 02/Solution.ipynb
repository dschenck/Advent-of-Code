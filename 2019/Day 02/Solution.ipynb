{
 "cells": [
  {
   "cell_type": "code",
   "execution_count": 1,
   "metadata": {
    "collapsed": true,
    "deletable": true,
    "editable": true
   },
   "outputs": [],
   "source": [
    "with open(\"input.txt\", \"r\") as f: \n",
    "    file = f.read().strip()"
   ]
  },
  {
   "cell_type": "markdown",
   "metadata": {
    "deletable": true,
    "editable": true
   },
   "source": [
    "## Part 1"
   ]
  },
  {
   "cell_type": "code",
   "execution_count": 2,
   "metadata": {
    "collapsed": false,
    "deletable": true,
    "editable": true
   },
   "outputs": [
    {
     "name": "stdout",
     "output_type": "stream",
     "text": [
      "4690667\n"
     ]
    }
   ],
   "source": [
    "codes = [int(x) for x in file.split(\",\")]\n",
    "codes[1] = 12\n",
    "codes[2] = 2\n",
    "\n",
    "def run(codes):\n",
    "    position = 0\n",
    "    while codes[position] != 99:\n",
    "        operation = codes[position]\n",
    "        operands = codes[codes[position+1]], codes[codes[position+2]]\n",
    "        if operation == 1: \n",
    "            codes[codes[position+3]] = operands[0] + operands[1]\n",
    "        else: \n",
    "            codes[codes[position+3]] = operands[0] * operands[1]\n",
    "        position += 4\n",
    "    return codes\n",
    "\n",
    "output = run(codes[:])\n",
    "print(output[0])"
   ]
  },
  {
   "cell_type": "markdown",
   "metadata": {
    "deletable": true,
    "editable": true
   },
   "source": [
    "## Part 2"
   ]
  },
  {
   "cell_type": "code",
   "execution_count": 3,
   "metadata": {
    "collapsed": false,
    "deletable": true,
    "editable": true
   },
   "outputs": [
    {
     "name": "stdout",
     "output_type": "stream",
     "text": [
      "6255\n"
     ]
    }
   ],
   "source": [
    "def solve(codes, target): \n",
    "    for noun in range(100): \n",
    "        for verb in range(100): \n",
    "            try: \n",
    "                output = run(codes[0:1] + [noun, verb] + codes[3:])\n",
    "                if output[0] == target: \n",
    "                    return noun, verb\n",
    "            except: \n",
    "                pass\n",
    "    raise RuntimeError(\"Unable to solve problem\")\n",
    "\n",
    "noun, verb = solve(codes, 19690720)\n",
    "print(100*noun + verb)"
   ]
  }
 ],
 "metadata": {
  "kernelspec": {
   "display_name": "Python 3",
   "language": "python",
   "name": "python3"
  },
  "language_info": {
   "codemirror_mode": {
    "name": "ipython",
    "version": 3
   },
   "file_extension": ".py",
   "mimetype": "text/x-python",
   "name": "python",
   "nbconvert_exporter": "python",
   "pygments_lexer": "ipython3",
   "version": "3.6.1"
  }
 },
 "nbformat": 4,
 "nbformat_minor": 2
}
