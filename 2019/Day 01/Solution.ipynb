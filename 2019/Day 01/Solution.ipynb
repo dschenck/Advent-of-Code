{
 "cells": [
  {
   "cell_type": "code",
   "execution_count": 1,
   "metadata": {
    "collapsed": false
   },
   "outputs": [],
   "source": [
    "with open(\"input.txt\",\"r\") as f: \n",
    "    inputs = [int(line) for line in f.read().strip().split(\"\\n\")]"
   ]
  },
  {
   "cell_type": "markdown",
   "metadata": {},
   "source": [
    "## Part 1"
   ]
  },
  {
   "cell_type": "code",
   "execution_count": 2,
   "metadata": {
    "collapsed": false
   },
   "outputs": [
    {
     "name": "stdout",
     "output_type": "stream",
     "text": [
      "the required fuel to propel the spacecraft is 3318632\n"
     ]
    }
   ],
   "source": [
    "def fuel(mass):\n",
    "    return max(int(mass/3) - 2,0)\n",
    "\n",
    "total = sum(fuel(m) for m in inputs)\n",
    "print(f\"the required fuel to propel the spacecraft is {total}\")"
   ]
  },
  {
   "cell_type": "markdown",
   "metadata": {},
   "source": [
    "## Part 2"
   ]
  },
  {
   "cell_type": "code",
   "execution_count": 3,
   "metadata": {
    "collapsed": false
   },
   "outputs": [
    {
     "name": "stdout",
     "output_type": "stream",
     "text": [
      "the total amount of fuel required to propel the spacecraft, including the fuel, is 4975084\n"
     ]
    }
   ],
   "source": [
    "def recursivefuel(mass): \n",
    "    fuels = [mass]\n",
    "    while True: \n",
    "        if fuels[-1] == 0: \n",
    "            return sum(fuels) - mass\n",
    "        fuels.append(fuel(fuels[-1]))       \n",
    "\n",
    "total = sum(recursivefuel(m) for m in inputs)\n",
    "print(f\"the total amount of fuel required to propel the spacecraft, including the fuel, is {total}\")"
   ]
  }
 ],
 "metadata": {
  "kernelspec": {
   "display_name": "Python 3",
   "language": "python",
   "name": "python3"
  },
  "language_info": {
   "codemirror_mode": {
    "name": "ipython",
    "version": 3
   },
   "file_extension": ".py",
   "mimetype": "text/x-python",
   "name": "python",
   "nbconvert_exporter": "python",
   "pygments_lexer": "ipython3",
   "version": "3.6.1"
  }
 },
 "nbformat": 4,
 "nbformat_minor": 2
}
