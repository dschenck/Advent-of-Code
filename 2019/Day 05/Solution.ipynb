{
 "cells": [
  {
   "cell_type": "code",
   "execution_count": 1,
   "metadata": {
    "collapsed": true,
    "deletable": true,
    "editable": true
   },
   "outputs": [],
   "source": [
    "with open(\"input.txt\", \"r\") as f: \n",
    "    file = [int(x) for x in f.read().strip().split(\",\")]"
   ]
  },
  {
   "cell_type": "markdown",
   "metadata": {
    "deletable": true,
    "editable": true
   },
   "source": [
    "## Part 1"
   ]
  },
  {
   "cell_type": "code",
   "execution_count": 27,
   "metadata": {
    "collapsed": false
   },
   "outputs": [
    {
     "data": {
      "text/plain": [
       "[0, 0, 0, 0, 0, 0, 0, 0, 0, 7988899]"
      ]
     },
     "execution_count": 27,
     "metadata": {},
     "output_type": "execute_result"
    }
   ],
   "source": [
    "def run(codes, i=1, pointer=0):\n",
    "    operations = {\n",
    "        \"1\":lambda a, b: a+b, \n",
    "        \"2\":lambda a, b: a*b,\n",
    "        \"5\":lambda a, b, p: b if a != 0 else p + 3,\n",
    "        \"6\":lambda a, b, p: b if a == 0 else p + 3,\n",
    "        \"7\":lambda a, b: 1 if a < b else 0,\n",
    "        \"8\":lambda a, b: 1 if a == b else 0\n",
    "    }\n",
    "    outputs = []\n",
    "    \n",
    "    while codes[pointer] != 99: \n",
    "        instruction = str(codes[pointer]).rjust(6, \"0\")\n",
    "    \n",
    "        if instruction[-1] in [\"1\",\"2\",\"5\",\"6\",\"7\",\"8\"]: \n",
    "            a = codes[codes[pointer+1]] if instruction[-3] == \"0\" else codes[pointer+1]\n",
    "            b = codes[codes[pointer+2]] if instruction[-4] == \"0\" else codes[pointer+2]\n",
    "            \n",
    "            if instruction[-1] in [\"5\",\"6\"]:\n",
    "                pointer = operations[instruction[-1]](a, b, pointer)\n",
    "            else: \n",
    "                codes[codes[pointer+3]] = operations[instruction[-1]](a, b)\n",
    "                pointer += 4\n",
    "            \n",
    "        elif instruction[-1] == \"3\": \n",
    "            codes[codes[pointer+1]] = i\n",
    "            pointer += 2\n",
    "            \n",
    "        elif instruction[-1] == \"4\":\n",
    "            outputs.append(codes[codes[pointer+1]] if instruction[-3] == \"0\" else codes[pointer+1])\n",
    "            pointer += 2\n",
    "    return outputs\n",
    "        \n",
    "run(file[:], 1)"
   ]
  },
  {
   "cell_type": "code",
   "execution_count": 28,
   "metadata": {
    "collapsed": false
   },
   "outputs": [
    {
     "data": {
      "text/plain": [
       "[13758663]"
      ]
     },
     "execution_count": 28,
     "metadata": {},
     "output_type": "execute_result"
    }
   ],
   "source": [
    "run(file[:], 5)"
   ]
  },
  {
   "cell_type": "code",
   "execution_count": null,
   "metadata": {
    "collapsed": true
   },
   "outputs": [],
   "source": []
  }
 ],
 "metadata": {
  "kernelspec": {
   "display_name": "Python 3",
   "language": "python",
   "name": "python3"
  },
  "language_info": {
   "codemirror_mode": {
    "name": "ipython",
    "version": 3
   },
   "file_extension": ".py",
   "mimetype": "text/x-python",
   "name": "python",
   "nbconvert_exporter": "python",
   "pygments_lexer": "ipython3",
   "version": "3.6.1"
  }
 },
 "nbformat": 4,
 "nbformat_minor": 2
}
