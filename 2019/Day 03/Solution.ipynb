{
 "cells": [
  {
   "cell_type": "code",
   "execution_count": 1,
   "metadata": {
    "collapsed": true
   },
   "outputs": [],
   "source": [
    "with open(\"input.txt\", \"r\") as f: \n",
    "    file = f.read().strip().split(\"\\n\")"
   ]
  },
  {
   "cell_type": "markdown",
   "metadata": {},
   "source": [
    "## Part 1"
   ]
  },
  {
   "cell_type": "code",
   "execution_count": 2,
   "metadata": {
    "collapsed": false
   },
   "outputs": [
    {
     "data": {
      "text/plain": [
       "1337"
      ]
     },
     "execution_count": 2,
     "metadata": {},
     "output_type": "execute_result"
    }
   ],
   "source": [
    "def draw(cable): \n",
    "    path, position = [], (0, 0)\n",
    "    for seg in cable.split(\",\"): \n",
    "        if seg[0] == \"U\": \n",
    "            x, y = 0, 1\n",
    "        elif seg[0] == \"D\": \n",
    "            x, y = 0, -1\n",
    "        elif seg[0] == \"R\":\n",
    "            x, y = 1, 0\n",
    "        elif seg[0] == \"L\":\n",
    "            x, y = -1, 0\n",
    "        for _ in range(int(seg[1:])):\n",
    "            position = position[0] + x, position[1] + y\n",
    "            path.append(position)\n",
    "    return path\n",
    "\n",
    "def solve(cables):\n",
    "    p1 = draw(cables[0])\n",
    "    p2 = draw(cables[1])\n",
    "    intersections = set(p1).intersection(set(p2))\n",
    "    return min([abs(x) + abs(y) for (x, y) in intersections])\n",
    "\n",
    "solve(file)"
   ]
  },
  {
   "cell_type": "markdown",
   "metadata": {},
   "source": [
    "## Part 2"
   ]
  },
  {
   "cell_type": "code",
   "execution_count": 3,
   "metadata": {
    "collapsed": false
   },
   "outputs": [
    {
     "data": {
      "text/plain": [
       "65356"
      ]
     },
     "execution_count": 3,
     "metadata": {},
     "output_type": "execute_result"
    }
   ],
   "source": [
    "def draw(cable): \n",
    "    positions, position = dict(), (0, 0)\n",
    "    steps = 0\n",
    "    for seg in cable.split(\",\"): \n",
    "        if seg[0] == \"U\": \n",
    "            x, y = 0, 1\n",
    "        elif seg[0] == \"D\": \n",
    "            x, y = 0, -1\n",
    "        elif seg[0] == \"R\":\n",
    "            x, y = 1, 0\n",
    "        elif seg[0] == \"L\":\n",
    "            x, y = -1, 0\n",
    "        for _ in range(int(seg[1:])):\n",
    "            steps += 1\n",
    "            position = position[0] + x, position[1] + y\n",
    "            if position not in positions: \n",
    "                positions[position] = steps\n",
    "    return positions\n",
    "\n",
    "def solve(cables):\n",
    "    p1 = draw(cables[0])\n",
    "    p2 = draw(cables[1])\n",
    "    intersections = set(p1.keys()).intersection(set(p2.keys()))    \n",
    "    return min([p1[(x, y)] + p2[(x, y)] for (x, y) in intersections])\n",
    "\n",
    "solve(file)"
   ]
  }
 ],
 "metadata": {
  "kernelspec": {
   "display_name": "Python 3",
   "language": "python",
   "name": "python3"
  },
  "language_info": {
   "codemirror_mode": {
    "name": "ipython",
    "version": 3
   },
   "file_extension": ".py",
   "mimetype": "text/x-python",
   "name": "python",
   "nbconvert_exporter": "python",
   "pygments_lexer": "ipython3",
   "version": "3.6.1"
  }
 },
 "nbformat": 4,
 "nbformat_minor": 2
}
