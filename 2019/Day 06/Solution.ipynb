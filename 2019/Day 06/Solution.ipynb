{
 "cells": [
  {
   "cell_type": "code",
   "execution_count": 6,
   "metadata": {
    "collapsed": false
   },
   "outputs": [],
   "source": [
    "with open(\"input.txt\", \"r\") as f: \n",
    "    file = f.read().strip().split(\"\\n\")"
   ]
  },
  {
   "cell_type": "code",
   "execution_count": 7,
   "metadata": {
    "collapsed": false
   },
   "outputs": [],
   "source": [
    "#create a mapping satellite:parent\n",
    "skymap = {that:this for this, that in [tuple(line.split(\")\")) for line in file]}"
   ]
  },
  {
   "cell_type": "markdown",
   "metadata": {},
   "source": [
    "## Part 1"
   ]
  },
  {
   "cell_type": "code",
   "execution_count": 11,
   "metadata": {
    "collapsed": false
   },
   "outputs": [
    {
     "data": {
      "text/plain": [
       "387356"
      ]
     },
     "execution_count": 11,
     "metadata": {},
     "output_type": "execute_result"
    }
   ],
   "source": [
    "def trace(planet, skymap):\n",
    "    \"\"\"\n",
    "    returns the line from the planet to COM\n",
    "    \"\"\"\n",
    "    planets = [planet]\n",
    "    while planets[-1] != \"COM\":\n",
    "        planets.append(skymap[planets[-1]])\n",
    "    return planets[::-1]\n",
    "\n",
    "def solve(skymap):\n",
    "    planets = set(skymap.keys()).union(skymap.values())\n",
    "    return sum(len(trace(planet, skymap))-1 for planet in planets)\n",
    "\n",
    "solve(skymap)"
   ]
  },
  {
   "cell_type": "markdown",
   "metadata": {},
   "source": [
    "## Part 2"
   ]
  },
  {
   "cell_type": "code",
   "execution_count": 12,
   "metadata": {
    "collapsed": false
   },
   "outputs": [
    {
     "data": {
      "text/plain": [
       "532"
      ]
     },
     "execution_count": 12,
     "metadata": {},
     "output_type": "execute_result"
    }
   ],
   "source": [
    "def solve(skymap, origin=\"YOU\", destination=\"SAN\"):\n",
    "    san = trace(\"SAN\", skymap)\n",
    "    you = trace(\"YOU\", skymap)\n",
    "    return len(san) + len(you) - 2 * len(set(san).intersection(set(you))) - 2\n",
    "    \n",
    "solve(skymap)"
   ]
  }
 ],
 "metadata": {
  "kernelspec": {
   "display_name": "Python 3",
   "language": "python",
   "name": "python3"
  },
  "language_info": {
   "codemirror_mode": {
    "name": "ipython",
    "version": 3
   },
   "file_extension": ".py",
   "mimetype": "text/x-python",
   "name": "python",
   "nbconvert_exporter": "python",
   "pygments_lexer": "ipython3",
   "version": "3.6.1"
  }
 },
 "nbformat": 4,
 "nbformat_minor": 2
}
