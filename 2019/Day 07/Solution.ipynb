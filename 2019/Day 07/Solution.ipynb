{
 "cells": [
  {
   "cell_type": "code",
   "execution_count": 5,
   "metadata": {
    "collapsed": true,
    "deletable": true,
    "editable": true
   },
   "outputs": [],
   "source": [
    "with open(\"input.txt\", \"r\") as f: \n",
    "    file = [int(x) for x in f.read().strip().split(\",\")]"
   ]
  },
  {
   "cell_type": "markdown",
   "metadata": {
    "deletable": true,
    "editable": true
   },
   "source": [
    "## Part 1"
   ]
  },
  {
   "cell_type": "code",
   "execution_count": 32,
   "metadata": {
    "collapsed": false,
    "deletable": true,
    "editable": true
   },
   "outputs": [
    {
     "data": {
      "text/plain": [
       "(255590, (4, 1, 2, 3, 0))"
      ]
     },
     "execution_count": 32,
     "metadata": {},
     "output_type": "execute_result"
    }
   ],
   "source": [
    "import itertools \n",
    "\n",
    "def run(codes, inputs=(0,0), pointer=0):\n",
    "    operations = {\n",
    "        \"1\":lambda a, b: a+b, \n",
    "        \"2\":lambda a, b: a*b,\n",
    "        \"5\":lambda a, b, p: b if a != 0 else p + 3,\n",
    "        \"6\":lambda a, b, p: b if a == 0 else p + 3,\n",
    "        \"7\":lambda a, b: 1 if a < b else 0,\n",
    "        \"8\":lambda a, b: 1 if a == b else 0\n",
    "    }\n",
    "    outputs = []\n",
    "    \n",
    "    while codes[pointer] != 99: \n",
    "        instruction = str(codes[pointer]).rjust(6, \"0\")\n",
    "    \n",
    "        if instruction[-1] in [\"1\",\"2\",\"5\",\"6\",\"7\",\"8\"]: \n",
    "            a = codes[codes[pointer+1]] if instruction[-3] == \"0\" else codes[pointer+1]\n",
    "            b = codes[codes[pointer+2]] if instruction[-4] == \"0\" else codes[pointer+2]\n",
    "            \n",
    "            if instruction[-1] in [\"5\",\"6\"]:\n",
    "                pointer = operations[instruction[-1]](a, b, pointer)\n",
    "            else: \n",
    "                codes[codes[pointer+3]] = operations[instruction[-1]](a, b)\n",
    "                pointer += 4\n",
    "            \n",
    "        elif instruction[-1] == \"3\":\n",
    "            if isinstance(inputs, tuple):\n",
    "                codes[codes[pointer+1]] = inputs[0]\n",
    "                inputs = inputs[1]\n",
    "            else: \n",
    "                codes[codes[pointer+1]] = inputs\n",
    "            pointer += 2\n",
    "            \n",
    "        elif instruction[-1] == \"4\":\n",
    "            outputs.append(codes[codes[pointer+1]] if instruction[-3] == \"0\" else codes[pointer+1])\n",
    "            pointer += 2\n",
    "    return outputs\n",
    "\n",
    "def chain(settings, codes): \n",
    "    for i in range(len(settings)):\n",
    "        if i == 0: \n",
    "            outputs = run(codes[:], (settings[i], 0))\n",
    "        else: \n",
    "            outputs = run(codes[:], (settings[i], outputs[-1], ))\n",
    "    return outputs\n",
    "\n",
    "def solve(codes):\n",
    "    outputs = []\n",
    "    for p in itertools.permutations([0,1,2,3,4]):\n",
    "        outputs.append((chain(p, codes[:])[-1], p))\n",
    "    return sorted(outputs, key=lambda x: x[0], reverse=True)[0]\n",
    "\n",
    "solve(file)"
   ]
  },
  {
   "cell_type": "markdown",
   "metadata": {},
   "source": [
    "## Part 2"
   ]
  }
 ],
 "metadata": {
  "kernelspec": {
   "display_name": "Python 3",
   "language": "python",
   "name": "python3"
  },
  "language_info": {
   "codemirror_mode": {
    "name": "ipython",
    "version": 3
   },
   "file_extension": ".py",
   "mimetype": "text/x-python",
   "name": "python",
   "nbconvert_exporter": "python",
   "pygments_lexer": "ipython3",
   "version": "3.6.1"
  }
 },
 "nbformat": 4,
 "nbformat_minor": 2
}
