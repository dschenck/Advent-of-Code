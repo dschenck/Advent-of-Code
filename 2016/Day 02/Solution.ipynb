{
 "cells": [
  {
   "cell_type": "code",
   "execution_count": 1,
   "metadata": {
    "collapsed": true
   },
   "outputs": [],
   "source": [
    "with open(\"input.txt\", \"r\") as f: \n",
    "    file = f.read().strip().split(\"\\n\")"
   ]
  },
  {
   "cell_type": "markdown",
   "metadata": {},
   "source": [
    "## Part 1"
   ]
  },
  {
   "cell_type": "code",
   "execution_count": 2,
   "metadata": {
    "collapsed": false
   },
   "outputs": [
    {
     "data": {
      "text/plain": [
       "'73597'"
      ]
     },
     "execution_count": 2,
     "metadata": {},
     "output_type": "execute_result"
    }
   ],
   "source": [
    "def decode(file):\n",
    "    keypad = [[1,2,3],[4,5,6],[7,8,9]]\n",
    "    x, y = 1, 1\n",
    "    output = []\n",
    "    for line in file:\n",
    "        for char in line: \n",
    "            if char == \"U\": \n",
    "                y = max(y-1,0)\n",
    "            elif char == \"D\": \n",
    "                y = min(y+1,2)\n",
    "            elif char == \"L\":\n",
    "                x = max(x-1, 0)\n",
    "            elif char == \"R\": \n",
    "                x = min(x+1,2)\n",
    "        output.append(keypad[y][x])\n",
    "    return \"\".join([str(x) for x in output])\n",
    "\n",
    "decode(file)"
   ]
  },
  {
   "cell_type": "markdown",
   "metadata": {},
   "source": [
    "## Part 2"
   ]
  },
  {
   "cell_type": "code",
   "execution_count": 3,
   "metadata": {
    "collapsed": false
   },
   "outputs": [
    {
     "data": {
      "text/plain": [
       "'A47DA'"
      ]
     },
     "execution_count": 3,
     "metadata": {},
     "output_type": "execute_result"
    }
   ],
   "source": [
    "def decode(file):\n",
    "    keypad = [[0,0,1,0,0],[0,2,3,4,0],[5,6,7,8,9],[0,\"A\",\"B\",\"C\",0],[0,0,\"D\",0,0]]\n",
    "    x, y = 0, 2\n",
    "    output = []\n",
    "    for line in file:\n",
    "        for char in line: \n",
    "            if char == \"U\": \n",
    "                y = max(y-1,0) if keypad[max(y-1,0)][x] != 0 else y\n",
    "            elif char == \"D\": \n",
    "                y = min(y+1,4) if keypad[min(y+1,4)][x] != 0 else y\n",
    "            elif char == \"L\":\n",
    "                x = max(x-1,0) if keypad[y][max(x-1,0)] != 0 else x\n",
    "            elif char == \"R\": \n",
    "                x = min(x+1,4) if keypad[y][min(x+1,4)] != 0 else x\n",
    "        output.append(keypad[y][x])\n",
    "    return \"\".join([str(x) for x in output])\n",
    "\n",
    "decode(file)"
   ]
  }
 ],
 "metadata": {
  "kernelspec": {
   "display_name": "Python 3",
   "language": "python",
   "name": "python3"
  },
  "language_info": {
   "codemirror_mode": {
    "name": "ipython",
    "version": 3
   },
   "file_extension": ".py",
   "mimetype": "text/x-python",
   "name": "python",
   "nbconvert_exporter": "python",
   "pygments_lexer": "ipython3",
   "version": "3.6.1"
  }
 },
 "nbformat": 4,
 "nbformat_minor": 2
}
