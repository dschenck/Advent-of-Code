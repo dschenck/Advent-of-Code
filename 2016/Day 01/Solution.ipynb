{
 "cells": [
  {
   "cell_type": "code",
   "execution_count": 1,
   "metadata": {
    "collapsed": true
   },
   "outputs": [],
   "source": [
    "with open(\"input.txt\", \"r\") as f: \n",
    "    file = f.read().strip().split(\",\")"
   ]
  },
  {
   "cell_type": "markdown",
   "metadata": {},
   "source": [
    "## Part 1"
   ]
  },
  {
   "cell_type": "code",
   "execution_count": 2,
   "metadata": {
    "collapsed": false
   },
   "outputs": [
    {
     "name": "stdout",
     "output_type": "stream",
     "text": [
      "The total distance is 243 blocks away from the origin\n"
     ]
    }
   ],
   "source": [
    "instructions = [x.strip() for x in file]\n",
    "\n",
    "def travel(instructions, starting=(0, 0, \"N\")):\n",
    "    x, y, d, steps = 0, 0, \"N\", []\n",
    "    for instruction in instructions: \n",
    "        if d == \"N\": \n",
    "            if instruction[0] == \"R\": \n",
    "                d = \"E\"\n",
    "            else: \n",
    "                d = \"W\"\n",
    "        elif d == \"E\":\n",
    "            if instruction[0] == \"R\": \n",
    "                d = \"S\"\n",
    "            else: \n",
    "                d = \"N\"\n",
    "        elif d == \"S\":\n",
    "            if instruction[0] == \"R\": \n",
    "                d = \"W\"\n",
    "            else: \n",
    "                d = \"E\"\n",
    "        elif d == \"W\":\n",
    "            if instruction[0] == \"R\": \n",
    "                d = \"N\"\n",
    "            else: \n",
    "                d = \"S\"\n",
    "        for step in range(int(instruction[1:])): \n",
    "            if d == \"E\":\n",
    "                x += 1\n",
    "            elif d == \"W\":\n",
    "                x -= 1\n",
    "            elif d == \"N\":\n",
    "                y += 1\n",
    "            elif d == \"S\":\n",
    "                y -= 1\n",
    "            steps.append((x, y, d))\n",
    "    return x, y, d, abs(x) + abs(y), steps\n",
    "\n",
    "x, y, d, distance, steps = travel(instructions)\n",
    "\n",
    "print(\"The total distance is\", distance, \"blocks away from the origin\")"
   ]
  },
  {
   "cell_type": "markdown",
   "metadata": {},
   "source": [
    "## Part 2"
   ]
  },
  {
   "cell_type": "code",
   "execution_count": 3,
   "metadata": {
    "collapsed": false
   },
   "outputs": [
    {
     "name": "stdout",
     "output_type": "stream",
     "text": [
      "-11 -131 142\n"
     ]
    }
   ],
   "source": [
    "def find(steps):\n",
    "    history = set()\n",
    "    for x, y, d in steps: \n",
    "        if (x, y) in history: \n",
    "            return (x, y, abs(x) + abs(y))\n",
    "        history.add((x, y))\n",
    "    raise RuntimeError(\"Unable to find solution\")\n",
    "    \n",
    "x, y, distance = find(steps)\n",
    "\n",
    "print(x, y, distance)"
   ]
  },
  {
   "cell_type": "markdown",
   "metadata": {},
   "source": [
    "## Part 3 (bonus)"
   ]
  },
  {
   "cell_type": "code",
   "execution_count": 4,
   "metadata": {
    "collapsed": false
   },
   "outputs": [
    {
     "data": {
      "image/png": "[encoded data removed]",
      "text/plain": [
       "<matplotlib.figure.Figure at 0x10e338630>"
      ]
     },
     "metadata": {},
     "output_type": "display_data"
    }
   ],
   "source": [
    "%matplotlib inline\n",
    "import matplotlib.pyplot as plt\n",
    "\n",
    "plt.figure(figsize=(16,10))\n",
    "plt.plot([(x) for x, y, d in steps], [(y) for x, y, d in steps], label=\"path\")\n",
    "plt.scatter([x],[y], label=\"first colision\", marker=\"o\", facecolor=\"black\", edgecolor=None, zorder=100)\n",
    "plt.legend(loc=\"best\")\n",
    "plt.grid()\n",
    "plt.show()"
   ]
  }
 ],
 "metadata": {
  "kernelspec": {
   "display_name": "Python 3",
   "language": "python",
   "name": "python3"
  },
  "language_info": {
   "codemirror_mode": {
    "name": "ipython",
    "version": 3
   },
   "file_extension": ".py",
   "mimetype": "text/x-python",
   "name": "python",
   "nbconvert_exporter": "python",
   "pygments_lexer": "ipython3",
   "version": "3.6.1"
  }
 },
 "nbformat": 4,
 "nbformat_minor": 2
}
